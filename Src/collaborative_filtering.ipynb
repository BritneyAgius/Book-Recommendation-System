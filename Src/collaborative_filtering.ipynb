{
 "cells": [
  {
   "attachments": {},
   "cell_type": "markdown",
   "metadata": {},
   "source": [
    "**1. Reading In Books We Like**"
   ]
  },
  {
   "cell_type": "code",
   "execution_count": 1,
   "metadata": {},
   "outputs": [],
   "source": [
    "import pandas as pd \n",
    "\n",
    "my_books = pd.read_csv(\"liked_books.csv\", index_col=0)\n",
    "my_books[\"book_id\"] = my_books[\"book_id\"].astype(str)"
   ]
  },
  {
   "cell_type": "code",
   "execution_count": 2,
   "metadata": {},
   "outputs": [
    {
     "data": {
      "text/html": [
       "<div>\n",
       "<style scoped>\n",
       "    .dataframe tbody tr th:only-of-type {\n",
       "        vertical-align: middle;\n",
       "    }\n",
       "\n",
       "    .dataframe tbody tr th {\n",
       "        vertical-align: top;\n",
       "    }\n",
       "\n",
       "    .dataframe thead th {\n",
       "        text-align: right;\n",
       "    }\n",
       "</style>\n",
       "<table border=\"1\" class=\"dataframe\">\n",
       "  <thead>\n",
       "    <tr style=\"text-align: right;\">\n",
       "      <th></th>\n",
       "      <th>user_id</th>\n",
       "      <th>book_id</th>\n",
       "      <th>rating</th>\n",
       "      <th>title</th>\n",
       "    </tr>\n",
       "  </thead>\n",
       "  <tbody>\n",
       "    <tr>\n",
       "      <th>0</th>\n",
       "      <td>-1</td>\n",
       "      <td>17788401</td>\n",
       "      <td>3</td>\n",
       "      <td>Ugly Love</td>\n",
       "    </tr>\n",
       "    <tr>\n",
       "      <th>1</th>\n",
       "      <td>-1</td>\n",
       "      <td>60310757</td>\n",
       "      <td>5</td>\n",
       "      <td>Lightlark (Lightlark, #1)</td>\n",
       "    </tr>\n",
       "    <tr>\n",
       "      <th>2</th>\n",
       "      <td>-1</td>\n",
       "      <td>58410355</td>\n",
       "      <td>0</td>\n",
       "      <td>Nightbane (Lightlark #2)</td>\n",
       "    </tr>\n",
       "    <tr>\n",
       "      <th>3</th>\n",
       "      <td>-1</td>\n",
       "      <td>64645812</td>\n",
       "      <td>0</td>\n",
       "      <td>If Only I Had Told Her</td>\n",
       "    </tr>\n",
       "    <tr>\n",
       "      <th>4</th>\n",
       "      <td>-1</td>\n",
       "      <td>44676678</td>\n",
       "      <td>4</td>\n",
       "      <td>If He Had Been with Me</td>\n",
       "    </tr>\n",
       "    <tr>\n",
       "      <th>...</th>\n",
       "      <td>...</td>\n",
       "      <td>...</td>\n",
       "      <td>...</td>\n",
       "      <td>...</td>\n",
       "    </tr>\n",
       "    <tr>\n",
       "      <th>101</th>\n",
       "      <td>-1</td>\n",
       "      <td>23003206</td>\n",
       "      <td>0</td>\n",
       "      <td>Everything I Never Told You</td>\n",
       "    </tr>\n",
       "    <tr>\n",
       "      <th>102</th>\n",
       "      <td>-1</td>\n",
       "      <td>3437</td>\n",
       "      <td>1</td>\n",
       "      <td>The Curious Incident of the Dog in the Night-Time</td>\n",
       "    </tr>\n",
       "    <tr>\n",
       "      <th>103</th>\n",
       "      <td>-1</td>\n",
       "      <td>4378870</td>\n",
       "      <td>3</td>\n",
       "      <td>The Boy in the Striped Pajamas</td>\n",
       "    </tr>\n",
       "    <tr>\n",
       "      <th>104</th>\n",
       "      <td>-1</td>\n",
       "      <td>18690890</td>\n",
       "      <td>3</td>\n",
       "      <td>Paper Towns</td>\n",
       "    </tr>\n",
       "    <tr>\n",
       "      <th>105</th>\n",
       "      <td>-1</td>\n",
       "      <td>17416065</td>\n",
       "      <td>4</td>\n",
       "      <td>Looking for Alaska</td>\n",
       "    </tr>\n",
       "  </tbody>\n",
       "</table>\n",
       "<p>105 rows × 4 columns</p>\n",
       "</div>"
      ],
      "text/plain": [
       "     user_id   book_id  rating   \n",
       "0         -1  17788401       3  \\\n",
       "1         -1  60310757       5   \n",
       "2         -1  58410355       0   \n",
       "3         -1  64645812       0   \n",
       "4         -1  44676678       4   \n",
       "..       ...       ...     ...   \n",
       "101       -1  23003206       0   \n",
       "102       -1      3437       1   \n",
       "103       -1   4378870       3   \n",
       "104       -1  18690890       3   \n",
       "105       -1  17416065       4   \n",
       "\n",
       "                                                 title  \n",
       "0                                            Ugly Love  \n",
       "1                            Lightlark (Lightlark, #1)  \n",
       "2                             Nightbane (Lightlark #2)  \n",
       "3                               If Only I Had Told Her  \n",
       "4                               If He Had Been with Me  \n",
       "..                                                 ...  \n",
       "101                        Everything I Never Told You  \n",
       "102  The Curious Incident of the Dog in the Night-Time  \n",
       "103                     The Boy in the Striped Pajamas  \n",
       "104                                        Paper Towns  \n",
       "105                                 Looking for Alaska  \n",
       "\n",
       "[105 rows x 4 columns]"
      ]
     },
     "execution_count": 2,
     "metadata": {},
     "output_type": "execute_result"
    }
   ],
   "source": [
    "my_books"
   ]
  },
  {
   "cell_type": "code",
   "execution_count": 3,
   "metadata": {},
   "outputs": [],
   "source": [
    "my_books[\"book_id\"] = my_books[\"book_id\"].astype(str)"
   ]
  },
  {
   "attachments": {},
   "cell_type": "markdown",
   "metadata": {},
   "source": [
    "**2. Finding Similar Users**"
   ]
  },
  {
   "cell_type": "code",
   "execution_count": 4,
   "metadata": {},
   "outputs": [],
   "source": [
    "csv_book_mapping = {}\n",
    "\n",
    "with open(\"book_id_map.csv\", \"r\") as f:\n",
    "    while True:\n",
    "        line = f.readline()\n",
    "        if not line:\n",
    "            break\n",
    "        csv_id, book_id = line.strip().split(\",\")\n",
    "        csv_book_mapping[csv_id] = book_id"
   ]
  },
  {
   "attachments": {},
   "cell_type": "markdown",
   "metadata": {},
   "source": [
    "**Set that contains all of the unique books that we have read.**"
   ]
  },
  {
   "cell_type": "code",
   "execution_count": 5,
   "metadata": {},
   "outputs": [],
   "source": [
    "book_set = set(my_books[\"book_id\"])"
   ]
  },
  {
   "attachments": {},
   "cell_type": "markdown",
   "metadata": {},
   "source": [
    "**Every user that read the same book as us will be plaved in this overlap users dictionary.**"
   ]
  },
  {
   "cell_type": "code",
   "execution_count": 6,
   "metadata": {},
   "outputs": [
    {
     "name": "stdout",
     "output_type": "stream",
     "text": [
      " 228648343 goodreads_interactions.csv\n"
     ]
    }
   ],
   "source": [
    "!wc -l goodreads_interactions.csv"
   ]
  },
  {
   "attachments": {},
   "cell_type": "markdown",
   "metadata": {},
   "source": [
    "**Note: _ means that we do not care about that variable.**"
   ]
  },
  {
   "cell_type": "code",
   "execution_count": 7,
   "metadata": {},
   "outputs": [],
   "source": [
    "overlap_users = {}\n",
    "\n",
    "with open(\"goodreads_interactions.csv\", 'r') as f:\n",
    "    while True:\n",
    "        line = f.readline()\n",
    "        if not line:\n",
    "            break\n",
    "        user_id, csv_id, _, rating, _ = line.split(\",\")\n",
    "        \n",
    "        book_id = csv_book_mapping.get(csv_id)\n",
    "        \n",
    "        if book_id in book_set:\n",
    "            if user_id not in overlap_users:\n",
    "                overlap_users[user_id] = 1\n",
    "            else:\n",
    "                overlap_users[user_id] += 1"
   ]
  },
  {
   "cell_type": "code",
   "execution_count": 8,
   "metadata": {},
   "outputs": [],
   "source": [
    "filtered_overlap_users = set([k for k in overlap_users if overlap_users[k] > my_books.shape[0]/5])"
   ]
  },
  {
   "attachments": {},
   "cell_type": "markdown",
   "metadata": {},
   "source": [
    "**3. Finding Similar User Book Ratings**"
   ]
  },
  {
   "cell_type": "code",
   "execution_count": 9,
   "metadata": {},
   "outputs": [],
   "source": [
    "interactions_list = []\n",
    "\n",
    "with open(\"goodreads_interactions.csv\") as f:\n",
    "    while True:\n",
    "        line = f.readline()\n",
    "        if not line:\n",
    "            break\n",
    "\n",
    "        user_id, csv_id, _, rating, _ = line.strip().split(\",\")\n",
    "        if user_id in filtered_overlap_users:\n",
    "            book_id = csv_book_mapping[csv_id]\n",
    "            interactions_list.append([user_id, book_id, rating]) "
   ]
  },
  {
   "attachments": {},
   "cell_type": "markdown",
   "metadata": {},
   "source": [
    "**4. Creating A User /Book Matrix**"
   ]
  },
  {
   "cell_type": "code",
   "execution_count": 10,
   "metadata": {},
   "outputs": [
    {
     "data": {
      "text/plain": [
       "1620249"
      ]
     },
     "execution_count": 10,
     "metadata": {},
     "output_type": "execute_result"
    }
   ],
   "source": [
    "len(interactions_list)"
   ]
  },
  {
   "cell_type": "code",
   "execution_count": 11,
   "metadata": {},
   "outputs": [
    {
     "data": {
      "text/plain": [
       "['281', '6216670', '5']"
      ]
     },
     "execution_count": 11,
     "metadata": {},
     "output_type": "execute_result"
    }
   ],
   "source": [
    "interactions_list[0]"
   ]
  },
  {
   "attachments": {},
   "cell_type": "markdown",
   "metadata": {},
   "source": [
    "**DateFrame**"
   ]
  },
  {
   "cell_type": "code",
   "execution_count": 12,
   "metadata": {},
   "outputs": [],
   "source": [
    "interactions = pd.DataFrame(interactions_list, columns=[\"user_id\", \"book_id\", \"rating\"])"
   ]
  },
  {
   "cell_type": "code",
   "execution_count": 13,
   "metadata": {},
   "outputs": [],
   "source": [
    "interactions = pd.concat([my_books[[\"user_id\", \"book_id\", \"rating\"]], interactions])"
   ]
  },
  {
   "cell_type": "code",
   "execution_count": 14,
   "metadata": {},
   "outputs": [
    {
     "data": {
      "text/html": [
       "<div>\n",
       "<style scoped>\n",
       "    .dataframe tbody tr th:only-of-type {\n",
       "        vertical-align: middle;\n",
       "    }\n",
       "\n",
       "    .dataframe tbody tr th {\n",
       "        vertical-align: top;\n",
       "    }\n",
       "\n",
       "    .dataframe thead th {\n",
       "        text-align: right;\n",
       "    }\n",
       "</style>\n",
       "<table border=\"1\" class=\"dataframe\">\n",
       "  <thead>\n",
       "    <tr style=\"text-align: right;\">\n",
       "      <th></th>\n",
       "      <th>user_id</th>\n",
       "      <th>book_id</th>\n",
       "      <th>rating</th>\n",
       "    </tr>\n",
       "  </thead>\n",
       "  <tbody>\n",
       "    <tr>\n",
       "      <th>0</th>\n",
       "      <td>-1</td>\n",
       "      <td>17788401</td>\n",
       "      <td>3</td>\n",
       "    </tr>\n",
       "    <tr>\n",
       "      <th>1</th>\n",
       "      <td>-1</td>\n",
       "      <td>60310757</td>\n",
       "      <td>5</td>\n",
       "    </tr>\n",
       "    <tr>\n",
       "      <th>2</th>\n",
       "      <td>-1</td>\n",
       "      <td>58410355</td>\n",
       "      <td>0</td>\n",
       "    </tr>\n",
       "    <tr>\n",
       "      <th>3</th>\n",
       "      <td>-1</td>\n",
       "      <td>64645812</td>\n",
       "      <td>0</td>\n",
       "    </tr>\n",
       "    <tr>\n",
       "      <th>4</th>\n",
       "      <td>-1</td>\n",
       "      <td>44676678</td>\n",
       "      <td>4</td>\n",
       "    </tr>\n",
       "    <tr>\n",
       "      <th>...</th>\n",
       "      <td>...</td>\n",
       "      <td>...</td>\n",
       "      <td>...</td>\n",
       "    </tr>\n",
       "    <tr>\n",
       "      <th>1620244</th>\n",
       "      <td>441283</td>\n",
       "      <td>35068798</td>\n",
       "      <td>0</td>\n",
       "    </tr>\n",
       "    <tr>\n",
       "      <th>1620245</th>\n",
       "      <td>441283</td>\n",
       "      <td>34227692</td>\n",
       "      <td>0</td>\n",
       "    </tr>\n",
       "    <tr>\n",
       "      <th>1620246</th>\n",
       "      <td>441283</td>\n",
       "      <td>32969999</td>\n",
       "      <td>0</td>\n",
       "    </tr>\n",
       "    <tr>\n",
       "      <th>1620247</th>\n",
       "      <td>441283</td>\n",
       "      <td>23705532</td>\n",
       "      <td>0</td>\n",
       "    </tr>\n",
       "    <tr>\n",
       "      <th>1620248</th>\n",
       "      <td>441283</td>\n",
       "      <td>31451203</td>\n",
       "      <td>0</td>\n",
       "    </tr>\n",
       "  </tbody>\n",
       "</table>\n",
       "<p>1620354 rows × 3 columns</p>\n",
       "</div>"
      ],
      "text/plain": [
       "        user_id   book_id rating\n",
       "0            -1  17788401      3\n",
       "1            -1  60310757      5\n",
       "2            -1  58410355      0\n",
       "3            -1  64645812      0\n",
       "4            -1  44676678      4\n",
       "...         ...       ...    ...\n",
       "1620244  441283  35068798      0\n",
       "1620245  441283  34227692      0\n",
       "1620246  441283  32969999      0\n",
       "1620247  441283  23705532      0\n",
       "1620248  441283  31451203      0\n",
       "\n",
       "[1620354 rows x 3 columns]"
      ]
     },
     "execution_count": 14,
     "metadata": {},
     "output_type": "execute_result"
    }
   ],
   "source": [
    "interactions"
   ]
  },
  {
   "cell_type": "code",
   "execution_count": 15,
   "metadata": {},
   "outputs": [],
   "source": [
    "interactions[\"book_id\"] = interactions[\"book_id\"].astype(str)\n",
    "interactions[\"user_id\"] = interactions[\"user_id\"].astype(str)\n",
    "interactions[\"rating\"] = pd.to_numeric(interactions[\"rating\"])"
   ]
  },
  {
   "cell_type": "code",
   "execution_count": 16,
   "metadata": {},
   "outputs": [
    {
     "data": {
      "text/plain": [
       "array(['-1', '281', '1033', '2794', '3012', '7488', '9959', '13856',\n",
       "       '22124', '22864', '23326', '28128', '34134', '40239', '45510',\n",
       "       '51611', '55191', '65620', '66585', '77736', '79624', '83250',\n",
       "       '83293', '83470', '89997', '91247', '93625', '96010', '99975',\n",
       "       '100939', '105106', '106001', '113970', '116512', '119660',\n",
       "       '121119', '122431', '126987', '130849', '132126', '137133',\n",
       "       '138588', '141311', '143201', '145486', '146601', '147132',\n",
       "       '154116', '155631', '157964', '165733', '171930', '173042',\n",
       "       '173804', '177877', '180813', '180817', '182379', '183847',\n",
       "       '188693', '191515', '192434', '192632', '193311', '195488',\n",
       "       '198123', '198161', '199610', '199839', '200059', '205784',\n",
       "       '206213', '206369', '207960', '207969', '209647', '210169',\n",
       "       '210394', '212288', '213935', '214546', '214711', '214914',\n",
       "       '215878', '216545', '217460', '219243', '219898', '219965',\n",
       "       '220824', '220848', '222577', '223539', '223750', '227507',\n",
       "       '234799', '235327', '238739', '240112', '241317', '243937',\n",
       "       '244714', '247060', '248513', '249440', '250158', '250352',\n",
       "       '250501', '251001', '253867', '254986', '256125', '261037',\n",
       "       '262743', '262876', '265244', '268313', '269658', '275756',\n",
       "       '275859', '275919', '276205', '280135', '280329', '280376',\n",
       "       '281092', '281730', '281975', '285413', '286783', '287931',\n",
       "       '289783', '290715', '292451', '292866', '296243', '302411',\n",
       "       '304498', '304931', '305751', '307293', '308145', '309437',\n",
       "       '310443', '314551', '315505', '319043', '320562', '320956',\n",
       "       '323006', '328347', '328392', '330532', '332865', '339267',\n",
       "       '339532', '340318', '342391', '344112', '344866', '345200',\n",
       "       '346124', '350604', '352660', '354890', '355383', '357791',\n",
       "       '358104', '358376', '359399', '363014', '368287', '368734',\n",
       "       '376047', '378877', '379734', '381867', '386631', '387451',\n",
       "       '393482', '396456', '398655', '400505', '400875', '405396',\n",
       "       '405905', '407453', '412615', '413104', '419276', '419793',\n",
       "       '422015', '430041', '432209', '433594', '436968', '438894',\n",
       "       '440975', '441283'], dtype=object)"
      ]
     },
     "execution_count": 16,
     "metadata": {},
     "output_type": "execute_result"
    }
   ],
   "source": [
    "interactions[\"user_id\"].unique()"
   ]
  },
  {
   "attachments": {},
   "cell_type": "markdown",
   "metadata": {},
   "source": [
    "**Note: cat.codes means category codes.**"
   ]
  },
  {
   "cell_type": "code",
   "execution_count": 17,
   "metadata": {},
   "outputs": [],
   "source": [
    "interactions[\"user_index\"] = interactions[\"user_id\"].astype(\"category\").cat.codes"
   ]
  },
  {
   "attachments": {},
   "cell_type": "markdown",
   "metadata": {},
   "source": [
    "**User ID and Book Id - To Position.**"
   ]
  },
  {
   "cell_type": "code",
   "execution_count": 18,
   "metadata": {},
   "outputs": [
    {
     "data": {
      "text/plain": [
       "array([  0, 103,   2,  99, 116, 187, 197,  14,  65,  70,  71, 105, 138,\n",
       "       166, 182, 183, 184, 185, 186, 188, 189, 190, 191, 192, 193, 194,\n",
       "       195, 196, 198,   1,   3,   4,   5,   6,   7,   8,   9,  10,  11,\n",
       "        12,  13,  15,  16,  17,  18,  19,  20,  21,  22,  23,  24,  25,\n",
       "        26,  27,  28,  29,  30,  31,  32,  33,  34,  35,  36,  37,  38,\n",
       "        39,  40,  41,  42,  43,  44,  45,  46,  47,  48,  49,  50,  51,\n",
       "        52,  53,  54,  55,  56,  57,  58,  59,  60,  61,  62,  63,  64,\n",
       "        66,  67,  68,  69,  72,  73,  74,  75,  76,  77,  78,  79,  80,\n",
       "        81,  82,  83,  84,  85,  86,  87,  88,  89,  90,  91,  92,  93,\n",
       "        94,  95,  96,  97,  98, 100, 101, 102, 104, 106, 107, 108, 109,\n",
       "       110, 111, 112, 113, 114, 115, 117, 118, 119, 120, 121, 122, 123,\n",
       "       124, 125, 126, 127, 128, 129, 130, 131, 132, 133, 134, 135, 136,\n",
       "       137, 139, 140, 141, 142, 143, 144, 145, 146, 147, 148, 149, 150,\n",
       "       151, 152, 153, 154, 155, 156, 157, 158, 159, 160, 161, 162, 163,\n",
       "       164, 165, 167, 168, 169, 170, 171, 172, 173, 174, 175, 176, 177,\n",
       "       178, 179, 180, 181], dtype=int16)"
      ]
     },
     "execution_count": 18,
     "metadata": {},
     "output_type": "execute_result"
    }
   ],
   "source": [
    "interactions[\"user_index\"].unique()"
   ]
  },
  {
   "cell_type": "code",
   "execution_count": 19,
   "metadata": {},
   "outputs": [],
   "source": [
    "interactions[\"book_index\"] = interactions[\"book_id\"].astype(\"category\").cat.codes"
   ]
  },
  {
   "attachments": {},
   "cell_type": "markdown",
   "metadata": {},
   "source": [
    "**Note 1: Sparse Matrix will be used.**"
   ]
  },
  {
   "attachments": {},
   "cell_type": "markdown",
   "metadata": {},
   "source": [
    "**Note 2: if there is no value in a column you just leave it blank and not take up any memory or storage space (Sparse Matrix).**"
   ]
  },
  {
   "cell_type": "code",
   "execution_count": 20,
   "metadata": {},
   "outputs": [],
   "source": [
    "from scipy.sparse import coo_matrix\n",
    "\n",
    "ratings_mat_coo = coo_matrix((interactions[\"rating\"], (interactions[\"user_index\"], interactions[\"book_index\"])))"
   ]
  },
  {
   "cell_type": "code",
   "execution_count": 21,
   "metadata": {},
   "outputs": [
    {
     "data": {
      "text/plain": [
       "<199x461150 sparse matrix of type '<class 'numpy.int64'>'\n",
       "\twith 1620354 stored elements in COOrdinate format>"
      ]
     },
     "execution_count": 21,
     "metadata": {},
     "output_type": "execute_result"
    }
   ],
   "source": [
    "ratings_mat_coo"
   ]
  },
  {
   "attachments": {},
   "cell_type": "markdown",
   "metadata": {},
   "source": [
    "**Convert coo matrix to csr matrix.**"
   ]
  },
  {
   "attachments": {},
   "cell_type": "markdown",
   "metadata": {},
   "source": [
    "**coo matrices are a little bit easier to create which is why we initially created it in coo format and now we are going to convert it in csr format.**"
   ]
  },
  {
   "cell_type": "code",
   "execution_count": 22,
   "metadata": {},
   "outputs": [],
   "source": [
    "ratings_mat = ratings_mat_coo.tocsr()"
   ]
  },
  {
   "attachments": {},
   "cell_type": "markdown",
   "metadata": {},
   "source": [
    "**5. Finding Users Similar To Us**"
   ]
  },
  {
   "cell_type": "code",
   "execution_count": 23,
   "metadata": {},
   "outputs": [
    {
     "data": {
      "text/html": [
       "<div>\n",
       "<style scoped>\n",
       "    .dataframe tbody tr th:only-of-type {\n",
       "        vertical-align: middle;\n",
       "    }\n",
       "\n",
       "    .dataframe tbody tr th {\n",
       "        vertical-align: top;\n",
       "    }\n",
       "\n",
       "    .dataframe thead th {\n",
       "        text-align: right;\n",
       "    }\n",
       "</style>\n",
       "<table border=\"1\" class=\"dataframe\">\n",
       "  <thead>\n",
       "    <tr style=\"text-align: right;\">\n",
       "      <th></th>\n",
       "      <th>user_id</th>\n",
       "      <th>book_id</th>\n",
       "      <th>rating</th>\n",
       "      <th>user_index</th>\n",
       "      <th>book_index</th>\n",
       "    </tr>\n",
       "  </thead>\n",
       "  <tbody>\n",
       "    <tr>\n",
       "      <th>0</th>\n",
       "      <td>-1</td>\n",
       "      <td>17788401</td>\n",
       "      <td>3</td>\n",
       "      <td>0</td>\n",
       "      <td>116370</td>\n",
       "    </tr>\n",
       "    <tr>\n",
       "      <th>1</th>\n",
       "      <td>-1</td>\n",
       "      <td>60310757</td>\n",
       "      <td>5</td>\n",
       "      <td>0</td>\n",
       "      <td>387557</td>\n",
       "    </tr>\n",
       "    <tr>\n",
       "      <th>2</th>\n",
       "      <td>-1</td>\n",
       "      <td>58410355</td>\n",
       "      <td>0</td>\n",
       "      <td>0</td>\n",
       "      <td>383990</td>\n",
       "    </tr>\n",
       "    <tr>\n",
       "      <th>3</th>\n",
       "      <td>-1</td>\n",
       "      <td>64645812</td>\n",
       "      <td>0</td>\n",
       "      <td>0</td>\n",
       "      <td>398594</td>\n",
       "    </tr>\n",
       "    <tr>\n",
       "      <th>4</th>\n",
       "      <td>-1</td>\n",
       "      <td>44676678</td>\n",
       "      <td>4</td>\n",
       "      <td>0</td>\n",
       "      <td>366641</td>\n",
       "    </tr>\n",
       "    <tr>\n",
       "      <th>...</th>\n",
       "      <td>...</td>\n",
       "      <td>...</td>\n",
       "      <td>...</td>\n",
       "      <td>...</td>\n",
       "      <td>...</td>\n",
       "    </tr>\n",
       "    <tr>\n",
       "      <th>101</th>\n",
       "      <td>-1</td>\n",
       "      <td>23003206</td>\n",
       "      <td>0</td>\n",
       "      <td>0</td>\n",
       "      <td>200857</td>\n",
       "    </tr>\n",
       "    <tr>\n",
       "      <th>102</th>\n",
       "      <td>-1</td>\n",
       "      <td>3437</td>\n",
       "      <td>1</td>\n",
       "      <td>0</td>\n",
       "      <td>341345</td>\n",
       "    </tr>\n",
       "    <tr>\n",
       "      <th>103</th>\n",
       "      <td>-1</td>\n",
       "      <td>4378870</td>\n",
       "      <td>3</td>\n",
       "      <td>0</td>\n",
       "      <td>365383</td>\n",
       "    </tr>\n",
       "    <tr>\n",
       "      <th>104</th>\n",
       "      <td>-1</td>\n",
       "      <td>18690890</td>\n",
       "      <td>3</td>\n",
       "      <td>0</td>\n",
       "      <td>142559</td>\n",
       "    </tr>\n",
       "    <tr>\n",
       "      <th>105</th>\n",
       "      <td>-1</td>\n",
       "      <td>17416065</td>\n",
       "      <td>4</td>\n",
       "      <td>0</td>\n",
       "      <td>109244</td>\n",
       "    </tr>\n",
       "  </tbody>\n",
       "</table>\n",
       "<p>105 rows × 5 columns</p>\n",
       "</div>"
      ],
      "text/plain": [
       "    user_id   book_id  rating  user_index  book_index\n",
       "0        -1  17788401       3           0      116370\n",
       "1        -1  60310757       5           0      387557\n",
       "2        -1  58410355       0           0      383990\n",
       "3        -1  64645812       0           0      398594\n",
       "4        -1  44676678       4           0      366641\n",
       "..      ...       ...     ...         ...         ...\n",
       "101      -1  23003206       0           0      200857\n",
       "102      -1      3437       1           0      341345\n",
       "103      -1   4378870       3           0      365383\n",
       "104      -1  18690890       3           0      142559\n",
       "105      -1  17416065       4           0      109244\n",
       "\n",
       "[105 rows x 5 columns]"
      ]
     },
     "execution_count": 23,
     "metadata": {},
     "output_type": "execute_result"
    }
   ],
   "source": [
    "interactions[interactions[\"user_id\"] == \"-1\"]"
   ]
  },
  {
   "cell_type": "code",
   "execution_count": 24,
   "metadata": {},
   "outputs": [],
   "source": [
    "my_index = 0"
   ]
  },
  {
   "attachments": {},
   "cell_type": "markdown",
   "metadata": {},
   "source": [
    "**Use a cosine similarity measure to find users that are similar to us and have similar taste in books.**"
   ]
  },
  {
   "attachments": {},
   "cell_type": "markdown",
   "metadata": {},
   "source": [
    "**Cosine similarity will just find the similarity between two rows in our matrix so that we can find how similar each user is to us in terms of what books they read and how they rated them.**"
   ]
  },
  {
   "cell_type": "code",
   "execution_count": 25,
   "metadata": {},
   "outputs": [],
   "source": [
    "from sklearn.metrics.pairwise import cosine_similarity\n",
    "\n",
    "similarity = cosine_similarity(ratings_mat[my_index,:], ratings_mat).flatten()"
   ]
  },
  {
   "cell_type": "code",
   "execution_count": 26,
   "metadata": {},
   "outputs": [
    {
     "data": {
      "text/plain": [
       "1.0000000000000007"
      ]
     },
     "execution_count": 26,
     "metadata": {},
     "output_type": "execute_result"
    }
   ],
   "source": [
    "similarity[0]"
   ]
  },
  {
   "attachments": {},
   "cell_type": "markdown",
   "metadata": {},
   "source": [
    "**We will find the indices of the users who are most similar to us - That is what this numpy r partition function does - We're passing in negative 15. So what we're going to find are the 15 users who have the most similar taste.**"
   ]
  },
  {
   "cell_type": "code",
   "execution_count": 27,
   "metadata": {},
   "outputs": [],
   "source": [
    "import numpy as np\n",
    "\n",
    "indices = np.argpartition(similarity, -15)[-15:]"
   ]
  },
  {
   "cell_type": "code",
   "execution_count": 28,
   "metadata": {},
   "outputs": [
    {
     "data": {
      "text/plain": [
       "array([ 90,  51,  98,  45,  72,  42,  89,  64, 132, 129,  83,  67, 104,\n",
       "        93,   0])"
      ]
     },
     "execution_count": 28,
     "metadata": {},
     "output_type": "execute_result"
    }
   ],
   "source": [
    "indices"
   ]
  },
  {
   "attachments": {},
   "cell_type": "markdown",
   "metadata": {},
   "source": [
    "**Find all of the rows in interactions where the user index is in our indices.**"
   ]
  },
  {
   "cell_type": "code",
   "execution_count": 29,
   "metadata": {},
   "outputs": [],
   "source": [
    "similar_users = interactions[interactions[\"user_index\"].isin(indices)].copy()"
   ]
  },
  {
   "attachments": {},
   "cell_type": "markdown",
   "metadata": {},
   "source": [
    "**We'll just take ourselves out so we do not get book recommendations from ourselves.**"
   ]
  },
  {
   "cell_type": "code",
   "execution_count": 30,
   "metadata": {},
   "outputs": [],
   "source": [
    "similar_users = similar_users[similar_users[\"user_id\"]!=\"-1\"]"
   ]
  },
  {
   "cell_type": "code",
   "execution_count": 31,
   "metadata": {},
   "outputs": [
    {
     "data": {
      "text/html": [
       "<div>\n",
       "<style scoped>\n",
       "    .dataframe tbody tr th:only-of-type {\n",
       "        vertical-align: middle;\n",
       "    }\n",
       "\n",
       "    .dataframe tbody tr th {\n",
       "        vertical-align: top;\n",
       "    }\n",
       "\n",
       "    .dataframe thead th {\n",
       "        text-align: right;\n",
       "    }\n",
       "</style>\n",
       "<table border=\"1\" class=\"dataframe\">\n",
       "  <thead>\n",
       "    <tr style=\"text-align: right;\">\n",
       "      <th></th>\n",
       "      <th>user_id</th>\n",
       "      <th>book_id</th>\n",
       "      <th>rating</th>\n",
       "      <th>user_index</th>\n",
       "      <th>book_index</th>\n",
       "    </tr>\n",
       "  </thead>\n",
       "  <tbody>\n",
       "    <tr>\n",
       "      <th>675471</th>\n",
       "      <td>199839</td>\n",
       "      <td>270807</td>\n",
       "      <td>4</td>\n",
       "      <td>42</td>\n",
       "      <td>271119</td>\n",
       "    </tr>\n",
       "    <tr>\n",
       "      <th>675472</th>\n",
       "      <td>199839</td>\n",
       "      <td>28194</td>\n",
       "      <td>4</td>\n",
       "      <td>42</td>\n",
       "      <td>282944</td>\n",
       "    </tr>\n",
       "    <tr>\n",
       "      <th>675473</th>\n",
       "      <td>199839</td>\n",
       "      <td>16068905</td>\n",
       "      <td>4</td>\n",
       "      <td>42</td>\n",
       "      <td>87673</td>\n",
       "    </tr>\n",
       "    <tr>\n",
       "      <th>675474</th>\n",
       "      <td>199839</td>\n",
       "      <td>6186357</td>\n",
       "      <td>4</td>\n",
       "      <td>42</td>\n",
       "      <td>391168</td>\n",
       "    </tr>\n",
       "    <tr>\n",
       "      <th>675475</th>\n",
       "      <td>199839</td>\n",
       "      <td>7631105</td>\n",
       "      <td>4</td>\n",
       "      <td>42</td>\n",
       "      <td>421656</td>\n",
       "    </tr>\n",
       "    <tr>\n",
       "      <th>...</th>\n",
       "      <td>...</td>\n",
       "      <td>...</td>\n",
       "      <td>...</td>\n",
       "      <td>...</td>\n",
       "      <td>...</td>\n",
       "    </tr>\n",
       "    <tr>\n",
       "      <th>1093408</th>\n",
       "      <td>328392</td>\n",
       "      <td>28259094</td>\n",
       "      <td>0</td>\n",
       "      <td>132</td>\n",
       "      <td>284212</td>\n",
       "    </tr>\n",
       "    <tr>\n",
       "      <th>1093409</th>\n",
       "      <td>328392</td>\n",
       "      <td>22433390</td>\n",
       "      <td>0</td>\n",
       "      <td>132</td>\n",
       "      <td>188235</td>\n",
       "    </tr>\n",
       "    <tr>\n",
       "      <th>1093410</th>\n",
       "      <td>328392</td>\n",
       "      <td>29386918</td>\n",
       "      <td>0</td>\n",
       "      <td>132</td>\n",
       "      <td>296293</td>\n",
       "    </tr>\n",
       "    <tr>\n",
       "      <th>1093411</th>\n",
       "      <td>328392</td>\n",
       "      <td>32320661</td>\n",
       "      <td>0</td>\n",
       "      <td>132</td>\n",
       "      <td>325012</td>\n",
       "    </tr>\n",
       "    <tr>\n",
       "      <th>1093412</th>\n",
       "      <td>328392</td>\n",
       "      <td>35495826</td>\n",
       "      <td>0</td>\n",
       "      <td>132</td>\n",
       "      <td>349620</td>\n",
       "    </tr>\n",
       "  </tbody>\n",
       "</table>\n",
       "<p>19358 rows × 5 columns</p>\n",
       "</div>"
      ],
      "text/plain": [
       "        user_id   book_id  rating  user_index  book_index\n",
       "675471   199839    270807       4          42      271119\n",
       "675472   199839     28194       4          42      282944\n",
       "675473   199839  16068905       4          42       87673\n",
       "675474   199839   6186357       4          42      391168\n",
       "675475   199839   7631105       4          42      421656\n",
       "...         ...       ...     ...         ...         ...\n",
       "1093408  328392  28259094       0         132      284212\n",
       "1093409  328392  22433390       0         132      188235\n",
       "1093410  328392  29386918       0         132      296293\n",
       "1093411  328392  32320661       0         132      325012\n",
       "1093412  328392  35495826       0         132      349620\n",
       "\n",
       "[19358 rows x 5 columns]"
      ]
     },
     "execution_count": 31,
     "metadata": {},
     "output_type": "execute_result"
    }
   ],
   "source": [
    "similar_users"
   ]
  },
  {
   "attachments": {},
   "cell_type": "markdown",
   "metadata": {},
   "source": [
    "**6. Creating Book Recommendations**"
   ]
  },
  {
   "attachments": {},
   "cell_type": "markdown",
   "metadata": {},
   "source": [
    "**How many times each book appeared in these recommendations.**"
   ]
  },
  {
   "cell_type": "code",
   "execution_count": 32,
   "metadata": {},
   "outputs": [],
   "source": [
    "book_recs = similar_users.groupby(\"book_id\").rating.agg(['count', 'mean'])"
   ]
  },
  {
   "cell_type": "code",
   "execution_count": 33,
   "metadata": {},
   "outputs": [
    {
     "data": {
      "text/html": [
       "<div>\n",
       "<style scoped>\n",
       "    .dataframe tbody tr th:only-of-type {\n",
       "        vertical-align: middle;\n",
       "    }\n",
       "\n",
       "    .dataframe tbody tr th {\n",
       "        vertical-align: top;\n",
       "    }\n",
       "\n",
       "    .dataframe thead th {\n",
       "        text-align: right;\n",
       "    }\n",
       "</style>\n",
       "<table border=\"1\" class=\"dataframe\">\n",
       "  <thead>\n",
       "    <tr style=\"text-align: right;\">\n",
       "      <th></th>\n",
       "      <th>count</th>\n",
       "      <th>mean</th>\n",
       "    </tr>\n",
       "    <tr>\n",
       "      <th>book_id</th>\n",
       "      <th></th>\n",
       "      <th></th>\n",
       "    </tr>\n",
       "  </thead>\n",
       "  <tbody>\n",
       "    <tr>\n",
       "      <th>1</th>\n",
       "      <td>7</td>\n",
       "      <td>2.714286</td>\n",
       "    </tr>\n",
       "    <tr>\n",
       "      <th>10000191</th>\n",
       "      <td>1</td>\n",
       "      <td>0.000000</td>\n",
       "    </tr>\n",
       "    <tr>\n",
       "      <th>1000239</th>\n",
       "      <td>1</td>\n",
       "      <td>0.000000</td>\n",
       "    </tr>\n",
       "    <tr>\n",
       "      <th>1000392</th>\n",
       "      <td>1</td>\n",
       "      <td>0.000000</td>\n",
       "    </tr>\n",
       "    <tr>\n",
       "      <th>10016013</th>\n",
       "      <td>1</td>\n",
       "      <td>0.000000</td>\n",
       "    </tr>\n",
       "    <tr>\n",
       "      <th>...</th>\n",
       "      <td>...</td>\n",
       "      <td>...</td>\n",
       "    </tr>\n",
       "    <tr>\n",
       "      <th>9975679</th>\n",
       "      <td>2</td>\n",
       "      <td>0.000000</td>\n",
       "    </tr>\n",
       "    <tr>\n",
       "      <th>9978196</th>\n",
       "      <td>1</td>\n",
       "      <td>0.000000</td>\n",
       "    </tr>\n",
       "    <tr>\n",
       "      <th>998</th>\n",
       "      <td>1</td>\n",
       "      <td>0.000000</td>\n",
       "    </tr>\n",
       "    <tr>\n",
       "      <th>998578</th>\n",
       "      <td>1</td>\n",
       "      <td>4.000000</td>\n",
       "    </tr>\n",
       "    <tr>\n",
       "      <th>99944</th>\n",
       "      <td>1</td>\n",
       "      <td>0.000000</td>\n",
       "    </tr>\n",
       "  </tbody>\n",
       "</table>\n",
       "<p>12117 rows × 2 columns</p>\n",
       "</div>"
      ],
      "text/plain": [
       "          count      mean\n",
       "book_id                  \n",
       "1             7  2.714286\n",
       "10000191      1  0.000000\n",
       "1000239       1  0.000000\n",
       "1000392       1  0.000000\n",
       "10016013      1  0.000000\n",
       "...         ...       ...\n",
       "9975679       2  0.000000\n",
       "9978196       1  0.000000\n",
       "998           1  0.000000\n",
       "998578        1  4.000000\n",
       "99944         1  0.000000\n",
       "\n",
       "[12117 rows x 2 columns]"
      ]
     },
     "execution_count": 33,
     "metadata": {},
     "output_type": "execute_result"
    }
   ],
   "source": [
    "book_recs"
   ]
  },
  {
   "attachments": {},
   "cell_type": "markdown",
   "metadata": {},
   "source": [
    "**Adding book titles.**"
   ]
  },
  {
   "cell_type": "code",
   "execution_count": 34,
   "metadata": {},
   "outputs": [],
   "source": [
    "books_titles = pd.read_json(\"books_titles.json\")\n",
    "books_titles[\"book_id\"] = books_titles[\"book_id\"].astype(str)"
   ]
  },
  {
   "attachments": {},
   "cell_type": "markdown",
   "metadata": {},
   "source": [
    "**Merge our 2 datasets to get the book titles into our recommendations.**"
   ]
  },
  {
   "cell_type": "code",
   "execution_count": 35,
   "metadata": {},
   "outputs": [],
   "source": [
    "book_recs = book_recs.merge(books_titles, how=\"inner\", on=\"book_id\")"
   ]
  },
  {
   "cell_type": "code",
   "execution_count": 36,
   "metadata": {},
   "outputs": [
    {
     "data": {
      "text/html": [
       "<div>\n",
       "<style scoped>\n",
       "    .dataframe tbody tr th:only-of-type {\n",
       "        vertical-align: middle;\n",
       "    }\n",
       "\n",
       "    .dataframe tbody tr th {\n",
       "        vertical-align: top;\n",
       "    }\n",
       "\n",
       "    .dataframe thead th {\n",
       "        text-align: right;\n",
       "    }\n",
       "</style>\n",
       "<table border=\"1\" class=\"dataframe\">\n",
       "  <thead>\n",
       "    <tr style=\"text-align: right;\">\n",
       "      <th></th>\n",
       "      <th>book_id</th>\n",
       "      <th>count</th>\n",
       "      <th>mean</th>\n",
       "      <th>title</th>\n",
       "      <th>ratings</th>\n",
       "      <th>url</th>\n",
       "      <th>cover_image</th>\n",
       "      <th>mod_title</th>\n",
       "    </tr>\n",
       "  </thead>\n",
       "  <tbody>\n",
       "    <tr>\n",
       "      <th>0</th>\n",
       "      <td>1</td>\n",
       "      <td>7</td>\n",
       "      <td>2.714286</td>\n",
       "      <td>Harry Potter and the Half-Blood Prince (Harry ...</td>\n",
       "      <td>1713866</td>\n",
       "      <td>https://www.goodreads.com/book/show/1.Harry_Po...</td>\n",
       "      <td>https://images.gr-assets.com/books/1361039191m...</td>\n",
       "      <td>harry potter and the halfblood prince harry po...</td>\n",
       "    </tr>\n",
       "    <tr>\n",
       "      <th>1</th>\n",
       "      <td>10000191</td>\n",
       "      <td>1</td>\n",
       "      <td>0.000000</td>\n",
       "      <td>Yellow Crocus</td>\n",
       "      <td>17787</td>\n",
       "      <td>https://www.goodreads.com/book/show/10000191-y...</td>\n",
       "      <td>https://s.gr-assets.com/assets/nophoto/book/11...</td>\n",
       "      <td>yellow crocus</td>\n",
       "    </tr>\n",
       "    <tr>\n",
       "      <th>2</th>\n",
       "      <td>1000239</td>\n",
       "      <td>1</td>\n",
       "      <td>0.000000</td>\n",
       "      <td>My Secret War: The World War II Diary of Madel...</td>\n",
       "      <td>3189</td>\n",
       "      <td>https://www.goodreads.com/book/show/1000239.My...</td>\n",
       "      <td>https://s.gr-assets.com/assets/nophoto/book/11...</td>\n",
       "      <td>my secret war the world war ii diary of madeli...</td>\n",
       "    </tr>\n",
       "    <tr>\n",
       "      <th>3</th>\n",
       "      <td>1000392</td>\n",
       "      <td>1</td>\n",
       "      <td>0.000000</td>\n",
       "      <td>Naruto, Vol. 16: Eulogy (Naruto, #16)</td>\n",
       "      <td>5837</td>\n",
       "      <td>https://www.goodreads.com/book/show/1000392.Na...</td>\n",
       "      <td>https://images.gr-assets.com/books/1435525315m...</td>\n",
       "      <td>naruto vol 16 eulogy naruto 16</td>\n",
       "    </tr>\n",
       "    <tr>\n",
       "      <th>4</th>\n",
       "      <td>10016013</td>\n",
       "      <td>1</td>\n",
       "      <td>0.000000</td>\n",
       "      <td>Harry Potter and the Methods of Rationality</td>\n",
       "      <td>8691</td>\n",
       "      <td>https://www.goodreads.com/book/show/10016013-h...</td>\n",
       "      <td>https://images.gr-assets.com/books/1293582551m...</td>\n",
       "      <td>harry potter and the methods of rationality</td>\n",
       "    </tr>\n",
       "    <tr>\n",
       "      <th>...</th>\n",
       "      <td>...</td>\n",
       "      <td>...</td>\n",
       "      <td>...</td>\n",
       "      <td>...</td>\n",
       "      <td>...</td>\n",
       "      <td>...</td>\n",
       "      <td>...</td>\n",
       "      <td>...</td>\n",
       "    </tr>\n",
       "    <tr>\n",
       "      <th>11964</th>\n",
       "      <td>9975679</td>\n",
       "      <td>2</td>\n",
       "      <td>0.000000</td>\n",
       "      <td>Ashes (Ashes Trilogy, #1)</td>\n",
       "      <td>19788</td>\n",
       "      <td>https://www.goodreads.com/book/show/9975679-ashes</td>\n",
       "      <td>https://s.gr-assets.com/assets/nophoto/book/11...</td>\n",
       "      <td>ashes ashes trilogy 1</td>\n",
       "    </tr>\n",
       "    <tr>\n",
       "      <th>11965</th>\n",
       "      <td>9978196</td>\n",
       "      <td>1</td>\n",
       "      <td>0.000000</td>\n",
       "      <td>A Midsummer Tights Dream (The Misadventures of...</td>\n",
       "      <td>1785</td>\n",
       "      <td>https://www.goodreads.com/book/show/9978196-a-...</td>\n",
       "      <td>https://images.gr-assets.com/books/1327429845m...</td>\n",
       "      <td>a midsummer tights dream the misadventures of ...</td>\n",
       "    </tr>\n",
       "    <tr>\n",
       "      <th>11966</th>\n",
       "      <td>998</td>\n",
       "      <td>1</td>\n",
       "      <td>0.000000</td>\n",
       "      <td>The Millionaire Next Door: The Surprising Secr...</td>\n",
       "      <td>46032</td>\n",
       "      <td>https://www.goodreads.com/book/show/998.The_Mi...</td>\n",
       "      <td>https://s.gr-assets.com/assets/nophoto/book/11...</td>\n",
       "      <td>the millionaire next door the surprising secre...</td>\n",
       "    </tr>\n",
       "    <tr>\n",
       "      <th>11967</th>\n",
       "      <td>998578</td>\n",
       "      <td>1</td>\n",
       "      <td>4.000000</td>\n",
       "      <td>Batgirl, Vol. 5: Kicking Assassins</td>\n",
       "      <td>249</td>\n",
       "      <td>https://www.goodreads.com/book/show/998578.Bat...</td>\n",
       "      <td>https://s.gr-assets.com/assets/nophoto/book/11...</td>\n",
       "      <td>batgirl vol 5 kicking assassins</td>\n",
       "    </tr>\n",
       "    <tr>\n",
       "      <th>11968</th>\n",
       "      <td>99944</td>\n",
       "      <td>1</td>\n",
       "      <td>0.000000</td>\n",
       "      <td>The Bhagavad Gita</td>\n",
       "      <td>33855</td>\n",
       "      <td>https://www.goodreads.com/book/show/99944.The_...</td>\n",
       "      <td>https://images.gr-assets.com/books/1383059639m...</td>\n",
       "      <td>the bhagavad gita</td>\n",
       "    </tr>\n",
       "  </tbody>\n",
       "</table>\n",
       "<p>11969 rows × 8 columns</p>\n",
       "</div>"
      ],
      "text/plain": [
       "        book_id  count      mean   \n",
       "0             1      7  2.714286  \\\n",
       "1      10000191      1  0.000000   \n",
       "2       1000239      1  0.000000   \n",
       "3       1000392      1  0.000000   \n",
       "4      10016013      1  0.000000   \n",
       "...         ...    ...       ...   \n",
       "11964   9975679      2  0.000000   \n",
       "11965   9978196      1  0.000000   \n",
       "11966       998      1  0.000000   \n",
       "11967    998578      1  4.000000   \n",
       "11968     99944      1  0.000000   \n",
       "\n",
       "                                                   title  ratings   \n",
       "0      Harry Potter and the Half-Blood Prince (Harry ...  1713866  \\\n",
       "1                                          Yellow Crocus    17787   \n",
       "2      My Secret War: The World War II Diary of Madel...     3189   \n",
       "3                  Naruto, Vol. 16: Eulogy (Naruto, #16)     5837   \n",
       "4            Harry Potter and the Methods of Rationality     8691   \n",
       "...                                                  ...      ...   \n",
       "11964                          Ashes (Ashes Trilogy, #1)    19788   \n",
       "11965  A Midsummer Tights Dream (The Misadventures of...     1785   \n",
       "11966  The Millionaire Next Door: The Surprising Secr...    46032   \n",
       "11967                 Batgirl, Vol. 5: Kicking Assassins      249   \n",
       "11968                                  The Bhagavad Gita    33855   \n",
       "\n",
       "                                                     url   \n",
       "0      https://www.goodreads.com/book/show/1.Harry_Po...  \\\n",
       "1      https://www.goodreads.com/book/show/10000191-y...   \n",
       "2      https://www.goodreads.com/book/show/1000239.My...   \n",
       "3      https://www.goodreads.com/book/show/1000392.Na...   \n",
       "4      https://www.goodreads.com/book/show/10016013-h...   \n",
       "...                                                  ...   \n",
       "11964  https://www.goodreads.com/book/show/9975679-ashes   \n",
       "11965  https://www.goodreads.com/book/show/9978196-a-...   \n",
       "11966  https://www.goodreads.com/book/show/998.The_Mi...   \n",
       "11967  https://www.goodreads.com/book/show/998578.Bat...   \n",
       "11968  https://www.goodreads.com/book/show/99944.The_...   \n",
       "\n",
       "                                             cover_image   \n",
       "0      https://images.gr-assets.com/books/1361039191m...  \\\n",
       "1      https://s.gr-assets.com/assets/nophoto/book/11...   \n",
       "2      https://s.gr-assets.com/assets/nophoto/book/11...   \n",
       "3      https://images.gr-assets.com/books/1435525315m...   \n",
       "4      https://images.gr-assets.com/books/1293582551m...   \n",
       "...                                                  ...   \n",
       "11964  https://s.gr-assets.com/assets/nophoto/book/11...   \n",
       "11965  https://images.gr-assets.com/books/1327429845m...   \n",
       "11966  https://s.gr-assets.com/assets/nophoto/book/11...   \n",
       "11967  https://s.gr-assets.com/assets/nophoto/book/11...   \n",
       "11968  https://images.gr-assets.com/books/1383059639m...   \n",
       "\n",
       "                                               mod_title  \n",
       "0      harry potter and the halfblood prince harry po...  \n",
       "1                                          yellow crocus  \n",
       "2      my secret war the world war ii diary of madeli...  \n",
       "3                         naruto vol 16 eulogy naruto 16  \n",
       "4            harry potter and the methods of rationality  \n",
       "...                                                  ...  \n",
       "11964                              ashes ashes trilogy 1  \n",
       "11965  a midsummer tights dream the misadventures of ...  \n",
       "11966  the millionaire next door the surprising secre...  \n",
       "11967                    batgirl vol 5 kicking assassins  \n",
       "11968                                  the bhagavad gita  \n",
       "\n",
       "[11969 rows x 8 columns]"
      ]
     },
     "execution_count": 36,
     "metadata": {},
     "output_type": "execute_result"
    }
   ],
   "source": [
    "book_recs"
   ]
  },
  {
   "attachments": {},
   "cell_type": "markdown",
   "metadata": {},
   "source": [
    "**7. Ranking Our Book Recommendations**"
   ]
  },
  {
   "attachments": {},
   "cell_type": "markdown",
   "metadata": {},
   "source": [
    "**Figuring out which recommendations are relevant to us.**"
   ]
  },
  {
   "attachments": {},
   "cell_type": "markdown",
   "metadata": {},
   "source": [
    "**We'll first create an adjusted count which is a count but normalized for how many times the book appeared among people similar to us.**"
   ]
  },
  {
   "attachments": {},
   "cell_type": "markdown",
   "metadata": {},
   "source": [
    "**Ratings is the number of times the book was rated across all of goodreads.**"
   ]
  },
  {
   "cell_type": "code",
   "execution_count": 37,
   "metadata": {},
   "outputs": [],
   "source": [
    "book_recs[\"adjusted_count\"] = book_recs[\"count\"] * (book_recs[\"count\"] / book_recs[\"ratings\"])"
   ]
  },
  {
   "attachments": {},
   "cell_type": "markdown",
   "metadata": {},
   "source": [
    "**Score: Indicating how much we might like a book.**"
   ]
  },
  {
   "cell_type": "code",
   "execution_count": 38,
   "metadata": {},
   "outputs": [],
   "source": [
    "book_recs[\"score\"] = book_recs[\"mean\"] * book_recs[\"adjusted_count\"]"
   ]
  },
  {
   "attachments": {},
   "cell_type": "markdown",
   "metadata": {},
   "source": [
    "**Take out any books we already have read.**"
   ]
  },
  {
   "attachments": {},
   "cell_type": "markdown",
   "metadata": {},
   "source": [
    "**1st we'll take out any book where the book id matches an id of a book we already read. The 2nd thing we'll do is we'll take out any books where the title matches a book we've already read.**"
   ]
  },
  {
   "cell_type": "code",
   "execution_count": 39,
   "metadata": {},
   "outputs": [],
   "source": [
    "book_recs = book_recs[~book_recs[\"book_id\"].isin(my_books[\"book_id\"])]"
   ]
  },
  {
   "cell_type": "code",
   "execution_count": 40,
   "metadata": {},
   "outputs": [],
   "source": [
    "my_books[\"mod_title\"] = my_books[\"title\"].str.replace(\"[^a-zA-Z0-9 ]\", \"\", regex=True).str.lower()"
   ]
  },
  {
   "attachments": {},
   "cell_type": "markdown",
   "metadata": {},
   "source": [
    "**Replace any sequences of spaces.**"
   ]
  },
  {
   "cell_type": "code",
   "execution_count": 41,
   "metadata": {},
   "outputs": [],
   "source": [
    "my_books[\"mod_title\"] = my_books[\"mod_title\"].str.replace(\"\\s+\", \" \", regex=True)"
   ]
  },
  {
   "attachments": {},
   "cell_type": "markdown",
   "metadata": {},
   "source": [
    "**Let's take out anything in our recommendations where the mod title fits into the books we already read.**"
   ]
  },
  {
   "cell_type": "code",
   "execution_count": 42,
   "metadata": {},
   "outputs": [],
   "source": [
    "book_recs = book_recs[~book_recs[\"mod_title\"].isin(my_books[\"mod_title\"])]"
   ]
  },
  {
   "attachments": {},
   "cell_type": "markdown",
   "metadata": {},
   "source": [
    "**Remove anything that appeared less than twice or less in our recommendations.**"
   ]
  },
  {
   "cell_type": "code",
   "execution_count": 43,
   "metadata": {},
   "outputs": [],
   "source": [
    "book_recs = book_recs[book_recs[\"count\"]>2]"
   ]
  },
  {
   "attachments": {},
   "cell_type": "markdown",
   "metadata": {},
   "source": [
    "**We want to make sure that we only find books where our mean rating is greater than a certain amount.**"
   ]
  },
  {
   "cell_type": "code",
   "execution_count": 44,
   "metadata": {},
   "outputs": [],
   "source": [
    "book_recs = book_recs[book_recs[\"mean\"] >=4]"
   ]
  },
  {
   "attachments": {},
   "cell_type": "markdown",
   "metadata": {},
   "source": [
    "**Creating our top recommendations which we'll sort based on our score (This basically sorts the dataframe based on the score).**"
   ]
  },
  {
   "cell_type": "code",
   "execution_count": 45,
   "metadata": {},
   "outputs": [],
   "source": [
    "top_recs = book_recs.sort_values(\"mean\", ascending=False)"
   ]
  },
  {
   "cell_type": "code",
   "execution_count": 46,
   "metadata": {},
   "outputs": [
    {
     "data": {
      "text/html": [
       "<div>\n",
       "<style scoped>\n",
       "    .dataframe tbody tr th:only-of-type {\n",
       "        vertical-align: middle;\n",
       "    }\n",
       "\n",
       "    .dataframe tbody tr th {\n",
       "        vertical-align: top;\n",
       "    }\n",
       "\n",
       "    .dataframe thead th {\n",
       "        text-align: right;\n",
       "    }\n",
       "</style>\n",
       "<table border=\"1\" class=\"dataframe\">\n",
       "  <thead>\n",
       "    <tr style=\"text-align: right;\">\n",
       "      <th></th>\n",
       "      <th>book_id</th>\n",
       "      <th>count</th>\n",
       "      <th>mean</th>\n",
       "      <th>title</th>\n",
       "      <th>ratings</th>\n",
       "      <th>url</th>\n",
       "      <th>cover_image</th>\n",
       "      <th>mod_title</th>\n",
       "      <th>adjusted_count</th>\n",
       "      <th>score</th>\n",
       "    </tr>\n",
       "  </thead>\n",
       "  <tbody>\n",
       "    <tr>\n",
       "      <th>1339</th>\n",
       "      <td>13455782</td>\n",
       "      <td>4</td>\n",
       "      <td>4.500000</td>\n",
       "      <td>Shatter Me (Shatter Me, #1)</td>\n",
       "      <td>14847</td>\n",
       "      <td>https://www.goodreads.com/book/show/13455782-s...</td>\n",
       "      <td>https://images.gr-assets.com/books/1338924054m...</td>\n",
       "      <td>shatter me shatter me 1</td>\n",
       "      <td>0.001078</td>\n",
       "      <td>0.004849</td>\n",
       "    </tr>\n",
       "    <tr>\n",
       "      <th>3174</th>\n",
       "      <td>1809465</td>\n",
       "      <td>3</td>\n",
       "      <td>4.333333</td>\n",
       "      <td>Rodrick Rules (Diary of a Wimpy Kid, #2)</td>\n",
       "      <td>95364</td>\n",
       "      <td>https://www.goodreads.com/book/show/1809465.Ro...</td>\n",
       "      <td>https://images.gr-assets.com/books/1360095964m...</td>\n",
       "      <td>rodrick rules diary of a wimpy kid 2</td>\n",
       "      <td>0.000094</td>\n",
       "      <td>0.000409</td>\n",
       "    </tr>\n",
       "    <tr>\n",
       "      <th>8748</th>\n",
       "      <td>3293821</td>\n",
       "      <td>3</td>\n",
       "      <td>4.333333</td>\n",
       "      <td>The Last Straw (Diary of a Wimpy Kid, #3)</td>\n",
       "      <td>85757</td>\n",
       "      <td>https://www.goodreads.com/book/show/3293821-th...</td>\n",
       "      <td>https://images.gr-assets.com/books/1350396036m...</td>\n",
       "      <td>the last straw diary of a wimpy kid 3</td>\n",
       "      <td>0.000105</td>\n",
       "      <td>0.000455</td>\n",
       "    </tr>\n",
       "    <tr>\n",
       "      <th>7230</th>\n",
       "      <td>2767052</td>\n",
       "      <td>13</td>\n",
       "      <td>4.307692</td>\n",
       "      <td>The Hunger Games (The Hunger Games, #1)</td>\n",
       "      <td>4899965</td>\n",
       "      <td>https://www.goodreads.com/book/show/2767052-th...</td>\n",
       "      <td>https://images.gr-assets.com/books/1447303603m...</td>\n",
       "      <td>the hunger games the hunger games 1</td>\n",
       "      <td>0.000034</td>\n",
       "      <td>0.000149</td>\n",
       "    </tr>\n",
       "    <tr>\n",
       "      <th>3031</th>\n",
       "      <td>17927395</td>\n",
       "      <td>7</td>\n",
       "      <td>4.285714</td>\n",
       "      <td>A Court of Mist and Fury (A Court of Thorns an...</td>\n",
       "      <td>120403</td>\n",
       "      <td>https://www.goodreads.com/book/show/17927395-a...</td>\n",
       "      <td>https://images.gr-assets.com/books/1485259138m...</td>\n",
       "      <td>a court of mist and fury a court of thorns and...</td>\n",
       "      <td>0.000407</td>\n",
       "      <td>0.001744</td>\n",
       "    </tr>\n",
       "    <tr>\n",
       "      <th>1268</th>\n",
       "      <td>13335037</td>\n",
       "      <td>9</td>\n",
       "      <td>4.111111</td>\n",
       "      <td>Divergent (Divergent, #1)</td>\n",
       "      <td>1962813</td>\n",
       "      <td>https://www.goodreads.com/book/show/13335037-d...</td>\n",
       "      <td>https://images.gr-assets.com/books/1328559506m...</td>\n",
       "      <td>divergent divergent 1</td>\n",
       "      <td>0.000041</td>\n",
       "      <td>0.000170</td>\n",
       "    </tr>\n",
       "    <tr>\n",
       "      <th>5056</th>\n",
       "      <td>22914373</td>\n",
       "      <td>3</td>\n",
       "      <td>4.000000</td>\n",
       "      <td>My True Love Gave to Me: Twelve Winter Romances</td>\n",
       "      <td>2080</td>\n",
       "      <td>https://www.goodreads.com/book/show/22914373-m...</td>\n",
       "      <td>https://images.gr-assets.com/books/1418488164m...</td>\n",
       "      <td>my true love gave to me twelve winter romances</td>\n",
       "      <td>0.004327</td>\n",
       "      <td>0.017308</td>\n",
       "    </tr>\n",
       "  </tbody>\n",
       "</table>\n",
       "</div>"
      ],
      "text/plain": [
       "       book_id  count      mean   \n",
       "1339  13455782      4  4.500000  \\\n",
       "3174   1809465      3  4.333333   \n",
       "8748   3293821      3  4.333333   \n",
       "7230   2767052     13  4.307692   \n",
       "3031  17927395      7  4.285714   \n",
       "1268  13335037      9  4.111111   \n",
       "5056  22914373      3  4.000000   \n",
       "\n",
       "                                                  title  ratings   \n",
       "1339                        Shatter Me (Shatter Me, #1)    14847  \\\n",
       "3174           Rodrick Rules (Diary of a Wimpy Kid, #2)    95364   \n",
       "8748          The Last Straw (Diary of a Wimpy Kid, #3)    85757   \n",
       "7230            The Hunger Games (The Hunger Games, #1)  4899965   \n",
       "3031  A Court of Mist and Fury (A Court of Thorns an...   120403   \n",
       "1268                          Divergent (Divergent, #1)  1962813   \n",
       "5056    My True Love Gave to Me: Twelve Winter Romances     2080   \n",
       "\n",
       "                                                    url   \n",
       "1339  https://www.goodreads.com/book/show/13455782-s...  \\\n",
       "3174  https://www.goodreads.com/book/show/1809465.Ro...   \n",
       "8748  https://www.goodreads.com/book/show/3293821-th...   \n",
       "7230  https://www.goodreads.com/book/show/2767052-th...   \n",
       "3031  https://www.goodreads.com/book/show/17927395-a...   \n",
       "1268  https://www.goodreads.com/book/show/13335037-d...   \n",
       "5056  https://www.goodreads.com/book/show/22914373-m...   \n",
       "\n",
       "                                            cover_image   \n",
       "1339  https://images.gr-assets.com/books/1338924054m...  \\\n",
       "3174  https://images.gr-assets.com/books/1360095964m...   \n",
       "8748  https://images.gr-assets.com/books/1350396036m...   \n",
       "7230  https://images.gr-assets.com/books/1447303603m...   \n",
       "3031  https://images.gr-assets.com/books/1485259138m...   \n",
       "1268  https://images.gr-assets.com/books/1328559506m...   \n",
       "5056  https://images.gr-assets.com/books/1418488164m...   \n",
       "\n",
       "                                              mod_title  adjusted_count   \n",
       "1339                            shatter me shatter me 1        0.001078  \\\n",
       "3174               rodrick rules diary of a wimpy kid 2        0.000094   \n",
       "8748              the last straw diary of a wimpy kid 3        0.000105   \n",
       "7230                the hunger games the hunger games 1        0.000034   \n",
       "3031  a court of mist and fury a court of thorns and...        0.000407   \n",
       "1268                              divergent divergent 1        0.000041   \n",
       "5056     my true love gave to me twelve winter romances        0.004327   \n",
       "\n",
       "         score  \n",
       "1339  0.004849  \n",
       "3174  0.000409  \n",
       "8748  0.000455  \n",
       "7230  0.000149  \n",
       "3031  0.001744  \n",
       "1268  0.000170  \n",
       "5056  0.017308  "
      ]
     },
     "execution_count": 46,
     "metadata": {},
     "output_type": "execute_result"
    }
   ],
   "source": [
    "top_recs"
   ]
  },
  {
   "attachments": {},
   "cell_type": "markdown",
   "metadata": {},
   "source": [
    "**8. Improve The Display Of The Books**"
   ]
  },
  {
   "cell_type": "code",
   "execution_count": 47,
   "metadata": {},
   "outputs": [
    {
     "data": {
      "text/html": [
       "<style type=\"text/css\">\n",
       "</style>\n",
       "<table id=\"T_32a83\">\n",
       "  <thead>\n",
       "    <tr>\n",
       "      <th class=\"blank level0\" >&nbsp;</th>\n",
       "      <th id=\"T_32a83_level0_col0\" class=\"col_heading level0 col0\" >book_id</th>\n",
       "      <th id=\"T_32a83_level0_col1\" class=\"col_heading level0 col1\" >count</th>\n",
       "      <th id=\"T_32a83_level0_col2\" class=\"col_heading level0 col2\" >mean</th>\n",
       "      <th id=\"T_32a83_level0_col3\" class=\"col_heading level0 col3\" >title</th>\n",
       "      <th id=\"T_32a83_level0_col4\" class=\"col_heading level0 col4\" >ratings</th>\n",
       "      <th id=\"T_32a83_level0_col5\" class=\"col_heading level0 col5\" >url</th>\n",
       "      <th id=\"T_32a83_level0_col6\" class=\"col_heading level0 col6\" >cover_image</th>\n",
       "      <th id=\"T_32a83_level0_col7\" class=\"col_heading level0 col7\" >mod_title</th>\n",
       "      <th id=\"T_32a83_level0_col8\" class=\"col_heading level0 col8\" >adjusted_count</th>\n",
       "      <th id=\"T_32a83_level0_col9\" class=\"col_heading level0 col9\" >score</th>\n",
       "    </tr>\n",
       "  </thead>\n",
       "  <tbody>\n",
       "    <tr>\n",
       "      <th id=\"T_32a83_level0_row0\" class=\"row_heading level0 row0\" >1339</th>\n",
       "      <td id=\"T_32a83_row0_col0\" class=\"data row0 col0\" >13455782</td>\n",
       "      <td id=\"T_32a83_row0_col1\" class=\"data row0 col1\" >4</td>\n",
       "      <td id=\"T_32a83_row0_col2\" class=\"data row0 col2\" >4.500000</td>\n",
       "      <td id=\"T_32a83_row0_col3\" class=\"data row0 col3\" >Shatter Me (Shatter Me, #1)</td>\n",
       "      <td id=\"T_32a83_row0_col4\" class=\"data row0 col4\" >14847</td>\n",
       "      <td id=\"T_32a83_row0_col5\" class=\"data row0 col5\" ><a target=\"_blank\" href=\"https://www.goodreads.com/book/show/13455782-shatter-me\">Goodreads</a></td>\n",
       "      <td id=\"T_32a83_row0_col6\" class=\"data row0 col6\" ><a href=\"https://images.gr-assets.com/books/1338924054m/13455782.jpg\"><img src=\"https://images.gr-assets.com/books/1338924054m/13455782.jpg\" width=50></img></a></td>\n",
       "      <td id=\"T_32a83_row0_col7\" class=\"data row0 col7\" >shatter me shatter me 1</td>\n",
       "      <td id=\"T_32a83_row0_col8\" class=\"data row0 col8\" >0.001078</td>\n",
       "      <td id=\"T_32a83_row0_col9\" class=\"data row0 col9\" >0.004849</td>\n",
       "    </tr>\n",
       "    <tr>\n",
       "      <th id=\"T_32a83_level0_row1\" class=\"row_heading level0 row1\" >3174</th>\n",
       "      <td id=\"T_32a83_row1_col0\" class=\"data row1 col0\" >1809465</td>\n",
       "      <td id=\"T_32a83_row1_col1\" class=\"data row1 col1\" >3</td>\n",
       "      <td id=\"T_32a83_row1_col2\" class=\"data row1 col2\" >4.333333</td>\n",
       "      <td id=\"T_32a83_row1_col3\" class=\"data row1 col3\" >Rodrick Rules (Diary of a Wimpy Kid, #2)</td>\n",
       "      <td id=\"T_32a83_row1_col4\" class=\"data row1 col4\" >95364</td>\n",
       "      <td id=\"T_32a83_row1_col5\" class=\"data row1 col5\" ><a target=\"_blank\" href=\"https://www.goodreads.com/book/show/1809465.Rodrick_Rules\">Goodreads</a></td>\n",
       "      <td id=\"T_32a83_row1_col6\" class=\"data row1 col6\" ><a href=\"https://images.gr-assets.com/books/1360095964m/1809465.jpg\"><img src=\"https://images.gr-assets.com/books/1360095964m/1809465.jpg\" width=50></img></a></td>\n",
       "      <td id=\"T_32a83_row1_col7\" class=\"data row1 col7\" >rodrick rules diary of a wimpy kid 2</td>\n",
       "      <td id=\"T_32a83_row1_col8\" class=\"data row1 col8\" >0.000094</td>\n",
       "      <td id=\"T_32a83_row1_col9\" class=\"data row1 col9\" >0.000409</td>\n",
       "    </tr>\n",
       "    <tr>\n",
       "      <th id=\"T_32a83_level0_row2\" class=\"row_heading level0 row2\" >8748</th>\n",
       "      <td id=\"T_32a83_row2_col0\" class=\"data row2 col0\" >3293821</td>\n",
       "      <td id=\"T_32a83_row2_col1\" class=\"data row2 col1\" >3</td>\n",
       "      <td id=\"T_32a83_row2_col2\" class=\"data row2 col2\" >4.333333</td>\n",
       "      <td id=\"T_32a83_row2_col3\" class=\"data row2 col3\" >The Last Straw (Diary of a Wimpy Kid, #3)</td>\n",
       "      <td id=\"T_32a83_row2_col4\" class=\"data row2 col4\" >85757</td>\n",
       "      <td id=\"T_32a83_row2_col5\" class=\"data row2 col5\" ><a target=\"_blank\" href=\"https://www.goodreads.com/book/show/3293821-the-last-straw\">Goodreads</a></td>\n",
       "      <td id=\"T_32a83_row2_col6\" class=\"data row2 col6\" ><a href=\"https://images.gr-assets.com/books/1350396036m/3293821.jpg\"><img src=\"https://images.gr-assets.com/books/1350396036m/3293821.jpg\" width=50></img></a></td>\n",
       "      <td id=\"T_32a83_row2_col7\" class=\"data row2 col7\" >the last straw diary of a wimpy kid 3</td>\n",
       "      <td id=\"T_32a83_row2_col8\" class=\"data row2 col8\" >0.000105</td>\n",
       "      <td id=\"T_32a83_row2_col9\" class=\"data row2 col9\" >0.000455</td>\n",
       "    </tr>\n",
       "    <tr>\n",
       "      <th id=\"T_32a83_level0_row3\" class=\"row_heading level0 row3\" >7230</th>\n",
       "      <td id=\"T_32a83_row3_col0\" class=\"data row3 col0\" >2767052</td>\n",
       "      <td id=\"T_32a83_row3_col1\" class=\"data row3 col1\" >13</td>\n",
       "      <td id=\"T_32a83_row3_col2\" class=\"data row3 col2\" >4.307692</td>\n",
       "      <td id=\"T_32a83_row3_col3\" class=\"data row3 col3\" >The Hunger Games (The Hunger Games, #1)</td>\n",
       "      <td id=\"T_32a83_row3_col4\" class=\"data row3 col4\" >4899965</td>\n",
       "      <td id=\"T_32a83_row3_col5\" class=\"data row3 col5\" ><a target=\"_blank\" href=\"https://www.goodreads.com/book/show/2767052-the-hunger-games\">Goodreads</a></td>\n",
       "      <td id=\"T_32a83_row3_col6\" class=\"data row3 col6\" ><a href=\"https://images.gr-assets.com/books/1447303603m/2767052.jpg\"><img src=\"https://images.gr-assets.com/books/1447303603m/2767052.jpg\" width=50></img></a></td>\n",
       "      <td id=\"T_32a83_row3_col7\" class=\"data row3 col7\" >the hunger games the hunger games 1</td>\n",
       "      <td id=\"T_32a83_row3_col8\" class=\"data row3 col8\" >0.000034</td>\n",
       "      <td id=\"T_32a83_row3_col9\" class=\"data row3 col9\" >0.000149</td>\n",
       "    </tr>\n",
       "    <tr>\n",
       "      <th id=\"T_32a83_level0_row4\" class=\"row_heading level0 row4\" >3031</th>\n",
       "      <td id=\"T_32a83_row4_col0\" class=\"data row4 col0\" >17927395</td>\n",
       "      <td id=\"T_32a83_row4_col1\" class=\"data row4 col1\" >7</td>\n",
       "      <td id=\"T_32a83_row4_col2\" class=\"data row4 col2\" >4.285714</td>\n",
       "      <td id=\"T_32a83_row4_col3\" class=\"data row4 col3\" >A Court of Mist and Fury (A Court of Thorns and Roses, #2)</td>\n",
       "      <td id=\"T_32a83_row4_col4\" class=\"data row4 col4\" >120403</td>\n",
       "      <td id=\"T_32a83_row4_col5\" class=\"data row4 col5\" ><a target=\"_blank\" href=\"https://www.goodreads.com/book/show/17927395-a-court-of-mist-and-fury\">Goodreads</a></td>\n",
       "      <td id=\"T_32a83_row4_col6\" class=\"data row4 col6\" ><a href=\"https://images.gr-assets.com/books/1485259138m/17927395.jpg\"><img src=\"https://images.gr-assets.com/books/1485259138m/17927395.jpg\" width=50></img></a></td>\n",
       "      <td id=\"T_32a83_row4_col7\" class=\"data row4 col7\" >a court of mist and fury a court of thorns and roses 2</td>\n",
       "      <td id=\"T_32a83_row4_col8\" class=\"data row4 col8\" >0.000407</td>\n",
       "      <td id=\"T_32a83_row4_col9\" class=\"data row4 col9\" >0.001744</td>\n",
       "    </tr>\n",
       "    <tr>\n",
       "      <th id=\"T_32a83_level0_row5\" class=\"row_heading level0 row5\" >1268</th>\n",
       "      <td id=\"T_32a83_row5_col0\" class=\"data row5 col0\" >13335037</td>\n",
       "      <td id=\"T_32a83_row5_col1\" class=\"data row5 col1\" >9</td>\n",
       "      <td id=\"T_32a83_row5_col2\" class=\"data row5 col2\" >4.111111</td>\n",
       "      <td id=\"T_32a83_row5_col3\" class=\"data row5 col3\" >Divergent (Divergent, #1)</td>\n",
       "      <td id=\"T_32a83_row5_col4\" class=\"data row5 col4\" >1962813</td>\n",
       "      <td id=\"T_32a83_row5_col5\" class=\"data row5 col5\" ><a target=\"_blank\" href=\"https://www.goodreads.com/book/show/13335037-divergent\">Goodreads</a></td>\n",
       "      <td id=\"T_32a83_row5_col6\" class=\"data row5 col6\" ><a href=\"https://images.gr-assets.com/books/1328559506m/13335037.jpg\"><img src=\"https://images.gr-assets.com/books/1328559506m/13335037.jpg\" width=50></img></a></td>\n",
       "      <td id=\"T_32a83_row5_col7\" class=\"data row5 col7\" >divergent divergent 1</td>\n",
       "      <td id=\"T_32a83_row5_col8\" class=\"data row5 col8\" >0.000041</td>\n",
       "      <td id=\"T_32a83_row5_col9\" class=\"data row5 col9\" >0.000170</td>\n",
       "    </tr>\n",
       "    <tr>\n",
       "      <th id=\"T_32a83_level0_row6\" class=\"row_heading level0 row6\" >5056</th>\n",
       "      <td id=\"T_32a83_row6_col0\" class=\"data row6 col0\" >22914373</td>\n",
       "      <td id=\"T_32a83_row6_col1\" class=\"data row6 col1\" >3</td>\n",
       "      <td id=\"T_32a83_row6_col2\" class=\"data row6 col2\" >4.000000</td>\n",
       "      <td id=\"T_32a83_row6_col3\" class=\"data row6 col3\" >My True Love Gave to Me: Twelve Winter Romances</td>\n",
       "      <td id=\"T_32a83_row6_col4\" class=\"data row6 col4\" >2080</td>\n",
       "      <td id=\"T_32a83_row6_col5\" class=\"data row6 col5\" ><a target=\"_blank\" href=\"https://www.goodreads.com/book/show/22914373-my-true-love-gave-to-me\">Goodreads</a></td>\n",
       "      <td id=\"T_32a83_row6_col6\" class=\"data row6 col6\" ><a href=\"https://images.gr-assets.com/books/1418488164m/22914373.jpg\"><img src=\"https://images.gr-assets.com/books/1418488164m/22914373.jpg\" width=50></img></a></td>\n",
       "      <td id=\"T_32a83_row6_col7\" class=\"data row6 col7\" >my true love gave to me twelve winter romances</td>\n",
       "      <td id=\"T_32a83_row6_col8\" class=\"data row6 col8\" >0.004327</td>\n",
       "      <td id=\"T_32a83_row6_col9\" class=\"data row6 col9\" >0.017308</td>\n",
       "    </tr>\n",
       "  </tbody>\n",
       "</table>\n"
      ],
      "text/plain": [
       "<pandas.io.formats.style.Styler at 0x14bdabb20>"
      ]
     },
     "execution_count": 47,
     "metadata": {},
     "output_type": "execute_result"
    }
   ],
   "source": [
    "def make_clickable(val):\n",
    "    return '<a target=\"_blank\" href=\"{}\">Goodreads</a>'.format(val, val)\n",
    "\n",
    "def show_image(val):\n",
    "    return '<a href=\"{}\"><img src=\"{}\" width=50></img></a>'.format(val, val)\n",
    "\n",
    "top_recs.style.format({'url': make_clickable, 'cover_image': show_image})"
   ]
  },
  {
   "attachments": {},
   "cell_type": "markdown",
   "metadata": {},
   "source": [
    "**_______________K-Nearest Neighbor_____________________**"
   ]
  },
  {
   "cell_type": "code",
   "execution_count": 267,
   "metadata": {},
   "outputs": [],
   "source": [
    "import pandas as pd\n",
    "import numpy as np\n",
    "from scipy.sparse import coo_matrix\n",
    "from sklearn.neighbors import NearestNeighbors\n",
    "\n",
    "# Step 1: Reading in books we like\n",
    "my_books = pd.read_csv(\"liked_books.csv\", index_col=0)\n",
    "my_books[\"book_id\"] = my_books[\"book_id\"].astype(str)"
   ]
  },
  {
   "cell_type": "code",
   "execution_count": 268,
   "metadata": {},
   "outputs": [],
   "source": [
    "# Step 2: Mapping CSV book IDs to book IDs\n",
    "csv_book_mapping = {}\n",
    "with open(\"book_id_map.csv\", \"r\") as f:\n",
    "    while True:\n",
    "        line = f.readline()\n",
    "        if not line:\n",
    "            break\n",
    "        csv_id, book_id = line.strip().split(\",\")\n",
    "        csv_book_mapping[csv_id] = book_id\n",
    "\n",
    "# Set that contains all of the unique books that we have read\n",
    "book_set = set(my_books[\"book_id\"])"
   ]
  },
  {
   "cell_type": "code",
   "execution_count": 269,
   "metadata": {},
   "outputs": [],
   "source": [
    "# Step 3: Finding similar users using KNN\n",
    "interactions_list = []\n",
    "with open(\"goodreads_interactions.csv\") as f:\n",
    "    while True:\n",
    "        line = f.readline()\n",
    "        if not line:\n",
    "            break\n",
    "\n",
    "        user_id, csv_id, _, rating, _ = line.strip().split(\",\")\n",
    "        book_id = csv_book_mapping.get(csv_id)\n",
    "\n",
    "        if book_id in book_set:\n",
    "            interactions_list.append([user_id, book_id, rating])"
   ]
  },
  {
   "cell_type": "code",
   "execution_count": 270,
   "metadata": {},
   "outputs": [],
   "source": [
    "# Step 4: Creating the user-book matrix\n",
    "interactions = pd.DataFrame(interactions_list, columns=[\"user_id\", \"book_id\", \"rating\"])\n",
    "interactions[\"book_id\"] = interactions[\"book_id\"].astype(str)\n",
    "interactions[\"user_id\"] = interactions[\"user_id\"].astype(str)\n",
    "interactions[\"rating\"] = pd.to_numeric(interactions[\"rating\"])\n",
    "interactions[\"user_index\"] = interactions[\"user_id\"].astype(\"category\").cat.codes\n",
    "interactions[\"book_index\"] = interactions[\"book_id\"].astype(\"category\").cat.codes\n",
    "ratings_mat_coo = coo_matrix((interactions[\"rating\"], (interactions[\"user_index\"], interactions[\"book_index\"])))\n",
    "ratings_mat = ratings_mat_coo.tocsr()\n",
    "\n",
    "k = 15  # Number of similar users to find\n",
    "knn_model = NearestNeighbors(metric='cosine', algorithm='brute')\n",
    "knn_model.fit(ratings_mat)\n",
    "\n",
    "my_index = 0\n",
    "distances, indices = knn_model.kneighbors(ratings_mat[my_index], n_neighbors=k+1)\n",
    "similar_user_indices = indices.squeeze()[1:]"
   ]
  },
  {
   "cell_type": "code",
   "execution_count": 271,
   "metadata": {},
   "outputs": [],
   "source": [
    "# Step 5: Filter and process similar users data\n",
    "similar_users = interactions[interactions[\"user_index\"].isin(similar_user_indices)].copy()\n",
    "similar_users = similar_users[similar_users[\"user_id\"] != \"-1\"]"
   ]
  },
  {
   "cell_type": "code",
   "execution_count": 276,
   "metadata": {},
   "outputs": [],
   "source": [
    "# Step 6: Creating book recommendations\n",
    "book_recs = similar_users.groupby(\"book_id\").rating.agg(['count', 'mean'])\n",
    "book_recs.reset_index(inplace=True)"
   ]
  },
  {
   "cell_type": "code",
   "execution_count": 275,
   "metadata": {},
   "outputs": [
    {
     "name": "stdout",
     "output_type": "stream",
     "text": [
      "Number of rows in book_recs: 5\n"
     ]
    }
   ],
   "source": [
    "print(\"Number of rows in book_recs:\", len(book_recs))"
   ]
  },
  {
   "cell_type": "code",
   "execution_count": 260,
   "metadata": {},
   "outputs": [
    {
     "data": {
      "text/html": [
       "<div>\n",
       "<style scoped>\n",
       "    .dataframe tbody tr th:only-of-type {\n",
       "        vertical-align: middle;\n",
       "    }\n",
       "\n",
       "    .dataframe tbody tr th {\n",
       "        vertical-align: top;\n",
       "    }\n",
       "\n",
       "    .dataframe thead th {\n",
       "        text-align: right;\n",
       "    }\n",
       "</style>\n",
       "<table border=\"1\" class=\"dataframe\">\n",
       "  <thead>\n",
       "    <tr style=\"text-align: right;\">\n",
       "      <th></th>\n",
       "      <th>book_id</th>\n",
       "      <th>count</th>\n",
       "      <th>mean</th>\n",
       "    </tr>\n",
       "  </thead>\n",
       "  <tbody>\n",
       "    <tr>\n",
       "      <th>0</th>\n",
       "      <td>17235026</td>\n",
       "      <td>1</td>\n",
       "      <td>0.000000</td>\n",
       "    </tr>\n",
       "    <tr>\n",
       "      <th>1</th>\n",
       "      <td>18460392</td>\n",
       "      <td>1</td>\n",
       "      <td>0.000000</td>\n",
       "    </tr>\n",
       "    <tr>\n",
       "      <th>2</th>\n",
       "      <td>20910157</td>\n",
       "      <td>2</td>\n",
       "      <td>0.000000</td>\n",
       "    </tr>\n",
       "    <tr>\n",
       "      <th>3</th>\n",
       "      <td>9361589</td>\n",
       "      <td>1</td>\n",
       "      <td>0.000000</td>\n",
       "    </tr>\n",
       "    <tr>\n",
       "      <th>4</th>\n",
       "      <td>9418327</td>\n",
       "      <td>15</td>\n",
       "      <td>4.133333</td>\n",
       "    </tr>\n",
       "  </tbody>\n",
       "</table>\n",
       "</div>"
      ],
      "text/plain": [
       "    book_id  count      mean\n",
       "0  17235026      1  0.000000\n",
       "1  18460392      1  0.000000\n",
       "2  20910157      2  0.000000\n",
       "3   9361589      1  0.000000\n",
       "4   9418327     15  4.133333"
      ]
     },
     "execution_count": 260,
     "metadata": {},
     "output_type": "execute_result"
    }
   ],
   "source": [
    "book_recs"
   ]
  },
  {
   "cell_type": "code",
   "execution_count": 251,
   "metadata": {},
   "outputs": [],
   "source": [
    "# Step 7: Adding book titles\n",
    "books_titles = pd.read_json(\"books_titles.json\")\n",
    "books_titles[\"book_id\"] = books_titles[\"book_id\"].astype(str)"
   ]
  },
  {
   "cell_type": "code",
   "execution_count": 252,
   "metadata": {},
   "outputs": [],
   "source": [
    "book_recs = book_recs.merge(books_titles, how=\"inner\", on=\"book_id\")"
   ]
  },
  {
   "cell_type": "code",
   "execution_count": 253,
   "metadata": {},
   "outputs": [],
   "source": [
    "# Step 8: Ranking the book recommendations\n",
    "book_recs[\"adjusted_count\"] = book_recs[\"count\"] * (book_recs[\"count\"] / book_recs[\"ratings\"])"
   ]
  },
  {
   "cell_type": "code",
   "execution_count": 254,
   "metadata": {},
   "outputs": [
    {
     "data": {
      "text/html": [
       "<div>\n",
       "<style scoped>\n",
       "    .dataframe tbody tr th:only-of-type {\n",
       "        vertical-align: middle;\n",
       "    }\n",
       "\n",
       "    .dataframe tbody tr th {\n",
       "        vertical-align: top;\n",
       "    }\n",
       "\n",
       "    .dataframe thead th {\n",
       "        text-align: right;\n",
       "    }\n",
       "</style>\n",
       "<table border=\"1\" class=\"dataframe\">\n",
       "  <thead>\n",
       "    <tr style=\"text-align: right;\">\n",
       "      <th></th>\n",
       "      <th>book_id</th>\n",
       "      <th>count</th>\n",
       "      <th>mean</th>\n",
       "      <th>title</th>\n",
       "      <th>ratings</th>\n",
       "      <th>url</th>\n",
       "      <th>cover_image</th>\n",
       "      <th>mod_title</th>\n",
       "      <th>adjusted_count</th>\n",
       "    </tr>\n",
       "  </thead>\n",
       "  <tbody>\n",
       "    <tr>\n",
       "      <th>0</th>\n",
       "      <td>17235026</td>\n",
       "      <td>1</td>\n",
       "      <td>0.000000</td>\n",
       "      <td>The Girl with All the Gifts</td>\n",
       "      <td>105967</td>\n",
       "      <td>https://www.goodreads.com/book/show/17235026-t...</td>\n",
       "      <td>https://images.gr-assets.com/books/1403033579m...</td>\n",
       "      <td>the girl with all the gifts</td>\n",
       "      <td>0.000009</td>\n",
       "    </tr>\n",
       "    <tr>\n",
       "      <th>1</th>\n",
       "      <td>18460392</td>\n",
       "      <td>1</td>\n",
       "      <td>0.000000</td>\n",
       "      <td>All the Bright Places</td>\n",
       "      <td>142495</td>\n",
       "      <td>https://www.goodreads.com/book/show/18460392-a...</td>\n",
       "      <td>https://images.gr-assets.com/books/1404331702m...</td>\n",
       "      <td>all the bright places</td>\n",
       "      <td>0.000007</td>\n",
       "    </tr>\n",
       "    <tr>\n",
       "      <th>2</th>\n",
       "      <td>20910157</td>\n",
       "      <td>2</td>\n",
       "      <td>0.000000</td>\n",
       "      <td>Yes Please</td>\n",
       "      <td>262157</td>\n",
       "      <td>https://www.goodreads.com/book/show/20910157-y...</td>\n",
       "      <td>https://images.gr-assets.com/books/1402815435m...</td>\n",
       "      <td>yes please</td>\n",
       "      <td>0.000015</td>\n",
       "    </tr>\n",
       "    <tr>\n",
       "      <th>3</th>\n",
       "      <td>9361589</td>\n",
       "      <td>1</td>\n",
       "      <td>0.000000</td>\n",
       "      <td>The Night Circus</td>\n",
       "      <td>441272</td>\n",
       "      <td>https://www.goodreads.com/book/show/9361589-th...</td>\n",
       "      <td>https://images.gr-assets.com/books/1387124618m...</td>\n",
       "      <td>the night circus</td>\n",
       "      <td>0.000002</td>\n",
       "    </tr>\n",
       "    <tr>\n",
       "      <th>4</th>\n",
       "      <td>9418327</td>\n",
       "      <td>15</td>\n",
       "      <td>4.133333</td>\n",
       "      <td>Bossypants</td>\n",
       "      <td>523393</td>\n",
       "      <td>https://www.goodreads.com/book/show/9418327-bo...</td>\n",
       "      <td>https://images.gr-assets.com/books/1481509554m...</td>\n",
       "      <td>bossypants</td>\n",
       "      <td>0.000430</td>\n",
       "    </tr>\n",
       "  </tbody>\n",
       "</table>\n",
       "</div>"
      ],
      "text/plain": [
       "    book_id  count      mean                        title  ratings   \n",
       "0  17235026      1  0.000000  The Girl with All the Gifts   105967  \\\n",
       "1  18460392      1  0.000000        All the Bright Places   142495   \n",
       "2  20910157      2  0.000000                   Yes Please   262157   \n",
       "3   9361589      1  0.000000             The Night Circus   441272   \n",
       "4   9418327     15  4.133333                   Bossypants   523393   \n",
       "\n",
       "                                                 url   \n",
       "0  https://www.goodreads.com/book/show/17235026-t...  \\\n",
       "1  https://www.goodreads.com/book/show/18460392-a...   \n",
       "2  https://www.goodreads.com/book/show/20910157-y...   \n",
       "3  https://www.goodreads.com/book/show/9361589-th...   \n",
       "4  https://www.goodreads.com/book/show/9418327-bo...   \n",
       "\n",
       "                                         cover_image   \n",
       "0  https://images.gr-assets.com/books/1403033579m...  \\\n",
       "1  https://images.gr-assets.com/books/1404331702m...   \n",
       "2  https://images.gr-assets.com/books/1402815435m...   \n",
       "3  https://images.gr-assets.com/books/1387124618m...   \n",
       "4  https://images.gr-assets.com/books/1481509554m...   \n",
       "\n",
       "                     mod_title  adjusted_count  \n",
       "0  the girl with all the gifts        0.000009  \n",
       "1        all the bright places        0.000007  \n",
       "2                   yes please        0.000015  \n",
       "3             the night circus        0.000002  \n",
       "4                   bossypants        0.000430  "
      ]
     },
     "execution_count": 254,
     "metadata": {},
     "output_type": "execute_result"
    }
   ],
   "source": [
    "book_recs"
   ]
  },
  {
   "cell_type": "code",
   "execution_count": 255,
   "metadata": {},
   "outputs": [],
   "source": [
    "book_recs[\"score\"] = book_recs[\"mean\"] * book_recs[\"adjusted_count\"]"
   ]
  },
  {
   "cell_type": "code",
   "execution_count": 256,
   "metadata": {},
   "outputs": [
    {
     "data": {
      "text/html": [
       "<div>\n",
       "<style scoped>\n",
       "    .dataframe tbody tr th:only-of-type {\n",
       "        vertical-align: middle;\n",
       "    }\n",
       "\n",
       "    .dataframe tbody tr th {\n",
       "        vertical-align: top;\n",
       "    }\n",
       "\n",
       "    .dataframe thead th {\n",
       "        text-align: right;\n",
       "    }\n",
       "</style>\n",
       "<table border=\"1\" class=\"dataframe\">\n",
       "  <thead>\n",
       "    <tr style=\"text-align: right;\">\n",
       "      <th></th>\n",
       "      <th>book_id</th>\n",
       "      <th>count</th>\n",
       "      <th>mean</th>\n",
       "      <th>title</th>\n",
       "      <th>ratings</th>\n",
       "      <th>url</th>\n",
       "      <th>cover_image</th>\n",
       "      <th>mod_title</th>\n",
       "      <th>adjusted_count</th>\n",
       "      <th>score</th>\n",
       "    </tr>\n",
       "  </thead>\n",
       "  <tbody>\n",
       "    <tr>\n",
       "      <th>0</th>\n",
       "      <td>17235026</td>\n",
       "      <td>1</td>\n",
       "      <td>0.000000</td>\n",
       "      <td>The Girl with All the Gifts</td>\n",
       "      <td>105967</td>\n",
       "      <td>https://www.goodreads.com/book/show/17235026-t...</td>\n",
       "      <td>https://images.gr-assets.com/books/1403033579m...</td>\n",
       "      <td>the girl with all the gifts</td>\n",
       "      <td>0.000009</td>\n",
       "      <td>0.000000</td>\n",
       "    </tr>\n",
       "    <tr>\n",
       "      <th>1</th>\n",
       "      <td>18460392</td>\n",
       "      <td>1</td>\n",
       "      <td>0.000000</td>\n",
       "      <td>All the Bright Places</td>\n",
       "      <td>142495</td>\n",
       "      <td>https://www.goodreads.com/book/show/18460392-a...</td>\n",
       "      <td>https://images.gr-assets.com/books/1404331702m...</td>\n",
       "      <td>all the bright places</td>\n",
       "      <td>0.000007</td>\n",
       "      <td>0.000000</td>\n",
       "    </tr>\n",
       "    <tr>\n",
       "      <th>2</th>\n",
       "      <td>20910157</td>\n",
       "      <td>2</td>\n",
       "      <td>0.000000</td>\n",
       "      <td>Yes Please</td>\n",
       "      <td>262157</td>\n",
       "      <td>https://www.goodreads.com/book/show/20910157-y...</td>\n",
       "      <td>https://images.gr-assets.com/books/1402815435m...</td>\n",
       "      <td>yes please</td>\n",
       "      <td>0.000015</td>\n",
       "      <td>0.000000</td>\n",
       "    </tr>\n",
       "    <tr>\n",
       "      <th>3</th>\n",
       "      <td>9361589</td>\n",
       "      <td>1</td>\n",
       "      <td>0.000000</td>\n",
       "      <td>The Night Circus</td>\n",
       "      <td>441272</td>\n",
       "      <td>https://www.goodreads.com/book/show/9361589-th...</td>\n",
       "      <td>https://images.gr-assets.com/books/1387124618m...</td>\n",
       "      <td>the night circus</td>\n",
       "      <td>0.000002</td>\n",
       "      <td>0.000000</td>\n",
       "    </tr>\n",
       "    <tr>\n",
       "      <th>4</th>\n",
       "      <td>9418327</td>\n",
       "      <td>15</td>\n",
       "      <td>4.133333</td>\n",
       "      <td>Bossypants</td>\n",
       "      <td>523393</td>\n",
       "      <td>https://www.goodreads.com/book/show/9418327-bo...</td>\n",
       "      <td>https://images.gr-assets.com/books/1481509554m...</td>\n",
       "      <td>bossypants</td>\n",
       "      <td>0.000430</td>\n",
       "      <td>0.001777</td>\n",
       "    </tr>\n",
       "  </tbody>\n",
       "</table>\n",
       "</div>"
      ],
      "text/plain": [
       "    book_id  count      mean                        title  ratings   \n",
       "0  17235026      1  0.000000  The Girl with All the Gifts   105967  \\\n",
       "1  18460392      1  0.000000        All the Bright Places   142495   \n",
       "2  20910157      2  0.000000                   Yes Please   262157   \n",
       "3   9361589      1  0.000000             The Night Circus   441272   \n",
       "4   9418327     15  4.133333                   Bossypants   523393   \n",
       "\n",
       "                                                 url   \n",
       "0  https://www.goodreads.com/book/show/17235026-t...  \\\n",
       "1  https://www.goodreads.com/book/show/18460392-a...   \n",
       "2  https://www.goodreads.com/book/show/20910157-y...   \n",
       "3  https://www.goodreads.com/book/show/9361589-th...   \n",
       "4  https://www.goodreads.com/book/show/9418327-bo...   \n",
       "\n",
       "                                         cover_image   \n",
       "0  https://images.gr-assets.com/books/1403033579m...  \\\n",
       "1  https://images.gr-assets.com/books/1404331702m...   \n",
       "2  https://images.gr-assets.com/books/1402815435m...   \n",
       "3  https://images.gr-assets.com/books/1387124618m...   \n",
       "4  https://images.gr-assets.com/books/1481509554m...   \n",
       "\n",
       "                     mod_title  adjusted_count     score  \n",
       "0  the girl with all the gifts        0.000009  0.000000  \n",
       "1        all the bright places        0.000007  0.000000  \n",
       "2                   yes please        0.000015  0.000000  \n",
       "3             the night circus        0.000002  0.000000  \n",
       "4                   bossypants        0.000430  0.001777  "
      ]
     },
     "execution_count": 256,
     "metadata": {},
     "output_type": "execute_result"
    }
   ],
   "source": [
    "book_recs"
   ]
  },
  {
   "cell_type": "code",
   "execution_count": 257,
   "metadata": {},
   "outputs": [],
   "source": [
    "book_recs = book_recs[~book_recs[\"book_id\"].isin(my_books[\"book_id\"])]"
   ]
  },
  {
   "cell_type": "code",
   "execution_count": 233,
   "metadata": {},
   "outputs": [
    {
     "data": {
      "text/html": [
       "<div>\n",
       "<style scoped>\n",
       "    .dataframe tbody tr th:only-of-type {\n",
       "        vertical-align: middle;\n",
       "    }\n",
       "\n",
       "    .dataframe tbody tr th {\n",
       "        vertical-align: top;\n",
       "    }\n",
       "\n",
       "    .dataframe thead th {\n",
       "        text-align: right;\n",
       "    }\n",
       "</style>\n",
       "<table border=\"1\" class=\"dataframe\">\n",
       "  <thead>\n",
       "    <tr style=\"text-align: right;\">\n",
       "      <th></th>\n",
       "      <th>book_id</th>\n",
       "      <th>count</th>\n",
       "      <th>mean</th>\n",
       "      <th>title</th>\n",
       "      <th>ratings</th>\n",
       "      <th>url</th>\n",
       "      <th>cover_image</th>\n",
       "      <th>mod_title</th>\n",
       "      <th>adjusted_count</th>\n",
       "      <th>score</th>\n",
       "    </tr>\n",
       "  </thead>\n",
       "  <tbody>\n",
       "  </tbody>\n",
       "</table>\n",
       "</div>"
      ],
      "text/plain": [
       "Empty DataFrame\n",
       "Columns: [book_id, count, mean, title, ratings, url, cover_image, mod_title, adjusted_count, score]\n",
       "Index: []"
      ]
     },
     "execution_count": 233,
     "metadata": {},
     "output_type": "execute_result"
    }
   ],
   "source": [
    "book_recs"
   ]
  },
  {
   "cell_type": "code",
   "execution_count": 187,
   "metadata": {},
   "outputs": [],
   "source": [
    "my_books[\"mod_title\"] = my_books[\"title\"].str.replace(\"[^a-zA-Z0-9 ]\", \"\", regex=True).str.lower()"
   ]
  },
  {
   "cell_type": "code",
   "execution_count": 188,
   "metadata": {},
   "outputs": [],
   "source": [
    "# Replace any sequences of spaces\n",
    "my_books[\"mod_title\"] = my_books[\"mod_title\"].str.replace(\"\\s+\", \" \", regex=True)"
   ]
  },
  {
   "cell_type": "code",
   "execution_count": 189,
   "metadata": {},
   "outputs": [],
   "source": [
    "# Remove recommendations where the mod title matches the books we already read\n",
    "book_recs = book_recs[~book_recs[\"mod_title\"].isin(my_books[\"mod_title\"])]"
   ]
  },
  {
   "cell_type": "code",
   "execution_count": 190,
   "metadata": {},
   "outputs": [],
   "source": [
    "# Remove recommendations that appeared less than twice in our recommendations\n",
    "book_recs = book_recs[book_recs[\"count\"] > 2]"
   ]
  },
  {
   "cell_type": "code",
   "execution_count": 191,
   "metadata": {},
   "outputs": [],
   "source": [
    "# Remove recommendations with mean rating below a certain threshold\n",
    "book_recs = book_recs[book_recs[\"mean\"] >= 4]"
   ]
  },
  {
   "cell_type": "code",
   "execution_count": 192,
   "metadata": {},
   "outputs": [],
   "source": [
    "# Sort the recommendations based on score\n",
    "top_recs = book_recs.sort_values(\"mean\", ascending=False)"
   ]
  },
  {
   "cell_type": "code",
   "execution_count": 193,
   "metadata": {},
   "outputs": [
    {
     "data": {
      "text/html": [
       "<style type=\"text/css\">\n",
       "</style>\n",
       "<table id=\"T_3b45e\">\n",
       "  <thead>\n",
       "    <tr>\n",
       "      <th class=\"blank level0\" >&nbsp;</th>\n",
       "      <th id=\"T_3b45e_level0_col0\" class=\"col_heading level0 col0\" >book_id</th>\n",
       "      <th id=\"T_3b45e_level0_col1\" class=\"col_heading level0 col1\" >count</th>\n",
       "      <th id=\"T_3b45e_level0_col2\" class=\"col_heading level0 col2\" >mean</th>\n",
       "      <th id=\"T_3b45e_level0_col3\" class=\"col_heading level0 col3\" >title</th>\n",
       "      <th id=\"T_3b45e_level0_col4\" class=\"col_heading level0 col4\" >ratings</th>\n",
       "      <th id=\"T_3b45e_level0_col5\" class=\"col_heading level0 col5\" >url</th>\n",
       "      <th id=\"T_3b45e_level0_col6\" class=\"col_heading level0 col6\" >cover_image</th>\n",
       "      <th id=\"T_3b45e_level0_col7\" class=\"col_heading level0 col7\" >mod_title</th>\n",
       "      <th id=\"T_3b45e_level0_col8\" class=\"col_heading level0 col8\" >adjusted_count</th>\n",
       "      <th id=\"T_3b45e_level0_col9\" class=\"col_heading level0 col9\" >score</th>\n",
       "    </tr>\n",
       "  </thead>\n",
       "  <tbody>\n",
       "  </tbody>\n",
       "</table>\n"
      ],
      "text/plain": [
       "<pandas.io.formats.style.Styler at 0x1f92dc7f0>"
      ]
     },
     "execution_count": 193,
     "metadata": {},
     "output_type": "execute_result"
    }
   ],
   "source": [
    "# Step 9: Improve the display of the books\n",
    "def make_clickable(val):\n",
    "    return '<a target=\"_blank\" href=\"{}\">Goodreads</a>'.format(val, val)\n",
    "\n",
    "def show_image(val):\n",
    "    return '<a href=\"{}\"><img src=\"{}\" width=50></img></a>'.format(val, val)\n",
    "\n",
    "top_recs.style.format({'url': make_clickable, 'cover_image': show_image})"
   ]
  }
 ],
 "metadata": {
  "kernelspec": {
   "display_name": "britney",
   "language": "python",
   "name": "python3"
  },
  "language_info": {
   "codemirror_mode": {
    "name": "ipython",
    "version": 3
   },
   "file_extension": ".py",
   "mimetype": "text/x-python",
   "name": "python",
   "nbconvert_exporter": "python",
   "pygments_lexer": "ipython3",
   "version": "3.10.10"
  },
  "orig_nbformat": 4
 },
 "nbformat": 4,
 "nbformat_minor": 2
}
