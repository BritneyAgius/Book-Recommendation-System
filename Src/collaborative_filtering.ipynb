{
 "cells": [
  {
   "attachments": {},
   "cell_type": "markdown",
   "metadata": {},
   "source": [
    "**1. Reading In Books We Like**"
   ]
  },
  {
   "cell_type": "code",
   "execution_count": 3,
   "metadata": {},
   "outputs": [],
   "source": [
    "import pandas as pd \n",
    "\n",
    "my_books = pd.read_csv(\"liked_books.csv\", index_col=0)\n",
    "my_books[\"book_id\"] = my_books[\"book_id\"].astype(str)"
   ]
  },
  {
   "cell_type": "code",
   "execution_count": 4,
   "metadata": {},
   "outputs": [
    {
     "data": {
      "text/html": [
       "<div>\n",
       "<style scoped>\n",
       "    .dataframe tbody tr th:only-of-type {\n",
       "        vertical-align: middle;\n",
       "    }\n",
       "\n",
       "    .dataframe tbody tr th {\n",
       "        vertical-align: top;\n",
       "    }\n",
       "\n",
       "    .dataframe thead th {\n",
       "        text-align: right;\n",
       "    }\n",
       "</style>\n",
       "<table border=\"1\" class=\"dataframe\">\n",
       "  <thead>\n",
       "    <tr style=\"text-align: right;\">\n",
       "      <th></th>\n",
       "      <th>user_id</th>\n",
       "      <th>book_id</th>\n",
       "      <th>rating</th>\n",
       "      <th>title</th>\n",
       "    </tr>\n",
       "  </thead>\n",
       "  <tbody>\n",
       "    <tr>\n",
       "      <th>0</th>\n",
       "      <td>-1</td>\n",
       "      <td>2517439</td>\n",
       "      <td>5</td>\n",
       "      <td>The Forever War  (The Forever War, #1)</td>\n",
       "    </tr>\n",
       "    <tr>\n",
       "      <th>1</th>\n",
       "      <td>-1</td>\n",
       "      <td>113576</td>\n",
       "      <td>5</td>\n",
       "      <td>The Smartest Guys in the Room: The Amazing Ris...</td>\n",
       "    </tr>\n",
       "    <tr>\n",
       "      <th>2</th>\n",
       "      <td>-1</td>\n",
       "      <td>35100</td>\n",
       "      <td>5</td>\n",
       "      <td>Battle Cry of Freedom</td>\n",
       "    </tr>\n",
       "    <tr>\n",
       "      <th>3</th>\n",
       "      <td>-1</td>\n",
       "      <td>228221</td>\n",
       "      <td>5</td>\n",
       "      <td>The Mask of Command</td>\n",
       "    </tr>\n",
       "    <tr>\n",
       "      <th>5</th>\n",
       "      <td>-1</td>\n",
       "      <td>17662739</td>\n",
       "      <td>5</td>\n",
       "      <td>2001: A Space Odyssey  (Space Odyssey, #1)</td>\n",
       "    </tr>\n",
       "    <tr>\n",
       "      <th>6</th>\n",
       "      <td>-1</td>\n",
       "      <td>356824</td>\n",
       "      <td>5</td>\n",
       "      <td>India After Gandhi: The History of the World's...</td>\n",
       "    </tr>\n",
       "    <tr>\n",
       "      <th>7</th>\n",
       "      <td>-1</td>\n",
       "      <td>12125412</td>\n",
       "      <td>5</td>\n",
       "      <td>The Lady or the Tiger?: and Other Logic Puzzles</td>\n",
       "    </tr>\n",
       "    <tr>\n",
       "      <th>8</th>\n",
       "      <td>-1</td>\n",
       "      <td>139069</td>\n",
       "      <td>5</td>\n",
       "      <td>Endurance: Shackleton's Incredible Voyage</td>\n",
       "    </tr>\n",
       "    <tr>\n",
       "      <th>10</th>\n",
       "      <td>-1</td>\n",
       "      <td>76680</td>\n",
       "      <td>5</td>\n",
       "      <td>Foundation  (Foundation, #1)</td>\n",
       "    </tr>\n",
       "    <tr>\n",
       "      <th>11</th>\n",
       "      <td>-1</td>\n",
       "      <td>1898</td>\n",
       "      <td>5</td>\n",
       "      <td>Into Thin Air: A Personal Account of the Mount...</td>\n",
       "    </tr>\n",
       "    <tr>\n",
       "      <th>12</th>\n",
       "      <td>-1</td>\n",
       "      <td>5096865</td>\n",
       "      <td>5</td>\n",
       "      <td>In Cold Blood</td>\n",
       "    </tr>\n",
       "    <tr>\n",
       "      <th>13</th>\n",
       "      <td>-1</td>\n",
       "      <td>228665</td>\n",
       "      <td>5</td>\n",
       "      <td>The Eye of the World  (The Wheel of Time, #1)</td>\n",
       "    </tr>\n",
       "    <tr>\n",
       "      <th>17</th>\n",
       "      <td>-1</td>\n",
       "      <td>437143</td>\n",
       "      <td>5</td>\n",
       "      <td>A Short History of Nearly Everything</td>\n",
       "    </tr>\n",
       "    <tr>\n",
       "      <th>18</th>\n",
       "      <td>-1</td>\n",
       "      <td>18949861</td>\n",
       "      <td>5</td>\n",
       "      <td>Contact</td>\n",
       "    </tr>\n",
       "    <tr>\n",
       "      <th>19</th>\n",
       "      <td>-1</td>\n",
       "      <td>2913377</td>\n",
       "      <td>5</td>\n",
       "      <td>The Name of the Wind  (The Kingkiller Chronicl...</td>\n",
       "    </tr>\n",
       "    <tr>\n",
       "      <th>20</th>\n",
       "      <td>-1</td>\n",
       "      <td>1215032</td>\n",
       "      <td>5</td>\n",
       "      <td>The Wise Man's Fear  (The Kingkiller Chronicle...</td>\n",
       "    </tr>\n",
       "    <tr>\n",
       "      <th>21</th>\n",
       "      <td>-1</td>\n",
       "      <td>883438</td>\n",
       "      <td>5</td>\n",
       "      <td>East of Eden</td>\n",
       "    </tr>\n",
       "    <tr>\n",
       "      <th>22</th>\n",
       "      <td>-1</td>\n",
       "      <td>5578108</td>\n",
       "      <td>5</td>\n",
       "      <td>From Colony to Superpower: U.S. Foreign Relati...</td>\n",
       "    </tr>\n",
       "    <tr>\n",
       "      <th>23</th>\n",
       "      <td>-1</td>\n",
       "      <td>128029</td>\n",
       "      <td>5</td>\n",
       "      <td>A Thousand Splendid Suns</td>\n",
       "    </tr>\n",
       "    <tr>\n",
       "      <th>24</th>\n",
       "      <td>-1</td>\n",
       "      <td>77203</td>\n",
       "      <td>5</td>\n",
       "      <td>The Kite Runner</td>\n",
       "    </tr>\n",
       "    <tr>\n",
       "      <th>25</th>\n",
       "      <td>-1</td>\n",
       "      <td>5439</td>\n",
       "      <td>5</td>\n",
       "      <td>Interpreter of Maladies</td>\n",
       "    </tr>\n",
       "    <tr>\n",
       "      <th>26</th>\n",
       "      <td>-1</td>\n",
       "      <td>1685995</td>\n",
       "      <td>5</td>\n",
       "      <td>Dune  (Dune #1)</td>\n",
       "    </tr>\n",
       "    <tr>\n",
       "      <th>27</th>\n",
       "      <td>-1</td>\n",
       "      <td>6448772</td>\n",
       "      <td>5</td>\n",
       "      <td>Quantum: Einstein, Bohr, and the Great Debate ...</td>\n",
       "    </tr>\n",
       "    <tr>\n",
       "      <th>527</th>\n",
       "      <td>-1</td>\n",
       "      <td>8161140</td>\n",
       "      <td>1</td>\n",
       "      <td>On the Beach</td>\n",
       "    </tr>\n",
       "    <tr>\n",
       "      <th>528</th>\n",
       "      <td>-1</td>\n",
       "      <td>28187</td>\n",
       "      <td>1</td>\n",
       "      <td>The Lightning Thief  (Percy Jackson and the Ol...</td>\n",
       "    </tr>\n",
       "    <tr>\n",
       "      <th>531</th>\n",
       "      <td>-1</td>\n",
       "      <td>25659450</td>\n",
       "      <td>1</td>\n",
       "      <td>Arkwright</td>\n",
       "    </tr>\n",
       "    <tr>\n",
       "      <th>532</th>\n",
       "      <td>-1</td>\n",
       "      <td>82599</td>\n",
       "      <td>1</td>\n",
       "      <td>Rabbits: A Novel</td>\n",
       "    </tr>\n",
       "  </tbody>\n",
       "</table>\n",
       "</div>"
      ],
      "text/plain": [
       "     user_id   book_id  rating   \n",
       "0         -1   2517439       5  \\\n",
       "1         -1    113576       5   \n",
       "2         -1     35100       5   \n",
       "3         -1    228221       5   \n",
       "5         -1  17662739       5   \n",
       "6         -1    356824       5   \n",
       "7         -1  12125412       5   \n",
       "8         -1    139069       5   \n",
       "10        -1     76680       5   \n",
       "11        -1      1898       5   \n",
       "12        -1   5096865       5   \n",
       "13        -1    228665       5   \n",
       "17        -1    437143       5   \n",
       "18        -1  18949861       5   \n",
       "19        -1   2913377       5   \n",
       "20        -1   1215032       5   \n",
       "21        -1    883438       5   \n",
       "22        -1   5578108       5   \n",
       "23        -1    128029       5   \n",
       "24        -1     77203       5   \n",
       "25        -1      5439       5   \n",
       "26        -1   1685995       5   \n",
       "27        -1   6448772       5   \n",
       "527       -1   8161140       1   \n",
       "528       -1     28187       1   \n",
       "531       -1  25659450       1   \n",
       "532       -1     82599       1   \n",
       "\n",
       "                                                 title  \n",
       "0               The Forever War  (The Forever War, #1)  \n",
       "1    The Smartest Guys in the Room: The Amazing Ris...  \n",
       "2                                Battle Cry of Freedom  \n",
       "3                                  The Mask of Command  \n",
       "5           2001: A Space Odyssey  (Space Odyssey, #1)  \n",
       "6    India After Gandhi: The History of the World's...  \n",
       "7      The Lady or the Tiger?: and Other Logic Puzzles  \n",
       "8            Endurance: Shackleton's Incredible Voyage  \n",
       "10                        Foundation  (Foundation, #1)  \n",
       "11   Into Thin Air: A Personal Account of the Mount...  \n",
       "12                                       In Cold Blood  \n",
       "13       The Eye of the World  (The Wheel of Time, #1)  \n",
       "17                A Short History of Nearly Everything  \n",
       "18                                             Contact  \n",
       "19   The Name of the Wind  (The Kingkiller Chronicl...  \n",
       "20   The Wise Man's Fear  (The Kingkiller Chronicle...  \n",
       "21                                        East of Eden  \n",
       "22   From Colony to Superpower: U.S. Foreign Relati...  \n",
       "23                            A Thousand Splendid Suns  \n",
       "24                                     The Kite Runner  \n",
       "25                             Interpreter of Maladies  \n",
       "26                                     Dune  (Dune #1)  \n",
       "27   Quantum: Einstein, Bohr, and the Great Debate ...  \n",
       "527                                       On the Beach  \n",
       "528  The Lightning Thief  (Percy Jackson and the Ol...  \n",
       "531                                          Arkwright  \n",
       "532                                   Rabbits: A Novel  "
      ]
     },
     "execution_count": 4,
     "metadata": {},
     "output_type": "execute_result"
    }
   ],
   "source": [
    "my_books"
   ]
  },
  {
   "cell_type": "code",
   "execution_count": 5,
   "metadata": {},
   "outputs": [],
   "source": [
    "my_books[\"book_id\"] = my_books[\"book_id\"].astype(str)"
   ]
  },
  {
   "attachments": {},
   "cell_type": "markdown",
   "metadata": {},
   "source": [
    "**2. Finding Similar Users**"
   ]
  },
  {
   "cell_type": "code",
   "execution_count": 6,
   "metadata": {},
   "outputs": [],
   "source": [
    "csv_book_mapping = {}\n",
    "\n",
    "with open(\"book_id_map.csv\", \"r\") as f:\n",
    "    while True:\n",
    "        line = f.readline()\n",
    "        if not line:\n",
    "            break\n",
    "        csv_id, book_id = line.strip().split(\",\")\n",
    "        csv_book_mapping[csv_id] = book_id"
   ]
  },
  {
   "attachments": {},
   "cell_type": "markdown",
   "metadata": {},
   "source": [
    "**Set that contains all of the unique books that we have read.**"
   ]
  },
  {
   "cell_type": "code",
   "execution_count": 7,
   "metadata": {},
   "outputs": [],
   "source": [
    "book_set = set(my_books[\"book_id\"])"
   ]
  },
  {
   "attachments": {},
   "cell_type": "markdown",
   "metadata": {},
   "source": [
    "**Every user that read the same book as us will be plaved in this overlap users dictionary.**"
   ]
  },
  {
   "cell_type": "code",
   "execution_count": 8,
   "metadata": {},
   "outputs": [
    {
     "name": "stdout",
     "output_type": "stream",
     "text": [
      " 228648343 goodreads_interactions.csv\n"
     ]
    }
   ],
   "source": [
    "!wc -l goodreads_interactions.csv"
   ]
  },
  {
   "attachments": {},
   "cell_type": "markdown",
   "metadata": {},
   "source": [
    "**Note: _ means that we do not care about that variable.**"
   ]
  },
  {
   "cell_type": "code",
   "execution_count": 9,
   "metadata": {},
   "outputs": [],
   "source": [
    "overlap_users = {}\n",
    "\n",
    "with open(\"goodreads_interactions.csv\", 'r') as f:\n",
    "    while True:\n",
    "        line = f.readline()\n",
    "        if not line:\n",
    "            break\n",
    "        user_id, csv_id, _, rating, _ = line.split(\",\")\n",
    "        \n",
    "        book_id = csv_book_mapping.get(csv_id)\n",
    "        \n",
    "        if book_id in book_set:\n",
    "            if user_id not in overlap_users:\n",
    "                overlap_users[user_id] = 1\n",
    "            else:\n",
    "                overlap_users[user_id] += 1"
   ]
  },
  {
   "cell_type": "code",
   "execution_count": 10,
   "metadata": {},
   "outputs": [],
   "source": [
    "filtered_overlap_users = set([k for k in overlap_users if overlap_users[k] > my_books.shape[0]/5])"
   ]
  },
  {
   "attachments": {},
   "cell_type": "markdown",
   "metadata": {},
   "source": [
    "**3. Finding Similar User Book Ratings**"
   ]
  },
  {
   "cell_type": "code",
   "execution_count": 11,
   "metadata": {},
   "outputs": [],
   "source": [
    "interactions_list = []\n",
    "\n",
    "with open(\"goodreads_interactions.csv\") as f:\n",
    "    while True:\n",
    "        line = f.readline()\n",
    "        if not line:\n",
    "            break\n",
    "\n",
    "        user_id, csv_id, _, rating, _ = line.strip().split(\",\")\n",
    "        if user_id in filtered_overlap_users:\n",
    "            book_id = csv_book_mapping[csv_id]\n",
    "            interactions_list.append([user_id, book_id, rating]) "
   ]
  },
  {
   "attachments": {},
   "cell_type": "markdown",
   "metadata": {},
   "source": [
    "**4. Creating A User /Book Matrix**"
   ]
  },
  {
   "cell_type": "code",
   "execution_count": 12,
   "metadata": {},
   "outputs": [
    {
     "data": {
      "text/plain": [
       "5638701"
      ]
     },
     "execution_count": 12,
     "metadata": {},
     "output_type": "execute_result"
    }
   ],
   "source": [
    "len(interactions_list)"
   ]
  },
  {
   "cell_type": "code",
   "execution_count": 13,
   "metadata": {},
   "outputs": [
    {
     "data": {
      "text/plain": [
       "['282', '627206', '4']"
      ]
     },
     "execution_count": 13,
     "metadata": {},
     "output_type": "execute_result"
    }
   ],
   "source": [
    "interactions_list[0]"
   ]
  },
  {
   "attachments": {},
   "cell_type": "markdown",
   "metadata": {},
   "source": [
    "**DateFrame**"
   ]
  },
  {
   "cell_type": "code",
   "execution_count": 14,
   "metadata": {},
   "outputs": [],
   "source": [
    "interactions = pd.DataFrame(interactions_list, columns=[\"user_id\", \"book_id\", \"rating\"])"
   ]
  },
  {
   "cell_type": "code",
   "execution_count": 15,
   "metadata": {},
   "outputs": [],
   "source": [
    "interactions = pd.concat([my_books[[\"user_id\", \"book_id\", \"rating\"]], interactions])"
   ]
  },
  {
   "cell_type": "code",
   "execution_count": 16,
   "metadata": {},
   "outputs": [
    {
     "data": {
      "text/html": [
       "<div>\n",
       "<style scoped>\n",
       "    .dataframe tbody tr th:only-of-type {\n",
       "        vertical-align: middle;\n",
       "    }\n",
       "\n",
       "    .dataframe tbody tr th {\n",
       "        vertical-align: top;\n",
       "    }\n",
       "\n",
       "    .dataframe thead th {\n",
       "        text-align: right;\n",
       "    }\n",
       "</style>\n",
       "<table border=\"1\" class=\"dataframe\">\n",
       "  <thead>\n",
       "    <tr style=\"text-align: right;\">\n",
       "      <th></th>\n",
       "      <th>user_id</th>\n",
       "      <th>book_id</th>\n",
       "      <th>rating</th>\n",
       "    </tr>\n",
       "  </thead>\n",
       "  <tbody>\n",
       "    <tr>\n",
       "      <th>0</th>\n",
       "      <td>-1</td>\n",
       "      <td>2517439</td>\n",
       "      <td>5</td>\n",
       "    </tr>\n",
       "    <tr>\n",
       "      <th>1</th>\n",
       "      <td>-1</td>\n",
       "      <td>113576</td>\n",
       "      <td>5</td>\n",
       "    </tr>\n",
       "    <tr>\n",
       "      <th>2</th>\n",
       "      <td>-1</td>\n",
       "      <td>35100</td>\n",
       "      <td>5</td>\n",
       "    </tr>\n",
       "    <tr>\n",
       "      <th>3</th>\n",
       "      <td>-1</td>\n",
       "      <td>228221</td>\n",
       "      <td>5</td>\n",
       "    </tr>\n",
       "    <tr>\n",
       "      <th>5</th>\n",
       "      <td>-1</td>\n",
       "      <td>17662739</td>\n",
       "      <td>5</td>\n",
       "    </tr>\n",
       "    <tr>\n",
       "      <th>...</th>\n",
       "      <td>...</td>\n",
       "      <td>...</td>\n",
       "      <td>...</td>\n",
       "    </tr>\n",
       "    <tr>\n",
       "      <th>5638696</th>\n",
       "      <td>804100</td>\n",
       "      <td>475178</td>\n",
       "      <td>0</td>\n",
       "    </tr>\n",
       "    <tr>\n",
       "      <th>5638697</th>\n",
       "      <td>804100</td>\n",
       "      <td>186074</td>\n",
       "      <td>0</td>\n",
       "    </tr>\n",
       "    <tr>\n",
       "      <th>5638698</th>\n",
       "      <td>804100</td>\n",
       "      <td>153008</td>\n",
       "      <td>0</td>\n",
       "    </tr>\n",
       "    <tr>\n",
       "      <th>5638699</th>\n",
       "      <td>804100</td>\n",
       "      <td>45107</td>\n",
       "      <td>0</td>\n",
       "    </tr>\n",
       "    <tr>\n",
       "      <th>5638700</th>\n",
       "      <td>804100</td>\n",
       "      <td>1762198</td>\n",
       "      <td>5</td>\n",
       "    </tr>\n",
       "  </tbody>\n",
       "</table>\n",
       "<p>5638728 rows × 3 columns</p>\n",
       "</div>"
      ],
      "text/plain": [
       "        user_id   book_id rating\n",
       "0            -1   2517439      5\n",
       "1            -1    113576      5\n",
       "2            -1     35100      5\n",
       "3            -1    228221      5\n",
       "5            -1  17662739      5\n",
       "...         ...       ...    ...\n",
       "5638696  804100    475178      0\n",
       "5638697  804100    186074      0\n",
       "5638698  804100    153008      0\n",
       "5638699  804100     45107      0\n",
       "5638700  804100   1762198      5\n",
       "\n",
       "[5638728 rows x 3 columns]"
      ]
     },
     "execution_count": 16,
     "metadata": {},
     "output_type": "execute_result"
    }
   ],
   "source": [
    "interactions"
   ]
  },
  {
   "cell_type": "code",
   "execution_count": 17,
   "metadata": {},
   "outputs": [],
   "source": [
    "interactions[\"book_id\"] = interactions[\"book_id\"].astype(str)\n",
    "interactions[\"user_id\"] = interactions[\"user_id\"].astype(str)\n",
    "interactions[\"rating\"] = pd.to_numeric(interactions[\"rating\"])"
   ]
  },
  {
   "cell_type": "code",
   "execution_count": 26,
   "metadata": {},
   "outputs": [
    {
     "data": {
      "text/plain": [
       "array(['-1', '282', '874', ..., '442043', '712588', '804100'],\n",
       "      dtype=object)"
      ]
     },
     "execution_count": 26,
     "metadata": {},
     "output_type": "execute_result"
    }
   ],
   "source": [
    "interactions[\"user_id\"].unique()"
   ]
  },
  {
   "attachments": {},
   "cell_type": "markdown",
   "metadata": {},
   "source": [
    "**Note: cat.codes means category codes.**"
   ]
  },
  {
   "cell_type": "code",
   "execution_count": 22,
   "metadata": {},
   "outputs": [],
   "source": [
    "interactions[\"user_index\"] = interactions[\"user_id\"].astype(\"category\").cat.codes"
   ]
  },
  {
   "attachments": {},
   "cell_type": "markdown",
   "metadata": {},
   "source": [
    "**User ID and Book Id - To Position.**"
   ]
  },
  {
   "cell_type": "code",
   "execution_count": 23,
   "metadata": {},
   "outputs": [
    {
     "data": {
      "text/plain": [
       "array([   0,  555, 1216, ..., 1054, 1143, 1183], dtype=int16)"
      ]
     },
     "execution_count": 23,
     "metadata": {},
     "output_type": "execute_result"
    }
   ],
   "source": [
    "interactions[\"user_index\"].unique()"
   ]
  },
  {
   "cell_type": "code",
   "execution_count": 24,
   "metadata": {},
   "outputs": [],
   "source": [
    "interactions[\"book_index\"] = interactions[\"book_id\"].astype(\"category\").cat.codes"
   ]
  },
  {
   "attachments": {},
   "cell_type": "markdown",
   "metadata": {},
   "source": [
    "**Note 1: Sparse Matrix will be used.**"
   ]
  },
  {
   "attachments": {},
   "cell_type": "markdown",
   "metadata": {},
   "source": [
    "**Note 2: if there is no value in a column you just leave it blank and not take up any memory or storage space (Sparse Matrix).**"
   ]
  },
  {
   "cell_type": "code",
   "execution_count": 27,
   "metadata": {},
   "outputs": [],
   "source": [
    "from scipy.sparse import coo_matrix\n",
    "\n",
    "ratings_mat_coo = coo_matrix((interactions[\"rating\"], (interactions[\"user_index\"], interactions[\"book_index\"])))"
   ]
  },
  {
   "cell_type": "code",
   "execution_count": 28,
   "metadata": {},
   "outputs": [
    {
     "data": {
      "text/plain": [
       "<1259x802870 sparse matrix of type '<class 'numpy.int64'>'\n",
       "\twith 5638728 stored elements in COOrdinate format>"
      ]
     },
     "execution_count": 28,
     "metadata": {},
     "output_type": "execute_result"
    }
   ],
   "source": [
    "ratings_mat_coo"
   ]
  },
  {
   "attachments": {},
   "cell_type": "markdown",
   "metadata": {},
   "source": [
    "**Convert coo matrix to csr matrix.**"
   ]
  },
  {
   "attachments": {},
   "cell_type": "markdown",
   "metadata": {},
   "source": [
    "**coo matrices are a little bit easier to create which is why we initially created it in coo format and now we are going to convert it in csr format.**"
   ]
  },
  {
   "cell_type": "code",
   "execution_count": 30,
   "metadata": {},
   "outputs": [],
   "source": [
    "ratings_mat = ratings_mat_coo.tocsr()"
   ]
  },
  {
   "attachments": {},
   "cell_type": "markdown",
   "metadata": {},
   "source": [
    "**5. Finding Users Similar To Us**"
   ]
  },
  {
   "cell_type": "code",
   "execution_count": 31,
   "metadata": {},
   "outputs": [
    {
     "data": {
      "text/html": [
       "<div>\n",
       "<style scoped>\n",
       "    .dataframe tbody tr th:only-of-type {\n",
       "        vertical-align: middle;\n",
       "    }\n",
       "\n",
       "    .dataframe tbody tr th {\n",
       "        vertical-align: top;\n",
       "    }\n",
       "\n",
       "    .dataframe thead th {\n",
       "        text-align: right;\n",
       "    }\n",
       "</style>\n",
       "<table border=\"1\" class=\"dataframe\">\n",
       "  <thead>\n",
       "    <tr style=\"text-align: right;\">\n",
       "      <th></th>\n",
       "      <th>user_id</th>\n",
       "      <th>book_id</th>\n",
       "      <th>rating</th>\n",
       "      <th>user_index</th>\n",
       "      <th>book_index</th>\n",
       "    </tr>\n",
       "  </thead>\n",
       "  <tbody>\n",
       "    <tr>\n",
       "      <th>0</th>\n",
       "      <td>-1</td>\n",
       "      <td>2517439</td>\n",
       "      <td>5</td>\n",
       "      <td>0</td>\n",
       "      <td>414880</td>\n",
       "    </tr>\n",
       "    <tr>\n",
       "      <th>1</th>\n",
       "      <td>-1</td>\n",
       "      <td>113576</td>\n",
       "      <td>5</td>\n",
       "      <td>0</td>\n",
       "      <td>38971</td>\n",
       "    </tr>\n",
       "    <tr>\n",
       "      <th>2</th>\n",
       "      <td>-1</td>\n",
       "      <td>35100</td>\n",
       "      <td>5</td>\n",
       "      <td>0</td>\n",
       "      <td>575858</td>\n",
       "    </tr>\n",
       "    <tr>\n",
       "      <th>3</th>\n",
       "      <td>-1</td>\n",
       "      <td>228221</td>\n",
       "      <td>5</td>\n",
       "      <td>0</td>\n",
       "      <td>356004</td>\n",
       "    </tr>\n",
       "    <tr>\n",
       "      <th>5</th>\n",
       "      <td>-1</td>\n",
       "      <td>17662739</td>\n",
       "      <td>5</td>\n",
       "      <td>0</td>\n",
       "      <td>214285</td>\n",
       "    </tr>\n",
       "    <tr>\n",
       "      <th>6</th>\n",
       "      <td>-1</td>\n",
       "      <td>356824</td>\n",
       "      <td>5</td>\n",
       "      <td>0</td>\n",
       "      <td>581743</td>\n",
       "    </tr>\n",
       "    <tr>\n",
       "      <th>7</th>\n",
       "      <td>-1</td>\n",
       "      <td>12125412</td>\n",
       "      <td>5</td>\n",
       "      <td>0</td>\n",
       "      <td>59763</td>\n",
       "    </tr>\n",
       "    <tr>\n",
       "      <th>8</th>\n",
       "      <td>-1</td>\n",
       "      <td>139069</td>\n",
       "      <td>5</td>\n",
       "      <td>0</td>\n",
       "      <td>124430</td>\n",
       "    </tr>\n",
       "    <tr>\n",
       "      <th>10</th>\n",
       "      <td>-1</td>\n",
       "      <td>76680</td>\n",
       "      <td>5</td>\n",
       "      <td>0</td>\n",
       "      <td>722098</td>\n",
       "    </tr>\n",
       "    <tr>\n",
       "      <th>11</th>\n",
       "      <td>-1</td>\n",
       "      <td>1898</td>\n",
       "      <td>5</td>\n",
       "      <td>0</td>\n",
       "      <td>276178</td>\n",
       "    </tr>\n",
       "    <tr>\n",
       "      <th>12</th>\n",
       "      <td>-1</td>\n",
       "      <td>5096865</td>\n",
       "      <td>5</td>\n",
       "      <td>0</td>\n",
       "      <td>625929</td>\n",
       "    </tr>\n",
       "    <tr>\n",
       "      <th>13</th>\n",
       "      <td>-1</td>\n",
       "      <td>228665</td>\n",
       "      <td>5</td>\n",
       "      <td>0</td>\n",
       "      <td>357774</td>\n",
       "    </tr>\n",
       "    <tr>\n",
       "      <th>17</th>\n",
       "      <td>-1</td>\n",
       "      <td>437143</td>\n",
       "      <td>5</td>\n",
       "      <td>0</td>\n",
       "      <td>607659</td>\n",
       "    </tr>\n",
       "    <tr>\n",
       "      <th>18</th>\n",
       "      <td>-1</td>\n",
       "      <td>18949861</td>\n",
       "      <td>5</td>\n",
       "      <td>0</td>\n",
       "      <td>275433</td>\n",
       "    </tr>\n",
       "    <tr>\n",
       "      <th>19</th>\n",
       "      <td>-1</td>\n",
       "      <td>2913377</td>\n",
       "      <td>5</td>\n",
       "      <td>0</td>\n",
       "      <td>496223</td>\n",
       "    </tr>\n",
       "    <tr>\n",
       "      <th>20</th>\n",
       "      <td>-1</td>\n",
       "      <td>1215032</td>\n",
       "      <td>5</td>\n",
       "      <td>0</td>\n",
       "      <td>60398</td>\n",
       "    </tr>\n",
       "    <tr>\n",
       "      <th>21</th>\n",
       "      <td>-1</td>\n",
       "      <td>883438</td>\n",
       "      <td>5</td>\n",
       "      <td>0</td>\n",
       "      <td>767233</td>\n",
       "    </tr>\n",
       "    <tr>\n",
       "      <th>22</th>\n",
       "      <td>-1</td>\n",
       "      <td>5578108</td>\n",
       "      <td>5</td>\n",
       "      <td>0</td>\n",
       "      <td>637486</td>\n",
       "    </tr>\n",
       "    <tr>\n",
       "      <th>23</th>\n",
       "      <td>-1</td>\n",
       "      <td>128029</td>\n",
       "      <td>5</td>\n",
       "      <td>0</td>\n",
       "      <td>78172</td>\n",
       "    </tr>\n",
       "    <tr>\n",
       "      <th>24</th>\n",
       "      <td>-1</td>\n",
       "      <td>77203</td>\n",
       "      <td>5</td>\n",
       "      <td>0</td>\n",
       "      <td>724379</td>\n",
       "    </tr>\n",
       "    <tr>\n",
       "      <th>25</th>\n",
       "      <td>-1</td>\n",
       "      <td>5439</td>\n",
       "      <td>5</td>\n",
       "      <td>0</td>\n",
       "      <td>633999</td>\n",
       "    </tr>\n",
       "    <tr>\n",
       "      <th>26</th>\n",
       "      <td>-1</td>\n",
       "      <td>1685995</td>\n",
       "      <td>5</td>\n",
       "      <td>0</td>\n",
       "      <td>188133</td>\n",
       "    </tr>\n",
       "    <tr>\n",
       "      <th>27</th>\n",
       "      <td>-1</td>\n",
       "      <td>6448772</td>\n",
       "      <td>5</td>\n",
       "      <td>0</td>\n",
       "      <td>671711</td>\n",
       "    </tr>\n",
       "    <tr>\n",
       "      <th>527</th>\n",
       "      <td>-1</td>\n",
       "      <td>8161140</td>\n",
       "      <td>1</td>\n",
       "      <td>0</td>\n",
       "      <td>742532</td>\n",
       "    </tr>\n",
       "    <tr>\n",
       "      <th>528</th>\n",
       "      <td>-1</td>\n",
       "      <td>28187</td>\n",
       "      <td>1</td>\n",
       "      <td>0</td>\n",
       "      <td>480322</td>\n",
       "    </tr>\n",
       "    <tr>\n",
       "      <th>531</th>\n",
       "      <td>-1</td>\n",
       "      <td>25659450</td>\n",
       "      <td>1</td>\n",
       "      <td>0</td>\n",
       "      <td>431105</td>\n",
       "    </tr>\n",
       "    <tr>\n",
       "      <th>532</th>\n",
       "      <td>-1</td>\n",
       "      <td>82599</td>\n",
       "      <td>1</td>\n",
       "      <td>0</td>\n",
       "      <td>746448</td>\n",
       "    </tr>\n",
       "  </tbody>\n",
       "</table>\n",
       "</div>"
      ],
      "text/plain": [
       "    user_id   book_id  rating  user_index  book_index\n",
       "0        -1   2517439       5           0      414880\n",
       "1        -1    113576       5           0       38971\n",
       "2        -1     35100       5           0      575858\n",
       "3        -1    228221       5           0      356004\n",
       "5        -1  17662739       5           0      214285\n",
       "6        -1    356824       5           0      581743\n",
       "7        -1  12125412       5           0       59763\n",
       "8        -1    139069       5           0      124430\n",
       "10       -1     76680       5           0      722098\n",
       "11       -1      1898       5           0      276178\n",
       "12       -1   5096865       5           0      625929\n",
       "13       -1    228665       5           0      357774\n",
       "17       -1    437143       5           0      607659\n",
       "18       -1  18949861       5           0      275433\n",
       "19       -1   2913377       5           0      496223\n",
       "20       -1   1215032       5           0       60398\n",
       "21       -1    883438       5           0      767233\n",
       "22       -1   5578108       5           0      637486\n",
       "23       -1    128029       5           0       78172\n",
       "24       -1     77203       5           0      724379\n",
       "25       -1      5439       5           0      633999\n",
       "26       -1   1685995       5           0      188133\n",
       "27       -1   6448772       5           0      671711\n",
       "527      -1   8161140       1           0      742532\n",
       "528      -1     28187       1           0      480322\n",
       "531      -1  25659450       1           0      431105\n",
       "532      -1     82599       1           0      746448"
      ]
     },
     "execution_count": 31,
     "metadata": {},
     "output_type": "execute_result"
    }
   ],
   "source": [
    "interactions[interactions[\"user_id\"] == \"-1\"]"
   ]
  },
  {
   "cell_type": "code",
   "execution_count": 32,
   "metadata": {},
   "outputs": [],
   "source": [
    "my_index = 0"
   ]
  },
  {
   "attachments": {},
   "cell_type": "markdown",
   "metadata": {},
   "source": [
    "**Use a cosine similarity measure to find users that are similar to us and have similar taste in books.**"
   ]
  },
  {
   "attachments": {},
   "cell_type": "markdown",
   "metadata": {},
   "source": [
    "**Cosine similarity will just find the similarity between two rows in our matrix so that we can find how similar each user is to us in terms of what books they read and how they rated them.**"
   ]
  },
  {
   "cell_type": "code",
   "execution_count": 33,
   "metadata": {},
   "outputs": [],
   "source": [
    "from sklearn.metrics.pairwise import cosine_similarity\n",
    "\n",
    "similarity = cosine_similarity(ratings_mat[my_index,:], ratings_mat).flatten()"
   ]
  },
  {
   "cell_type": "code",
   "execution_count": 34,
   "metadata": {},
   "outputs": [
    {
     "data": {
      "text/plain": [
       "0.9999999999999999"
      ]
     },
     "execution_count": 34,
     "metadata": {},
     "output_type": "execute_result"
    }
   ],
   "source": [
    "similarity[0]"
   ]
  },
  {
   "attachments": {},
   "cell_type": "markdown",
   "metadata": {},
   "source": [
    "**We will find the indices of the users who are most similar to us - That is what this numpy r partition function does - We're passing in negative 15. So what we're going to find are the 15 users who have the most similar taste.**"
   ]
  },
  {
   "cell_type": "code",
   "execution_count": 35,
   "metadata": {},
   "outputs": [],
   "source": [
    "import numpy as np\n",
    "\n",
    "indices = np.argpartition(similarity, -15)[-15:]"
   ]
  },
  {
   "cell_type": "code",
   "execution_count": 36,
   "metadata": {},
   "outputs": [
    {
     "data": {
      "text/plain": [
       "array([1188,  942,  218,  129,  496,  435, 1208,  795, 1213, 1210, 1143,\n",
       "        321,  294,  862,    0])"
      ]
     },
     "execution_count": 36,
     "metadata": {},
     "output_type": "execute_result"
    }
   ],
   "source": [
    "indices"
   ]
  },
  {
   "attachments": {},
   "cell_type": "markdown",
   "metadata": {},
   "source": [
    "**Find all of the rows in interactions where the user index is in our indices.**"
   ]
  },
  {
   "cell_type": "code",
   "execution_count": 37,
   "metadata": {},
   "outputs": [],
   "source": [
    "similar_users = interactions[interactions[\"user_index\"].isin(indices)].copy()"
   ]
  },
  {
   "attachments": {},
   "cell_type": "markdown",
   "metadata": {},
   "source": [
    "**We'll just take ourselves out so we do not get book recommendations from ourselves.**"
   ]
  },
  {
   "cell_type": "code",
   "execution_count": 38,
   "metadata": {},
   "outputs": [],
   "source": [
    "similar_users = similar_users[similar_users[\"user_id\"]!=\"-1\"]"
   ]
  },
  {
   "cell_type": "code",
   "execution_count": 39,
   "metadata": {},
   "outputs": [
    {
     "data": {
      "text/html": [
       "<div>\n",
       "<style scoped>\n",
       "    .dataframe tbody tr th:only-of-type {\n",
       "        vertical-align: middle;\n",
       "    }\n",
       "\n",
       "    .dataframe tbody tr th {\n",
       "        vertical-align: top;\n",
       "    }\n",
       "\n",
       "    .dataframe thead th {\n",
       "        text-align: right;\n",
       "    }\n",
       "</style>\n",
       "<table border=\"1\" class=\"dataframe\">\n",
       "  <thead>\n",
       "    <tr style=\"text-align: right;\">\n",
       "      <th></th>\n",
       "      <th>user_id</th>\n",
       "      <th>book_id</th>\n",
       "      <th>rating</th>\n",
       "      <th>user_index</th>\n",
       "      <th>book_index</th>\n",
       "    </tr>\n",
       "  </thead>\n",
       "  <tbody>\n",
       "    <tr>\n",
       "      <th>45312</th>\n",
       "      <td>4133</td>\n",
       "      <td>5359</td>\n",
       "      <td>3</td>\n",
       "      <td>942</td>\n",
       "      <td>632143</td>\n",
       "    </tr>\n",
       "    <tr>\n",
       "      <th>45313</th>\n",
       "      <td>4133</td>\n",
       "      <td>10464963</td>\n",
       "      <td>4</td>\n",
       "      <td>942</td>\n",
       "      <td>13492</td>\n",
       "    </tr>\n",
       "    <tr>\n",
       "      <th>45314</th>\n",
       "      <td>4133</td>\n",
       "      <td>3858</td>\n",
       "      <td>3</td>\n",
       "      <td>942</td>\n",
       "      <td>593622</td>\n",
       "    </tr>\n",
       "    <tr>\n",
       "      <th>45315</th>\n",
       "      <td>4133</td>\n",
       "      <td>11827808</td>\n",
       "      <td>4</td>\n",
       "      <td>942</td>\n",
       "      <td>51904</td>\n",
       "    </tr>\n",
       "    <tr>\n",
       "      <th>45316</th>\n",
       "      <td>4133</td>\n",
       "      <td>7913305</td>\n",
       "      <td>4</td>\n",
       "      <td>942</td>\n",
       "      <td>732465</td>\n",
       "    </tr>\n",
       "    <tr>\n",
       "      <th>...</th>\n",
       "      <td>...</td>\n",
       "      <td>...</td>\n",
       "      <td>...</td>\n",
       "      <td>...</td>\n",
       "      <td>...</td>\n",
       "    </tr>\n",
       "    <tr>\n",
       "      <th>5638521</th>\n",
       "      <td>712588</td>\n",
       "      <td>32388712</td>\n",
       "      <td>3</td>\n",
       "      <td>1143</td>\n",
       "      <td>543119</td>\n",
       "    </tr>\n",
       "    <tr>\n",
       "      <th>5638522</th>\n",
       "      <td>712588</td>\n",
       "      <td>16322</td>\n",
       "      <td>5</td>\n",
       "      <td>1143</td>\n",
       "      <td>183365</td>\n",
       "    </tr>\n",
       "    <tr>\n",
       "      <th>5638523</th>\n",
       "      <td>712588</td>\n",
       "      <td>860543</td>\n",
       "      <td>0</td>\n",
       "      <td>1143</td>\n",
       "      <td>759827</td>\n",
       "    </tr>\n",
       "    <tr>\n",
       "      <th>5638524</th>\n",
       "      <td>712588</td>\n",
       "      <td>853510</td>\n",
       "      <td>5</td>\n",
       "      <td>1143</td>\n",
       "      <td>756768</td>\n",
       "    </tr>\n",
       "    <tr>\n",
       "      <th>5638525</th>\n",
       "      <td>712588</td>\n",
       "      <td>13890</td>\n",
       "      <td>4</td>\n",
       "      <td>1143</td>\n",
       "      <td>124251</td>\n",
       "    </tr>\n",
       "  </tbody>\n",
       "</table>\n",
       "<p>4302 rows × 5 columns</p>\n",
       "</div>"
      ],
      "text/plain": [
       "        user_id   book_id  rating  user_index  book_index\n",
       "45312      4133      5359       3         942      632143\n",
       "45313      4133  10464963       4         942       13492\n",
       "45314      4133      3858       3         942      593622\n",
       "45315      4133  11827808       4         942       51904\n",
       "45316      4133   7913305       4         942      732465\n",
       "...         ...       ...     ...         ...         ...\n",
       "5638521  712588  32388712       3        1143      543119\n",
       "5638522  712588     16322       5        1143      183365\n",
       "5638523  712588    860543       0        1143      759827\n",
       "5638524  712588    853510       5        1143      756768\n",
       "5638525  712588     13890       4        1143      124251\n",
       "\n",
       "[4302 rows x 5 columns]"
      ]
     },
     "execution_count": 39,
     "metadata": {},
     "output_type": "execute_result"
    }
   ],
   "source": [
    "similar_users"
   ]
  },
  {
   "attachments": {},
   "cell_type": "markdown",
   "metadata": {},
   "source": [
    "**6. Creating Book Recommendations**"
   ]
  },
  {
   "attachments": {},
   "cell_type": "markdown",
   "metadata": {},
   "source": [
    "**How many times each book appeared in these recommendations.**"
   ]
  },
  {
   "cell_type": "code",
   "execution_count": 40,
   "metadata": {},
   "outputs": [],
   "source": [
    "book_recs = similar_users.groupby(\"book_id\").rating.agg(['count', 'mean'])"
   ]
  },
  {
   "cell_type": "code",
   "execution_count": 41,
   "metadata": {},
   "outputs": [
    {
     "data": {
      "text/html": [
       "<div>\n",
       "<style scoped>\n",
       "    .dataframe tbody tr th:only-of-type {\n",
       "        vertical-align: middle;\n",
       "    }\n",
       "\n",
       "    .dataframe tbody tr th {\n",
       "        vertical-align: top;\n",
       "    }\n",
       "\n",
       "    .dataframe thead th {\n",
       "        text-align: right;\n",
       "    }\n",
       "</style>\n",
       "<table border=\"1\" class=\"dataframe\">\n",
       "  <thead>\n",
       "    <tr style=\"text-align: right;\">\n",
       "      <th></th>\n",
       "      <th>count</th>\n",
       "      <th>mean</th>\n",
       "    </tr>\n",
       "    <tr>\n",
       "      <th>book_id</th>\n",
       "      <th></th>\n",
       "      <th></th>\n",
       "    </tr>\n",
       "  </thead>\n",
       "  <tbody>\n",
       "    <tr>\n",
       "      <th>1</th>\n",
       "      <td>6</td>\n",
       "      <td>3.833333</td>\n",
       "    </tr>\n",
       "    <tr>\n",
       "      <th>100322</th>\n",
       "      <td>1</td>\n",
       "      <td>0.000000</td>\n",
       "    </tr>\n",
       "    <tr>\n",
       "      <th>100365</th>\n",
       "      <td>1</td>\n",
       "      <td>0.000000</td>\n",
       "    </tr>\n",
       "    <tr>\n",
       "      <th>10046142</th>\n",
       "      <td>1</td>\n",
       "      <td>0.000000</td>\n",
       "    </tr>\n",
       "    <tr>\n",
       "      <th>1005</th>\n",
       "      <td>3</td>\n",
       "      <td>0.000000</td>\n",
       "    </tr>\n",
       "    <tr>\n",
       "      <th>...</th>\n",
       "      <td>...</td>\n",
       "      <td>...</td>\n",
       "    </tr>\n",
       "    <tr>\n",
       "      <th>99561</th>\n",
       "      <td>2</td>\n",
       "      <td>2.500000</td>\n",
       "    </tr>\n",
       "    <tr>\n",
       "      <th>99610</th>\n",
       "      <td>1</td>\n",
       "      <td>3.000000</td>\n",
       "    </tr>\n",
       "    <tr>\n",
       "      <th>99664</th>\n",
       "      <td>1</td>\n",
       "      <td>4.000000</td>\n",
       "    </tr>\n",
       "    <tr>\n",
       "      <th>9969571</th>\n",
       "      <td>3</td>\n",
       "      <td>2.333333</td>\n",
       "    </tr>\n",
       "    <tr>\n",
       "      <th>99944</th>\n",
       "      <td>1</td>\n",
       "      <td>0.000000</td>\n",
       "    </tr>\n",
       "  </tbody>\n",
       "</table>\n",
       "<p>2856 rows × 2 columns</p>\n",
       "</div>"
      ],
      "text/plain": [
       "          count      mean\n",
       "book_id                  \n",
       "1             6  3.833333\n",
       "100322        1  0.000000\n",
       "100365        1  0.000000\n",
       "10046142      1  0.000000\n",
       "1005          3  0.000000\n",
       "...         ...       ...\n",
       "99561         2  2.500000\n",
       "99610         1  3.000000\n",
       "99664         1  4.000000\n",
       "9969571       3  2.333333\n",
       "99944         1  0.000000\n",
       "\n",
       "[2856 rows x 2 columns]"
      ]
     },
     "execution_count": 41,
     "metadata": {},
     "output_type": "execute_result"
    }
   ],
   "source": [
    "book_recs"
   ]
  },
  {
   "attachments": {},
   "cell_type": "markdown",
   "metadata": {},
   "source": [
    "**Adding book titles.**"
   ]
  },
  {
   "cell_type": "code",
   "execution_count": 42,
   "metadata": {},
   "outputs": [],
   "source": [
    "books_titles = pd.read_json(\"books_titles.json\")\n",
    "books_titles[\"book_id\"] = books_titles[\"book_id\"].astype(str)"
   ]
  },
  {
   "attachments": {},
   "cell_type": "markdown",
   "metadata": {},
   "source": [
    "**Merge our 2 datasets to get the book titles into our recommendations.**"
   ]
  },
  {
   "cell_type": "code",
   "execution_count": 43,
   "metadata": {},
   "outputs": [],
   "source": [
    "book_recs = book_recs.merge(books_titles, how=\"inner\", on=\"book_id\")"
   ]
  },
  {
   "cell_type": "code",
   "execution_count": 44,
   "metadata": {},
   "outputs": [
    {
     "data": {
      "text/html": [
       "<div>\n",
       "<style scoped>\n",
       "    .dataframe tbody tr th:only-of-type {\n",
       "        vertical-align: middle;\n",
       "    }\n",
       "\n",
       "    .dataframe tbody tr th {\n",
       "        vertical-align: top;\n",
       "    }\n",
       "\n",
       "    .dataframe thead th {\n",
       "        text-align: right;\n",
       "    }\n",
       "</style>\n",
       "<table border=\"1\" class=\"dataframe\">\n",
       "  <thead>\n",
       "    <tr style=\"text-align: right;\">\n",
       "      <th></th>\n",
       "      <th>book_id</th>\n",
       "      <th>count</th>\n",
       "      <th>mean</th>\n",
       "      <th>title</th>\n",
       "      <th>ratings</th>\n",
       "      <th>url</th>\n",
       "      <th>cover_image</th>\n",
       "      <th>mod_title</th>\n",
       "    </tr>\n",
       "  </thead>\n",
       "  <tbody>\n",
       "    <tr>\n",
       "      <th>0</th>\n",
       "      <td>1</td>\n",
       "      <td>6</td>\n",
       "      <td>3.833333</td>\n",
       "      <td>Harry Potter and the Half-Blood Prince (Harry ...</td>\n",
       "      <td>1713866</td>\n",
       "      <td>https://www.goodreads.com/book/show/1.Harry_Po...</td>\n",
       "      <td>https://images.gr-assets.com/books/1361039191m...</td>\n",
       "      <td>harry potter and the halfblood prince harry po...</td>\n",
       "    </tr>\n",
       "    <tr>\n",
       "      <th>1</th>\n",
       "      <td>100322</td>\n",
       "      <td>1</td>\n",
       "      <td>0.000000</td>\n",
       "      <td>Assata: An Autobiography</td>\n",
       "      <td>11057</td>\n",
       "      <td>https://www.goodreads.com/book/show/100322.Assata</td>\n",
       "      <td>https://images.gr-assets.com/books/1328857268m...</td>\n",
       "      <td>assata an autobiography</td>\n",
       "    </tr>\n",
       "    <tr>\n",
       "      <th>2</th>\n",
       "      <td>100365</td>\n",
       "      <td>1</td>\n",
       "      <td>0.000000</td>\n",
       "      <td>The Mote in God's Eye</td>\n",
       "      <td>48736</td>\n",
       "      <td>https://www.goodreads.com/book/show/100365.The...</td>\n",
       "      <td>https://images.gr-assets.com/books/1399490037m...</td>\n",
       "      <td>the mote in gods eye</td>\n",
       "    </tr>\n",
       "    <tr>\n",
       "      <th>3</th>\n",
       "      <td>10046142</td>\n",
       "      <td>1</td>\n",
       "      <td>0.000000</td>\n",
       "      <td>Dancing in the Glory of Monsters: The Collapse...</td>\n",
       "      <td>2391</td>\n",
       "      <td>https://www.goodreads.com/book/show/10046142-d...</td>\n",
       "      <td>https://images.gr-assets.com/books/1328757755m...</td>\n",
       "      <td>dancing in the glory of monsters the collapse ...</td>\n",
       "    </tr>\n",
       "    <tr>\n",
       "      <th>4</th>\n",
       "      <td>1005</td>\n",
       "      <td>3</td>\n",
       "      <td>0.000000</td>\n",
       "      <td>Think and Grow Rich</td>\n",
       "      <td>87634</td>\n",
       "      <td>https://www.goodreads.com/book/show/1005.Think...</td>\n",
       "      <td>https://s.gr-assets.com/assets/nophoto/book/11...</td>\n",
       "      <td>think and grow rich</td>\n",
       "    </tr>\n",
       "    <tr>\n",
       "      <th>...</th>\n",
       "      <td>...</td>\n",
       "      <td>...</td>\n",
       "      <td>...</td>\n",
       "      <td>...</td>\n",
       "      <td>...</td>\n",
       "      <td>...</td>\n",
       "      <td>...</td>\n",
       "      <td>...</td>\n",
       "    </tr>\n",
       "    <tr>\n",
       "      <th>2843</th>\n",
       "      <td>99561</td>\n",
       "      <td>2</td>\n",
       "      <td>2.500000</td>\n",
       "      <td>Looking for Alaska</td>\n",
       "      <td>804587</td>\n",
       "      <td>https://www.goodreads.com/book/show/99561.Look...</td>\n",
       "      <td>https://images.gr-assets.com/books/1394798630m...</td>\n",
       "      <td>looking for alaska</td>\n",
       "    </tr>\n",
       "    <tr>\n",
       "      <th>2844</th>\n",
       "      <td>99610</td>\n",
       "      <td>1</td>\n",
       "      <td>3.000000</td>\n",
       "      <td>The Best Laid Plans</td>\n",
       "      <td>17434</td>\n",
       "      <td>https://www.goodreads.com/book/show/99610.The_...</td>\n",
       "      <td>https://images.gr-assets.com/books/1353374848m...</td>\n",
       "      <td>the best laid plans</td>\n",
       "    </tr>\n",
       "    <tr>\n",
       "      <th>2845</th>\n",
       "      <td>99664</td>\n",
       "      <td>1</td>\n",
       "      <td>4.000000</td>\n",
       "      <td>The Painted Veil</td>\n",
       "      <td>24606</td>\n",
       "      <td>https://www.goodreads.com/book/show/99664.The_...</td>\n",
       "      <td>https://images.gr-assets.com/books/1320421719m...</td>\n",
       "      <td>the painted veil</td>\n",
       "    </tr>\n",
       "    <tr>\n",
       "      <th>2846</th>\n",
       "      <td>9969571</td>\n",
       "      <td>3</td>\n",
       "      <td>2.333333</td>\n",
       "      <td>Ready Player One</td>\n",
       "      <td>376328</td>\n",
       "      <td>https://www.goodreads.com/book/show/9969571-re...</td>\n",
       "      <td>https://images.gr-assets.com/books/1500930947m...</td>\n",
       "      <td>ready player one</td>\n",
       "    </tr>\n",
       "    <tr>\n",
       "      <th>2847</th>\n",
       "      <td>99944</td>\n",
       "      <td>1</td>\n",
       "      <td>0.000000</td>\n",
       "      <td>The Bhagavad Gita</td>\n",
       "      <td>33855</td>\n",
       "      <td>https://www.goodreads.com/book/show/99944.The_...</td>\n",
       "      <td>https://images.gr-assets.com/books/1383059639m...</td>\n",
       "      <td>the bhagavad gita</td>\n",
       "    </tr>\n",
       "  </tbody>\n",
       "</table>\n",
       "<p>2848 rows × 8 columns</p>\n",
       "</div>"
      ],
      "text/plain": [
       "       book_id  count      mean   \n",
       "0            1      6  3.833333  \\\n",
       "1       100322      1  0.000000   \n",
       "2       100365      1  0.000000   \n",
       "3     10046142      1  0.000000   \n",
       "4         1005      3  0.000000   \n",
       "...        ...    ...       ...   \n",
       "2843     99561      2  2.500000   \n",
       "2844     99610      1  3.000000   \n",
       "2845     99664      1  4.000000   \n",
       "2846   9969571      3  2.333333   \n",
       "2847     99944      1  0.000000   \n",
       "\n",
       "                                                  title  ratings   \n",
       "0     Harry Potter and the Half-Blood Prince (Harry ...  1713866  \\\n",
       "1                              Assata: An Autobiography    11057   \n",
       "2                                 The Mote in God's Eye    48736   \n",
       "3     Dancing in the Glory of Monsters: The Collapse...     2391   \n",
       "4                                   Think and Grow Rich    87634   \n",
       "...                                                 ...      ...   \n",
       "2843                                 Looking for Alaska   804587   \n",
       "2844                                The Best Laid Plans    17434   \n",
       "2845                                   The Painted Veil    24606   \n",
       "2846                                   Ready Player One   376328   \n",
       "2847                                  The Bhagavad Gita    33855   \n",
       "\n",
       "                                                    url   \n",
       "0     https://www.goodreads.com/book/show/1.Harry_Po...  \\\n",
       "1     https://www.goodreads.com/book/show/100322.Assata   \n",
       "2     https://www.goodreads.com/book/show/100365.The...   \n",
       "3     https://www.goodreads.com/book/show/10046142-d...   \n",
       "4     https://www.goodreads.com/book/show/1005.Think...   \n",
       "...                                                 ...   \n",
       "2843  https://www.goodreads.com/book/show/99561.Look...   \n",
       "2844  https://www.goodreads.com/book/show/99610.The_...   \n",
       "2845  https://www.goodreads.com/book/show/99664.The_...   \n",
       "2846  https://www.goodreads.com/book/show/9969571-re...   \n",
       "2847  https://www.goodreads.com/book/show/99944.The_...   \n",
       "\n",
       "                                            cover_image   \n",
       "0     https://images.gr-assets.com/books/1361039191m...  \\\n",
       "1     https://images.gr-assets.com/books/1328857268m...   \n",
       "2     https://images.gr-assets.com/books/1399490037m...   \n",
       "3     https://images.gr-assets.com/books/1328757755m...   \n",
       "4     https://s.gr-assets.com/assets/nophoto/book/11...   \n",
       "...                                                 ...   \n",
       "2843  https://images.gr-assets.com/books/1394798630m...   \n",
       "2844  https://images.gr-assets.com/books/1353374848m...   \n",
       "2845  https://images.gr-assets.com/books/1320421719m...   \n",
       "2846  https://images.gr-assets.com/books/1500930947m...   \n",
       "2847  https://images.gr-assets.com/books/1383059639m...   \n",
       "\n",
       "                                              mod_title  \n",
       "0     harry potter and the halfblood prince harry po...  \n",
       "1                               assata an autobiography  \n",
       "2                                  the mote in gods eye  \n",
       "3     dancing in the glory of monsters the collapse ...  \n",
       "4                                   think and grow rich  \n",
       "...                                                 ...  \n",
       "2843                                 looking for alaska  \n",
       "2844                                the best laid plans  \n",
       "2845                                   the painted veil  \n",
       "2846                                   ready player one  \n",
       "2847                                  the bhagavad gita  \n",
       "\n",
       "[2848 rows x 8 columns]"
      ]
     },
     "execution_count": 44,
     "metadata": {},
     "output_type": "execute_result"
    }
   ],
   "source": [
    "book_recs"
   ]
  }
 ],
 "metadata": {
  "kernelspec": {
   "display_name": "britney",
   "language": "python",
   "name": "python3"
  },
  "language_info": {
   "codemirror_mode": {
    "name": "ipython",
    "version": 3
   },
   "file_extension": ".py",
   "mimetype": "text/x-python",
   "name": "python",
   "nbconvert_exporter": "python",
   "pygments_lexer": "ipython3",
   "version": "3.10.10"
  },
  "orig_nbformat": 4
 },
 "nbformat": 4,
 "nbformat_minor": 2
}
