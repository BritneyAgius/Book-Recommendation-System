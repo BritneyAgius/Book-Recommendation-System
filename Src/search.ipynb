{
 "cells": [
  {
   "attachments": {},
   "cell_type": "markdown",
   "metadata": {},
   "source": [
    "**1. Exploring the data.**"
   ]
  },
  {
   "attachments": {},
   "cell_type": "markdown",
   "metadata": {},
   "source": [
    "**Counts the lines in a file.**"
   ]
  },
  {
   "cell_type": "code",
   "execution_count": 3,
   "metadata": {},
   "outputs": [
    {
     "name": "stdout",
     "output_type": "stream",
     "text": [
      " 7588375 goodreads_books.json.gz\n"
     ]
    }
   ],
   "source": [
    "!wc -l goodreads_books.json.gz"
   ]
  },
  {
   "attachments": {},
   "cell_type": "markdown",
   "metadata": {},
   "source": [
    "**Show me the size of all the files in the directory and then search only for the specific file (goodreads books).**"
   ]
  },
  {
   "attachments": {},
   "cell_type": "markdown",
   "metadata": {},
   "source": [
    "**Definition: .gz is a zipped file.**"
   ]
  },
  {
   "cell_type": "code",
   "execution_count": 4,
   "metadata": {},
   "outputs": [
    {
     "name": "stdout",
     "output_type": "stream",
     "text": [
      "-rw-r--r--@ 1 frankieinguanez  staff   1.9G Apr  3 17:11 goodreads_books.json.gz\n"
     ]
    }
   ],
   "source": [
    "!ls -lh goodreads_books.json.gz"
   ]
  },
  {
   "attachments": {},
   "cell_type": "markdown",
   "metadata": {},
   "source": [
    "**Stream the file without unzipping**\n",
    "**Read the file line by line without using that much memory**"
   ]
  },
  {
   "cell_type": "code",
   "execution_count": 5,
   "metadata": {},
   "outputs": [],
   "source": [
    "import gzip\n",
    "with gzip.open(\"goodreads_books.json.gz\", 'r') as f:\n",
    "    line = f.readline()"
   ]
  },
  {
   "cell_type": "code",
   "execution_count": 6,
   "metadata": {},
   "outputs": [
    {
     "data": {
      "text/plain": [
       "b'{\"isbn\": \"0312853122\", \"text_reviews_count\": \"1\", \"series\": [], \"country_code\": \"US\", \"language_code\": \"\", \"popular_shelves\": [{\"count\": \"3\", \"name\": \"to-read\"}, {\"count\": \"1\", \"name\": \"p\"}, {\"count\": \"1\", \"name\": \"collection\"}, {\"count\": \"1\", \"name\": \"w-c-fields\"}, {\"count\": \"1\", \"name\": \"biography\"}], \"asin\": \"\", \"is_ebook\": \"false\", \"average_rating\": \"4.00\", \"kindle_asin\": \"\", \"similar_books\": [], \"description\": \"\", \"format\": \"Paperback\", \"link\": \"https://www.goodreads.com/book/show/5333265-w-c-fields\", \"authors\": [{\"author_id\": \"604031\", \"role\": \"\"}], \"publisher\": \"St. Martin\\'s Press\", \"num_pages\": \"256\", \"publication_day\": \"1\", \"isbn13\": \"9780312853129\", \"publication_month\": \"9\", \"edition_information\": \"\", \"publication_year\": \"1984\", \"url\": \"https://www.goodreads.com/book/show/5333265-w-c-fields\", \"image_url\": \"https://images.gr-assets.com/books/1310220028m/5333265.jpg\", \"book_id\": \"5333265\", \"ratings_count\": \"3\", \"work_id\": \"5400751\", \"title\": \"W.C. Fields: A Life on Film\", \"title_without_series\": \"W.C. Fields: A Life on Film\"}\\n'"
      ]
     },
     "execution_count": 6,
     "metadata": {},
     "output_type": "execute_result"
    }
   ],
   "source": [
    "line"
   ]
  },
  {
   "attachments": {},
   "cell_type": "markdown",
   "metadata": {},
   "source": [
    "**Use json to load the single line**"
   ]
  },
  {
   "cell_type": "code",
   "execution_count": 7,
   "metadata": {},
   "outputs": [
    {
     "data": {
      "text/plain": [
       "{'isbn': '0312853122',\n",
       " 'text_reviews_count': '1',\n",
       " 'series': [],\n",
       " 'country_code': 'US',\n",
       " 'language_code': '',\n",
       " 'popular_shelves': [{'count': '3', 'name': 'to-read'},\n",
       "  {'count': '1', 'name': 'p'},\n",
       "  {'count': '1', 'name': 'collection'},\n",
       "  {'count': '1', 'name': 'w-c-fields'},\n",
       "  {'count': '1', 'name': 'biography'}],\n",
       " 'asin': '',\n",
       " 'is_ebook': 'false',\n",
       " 'average_rating': '4.00',\n",
       " 'kindle_asin': '',\n",
       " 'similar_books': [],\n",
       " 'description': '',\n",
       " 'format': 'Paperback',\n",
       " 'link': 'https://www.goodreads.com/book/show/5333265-w-c-fields',\n",
       " 'authors': [{'author_id': '604031', 'role': ''}],\n",
       " 'publisher': \"St. Martin's Press\",\n",
       " 'num_pages': '256',\n",
       " 'publication_day': '1',\n",
       " 'isbn13': '9780312853129',\n",
       " 'publication_month': '9',\n",
       " 'edition_information': '',\n",
       " 'publication_year': '1984',\n",
       " 'url': 'https://www.goodreads.com/book/show/5333265-w-c-fields',\n",
       " 'image_url': 'https://images.gr-assets.com/books/1310220028m/5333265.jpg',\n",
       " 'book_id': '5333265',\n",
       " 'ratings_count': '3',\n",
       " 'work_id': '5400751',\n",
       " 'title': 'W.C. Fields: A Life on Film',\n",
       " 'title_without_series': 'W.C. Fields: A Life on Film'}"
      ]
     },
     "execution_count": 7,
     "metadata": {},
     "output_type": "execute_result"
    }
   ],
   "source": [
    "import json\n",
    "\n",
    "json.loads(line)"
   ]
  },
  {
   "attachments": {},
   "cell_type": "markdown",
   "metadata": {},
   "source": [
    "**2. Parsing our book metadata**"
   ]
  },
  {
   "attachments": {},
   "cell_type": "markdown",
   "metadata": {},
   "source": [
    "**Function that takes a single line and returns the data that is required**"
   ]
  },
  {
   "cell_type": "code",
   "execution_count": 8,
   "metadata": {},
   "outputs": [],
   "source": [
    "def parse_fields(line):\n",
    "    data = json.loads(line)\n",
    "    return {\n",
    "        \"book_id\": data[\"book_id\"],\n",
    "        \"title\": data[\"title_without_series\"],\n",
    "        \"ratings\": data[\"ratings_count\"],\n",
    "        \"url\": data[\"url\"],\n",
    "        \"cover_image\": data[\"image_url\"]\n",
    "    }"
   ]
  },
  {
   "attachments": {},
   "cell_type": "markdown",
   "metadata": {},
   "source": [
    "**Go line by line and parse each line**"
   ]
  },
  {
   "attachments": {},
   "cell_type": "markdown",
   "metadata": {},
   "source": [
    "**Note 1: When there is no line or f. to operare on - line will be equal to none and it will break**\n"
   ]
  },
  {
   "attachments": {},
   "cell_type": "markdown",
   "metadata": {},
   "source": [
    "**Note 2: Change ratings to integer as we only want to take books that have more than a certain number of ratings**"
   ]
  },
  {
   "cell_type": "code",
   "execution_count": 9,
   "metadata": {},
   "outputs": [],
   "source": [
    "books_titles = []\n",
    "with gzip.open(\"goodreads_books.json.gz\", 'r') as f:\n",
    "    while True:\n",
    "        line = f.readline()\n",
    "        if not line:\n",
    "            break\n",
    "        fields = parse_fields(line)\n",
    "\n",
    "        try:\n",
    "            ratings = int(fields[\"ratings\"])\n",
    "        except ValueError:\n",
    "            continue\n",
    "        if ratings > 15:\n",
    "            books_titles.append(fields)"
   ]
  },
  {
   "attachments": {},
   "cell_type": "markdown",
   "metadata": {},
   "source": [
    "**3. Processing book metadata**"
   ]
  },
  {
   "cell_type": "code",
   "execution_count": 10,
   "metadata": {},
   "outputs": [],
   "source": [
    "import pandas as pd\n",
    "\n",
    "titles = pd.DataFrame.from_dict(books_titles)"
   ]
  },
  {
   "cell_type": "code",
   "execution_count": 11,
   "metadata": {},
   "outputs": [],
   "source": [
    "titles[\"ratings\"] = pd.to_numeric(titles[\"ratings\"])"
   ]
  },
  {
   "attachments": {},
   "cell_type": "markdown",
   "metadata": {},
   "source": [
    "**Note: We want the search engine to treat all book names the same regardless the capitilization as the underlying concept is the same (Ex. Harry Potter and Harry POTTER are the same book).**"
   ]
  },
  {
   "cell_type": "code",
   "execution_count": 12,
   "metadata": {},
   "outputs": [],
   "source": [
    "titles[\"mod_title\"] = titles[\"title\"].str.replace(\"[^a-zA-Z0-9]\", \"\", regex=True)"
   ]
  },
  {
   "cell_type": "code",
   "execution_count": 13,
   "metadata": {},
   "outputs": [
    {
     "data": {
      "text/html": [
       "<div>\n",
       "<style scoped>\n",
       "    .dataframe tbody tr th:only-of-type {\n",
       "        vertical-align: middle;\n",
       "    }\n",
       "\n",
       "    .dataframe tbody tr th {\n",
       "        vertical-align: top;\n",
       "    }\n",
       "\n",
       "    .dataframe thead th {\n",
       "        text-align: right;\n",
       "    }\n",
       "</style>\n",
       "<table border=\"1\" class=\"dataframe\">\n",
       "  <thead>\n",
       "    <tr style=\"text-align: right;\">\n",
       "      <th></th>\n",
       "      <th>book_id</th>\n",
       "      <th>title</th>\n",
       "      <th>ratings</th>\n",
       "      <th>url</th>\n",
       "      <th>cover_image</th>\n",
       "      <th>mod_title</th>\n",
       "    </tr>\n",
       "  </thead>\n",
       "  <tbody>\n",
       "    <tr>\n",
       "      <th>0</th>\n",
       "      <td>7327624</td>\n",
       "      <td>The Unschooled Wizard (Sun Wolf and Starhawk, ...</td>\n",
       "      <td>140</td>\n",
       "      <td>https://www.goodreads.com/book/show/7327624-th...</td>\n",
       "      <td>https://images.gr-assets.com/books/1304100136m...</td>\n",
       "      <td>TheUnschooledWizardSunWolfandStarhawk12</td>\n",
       "    </tr>\n",
       "    <tr>\n",
       "      <th>1</th>\n",
       "      <td>6066819</td>\n",
       "      <td>Best Friends Forever</td>\n",
       "      <td>51184</td>\n",
       "      <td>https://www.goodreads.com/book/show/6066819-be...</td>\n",
       "      <td>https://s.gr-assets.com/assets/nophoto/book/11...</td>\n",
       "      <td>BestFriendsForever</td>\n",
       "    </tr>\n",
       "    <tr>\n",
       "      <th>2</th>\n",
       "      <td>287141</td>\n",
       "      <td>The Aeneid for Boys and Girls</td>\n",
       "      <td>46</td>\n",
       "      <td>https://www.goodreads.com/book/show/287141.The...</td>\n",
       "      <td>https://s.gr-assets.com/assets/nophoto/book/11...</td>\n",
       "      <td>TheAeneidforBoysandGirls</td>\n",
       "    </tr>\n",
       "    <tr>\n",
       "      <th>3</th>\n",
       "      <td>6066812</td>\n",
       "      <td>All's Fairy in Love and War (Avalon: Web of Ma...</td>\n",
       "      <td>98</td>\n",
       "      <td>https://www.goodreads.com/book/show/6066812-al...</td>\n",
       "      <td>https://images.gr-assets.com/books/1316637798m...</td>\n",
       "      <td>AllsFairyinLoveandWarAvalonWebofMagic8</td>\n",
       "    </tr>\n",
       "    <tr>\n",
       "      <th>4</th>\n",
       "      <td>287149</td>\n",
       "      <td>The Devil's Notebook</td>\n",
       "      <td>986</td>\n",
       "      <td>https://www.goodreads.com/book/show/287149.The...</td>\n",
       "      <td>https://images.gr-assets.com/books/1328768789m...</td>\n",
       "      <td>TheDevilsNotebook</td>\n",
       "    </tr>\n",
       "    <tr>\n",
       "      <th>...</th>\n",
       "      <td>...</td>\n",
       "      <td>...</td>\n",
       "      <td>...</td>\n",
       "      <td>...</td>\n",
       "      <td>...</td>\n",
       "      <td>...</td>\n",
       "    </tr>\n",
       "    <tr>\n",
       "      <th>1308952</th>\n",
       "      <td>17805813</td>\n",
       "      <td>Ondine (Ondine Quartet, #0.5)</td>\n",
       "      <td>327</td>\n",
       "      <td>https://www.goodreads.com/book/show/17805813-o...</td>\n",
       "      <td>https://images.gr-assets.com/books/1379766592m...</td>\n",
       "      <td>OndineOndineQuartet05</td>\n",
       "    </tr>\n",
       "    <tr>\n",
       "      <th>1308953</th>\n",
       "      <td>331839</td>\n",
       "      <td>Jacqueline Kennedy Onassis: Friend of the Arts</td>\n",
       "      <td>18</td>\n",
       "      <td>https://www.goodreads.com/book/show/331839.Jac...</td>\n",
       "      <td>https://s.gr-assets.com/assets/nophoto/book/11...</td>\n",
       "      <td>JacquelineKennedyOnassisFriendoftheArts</td>\n",
       "    </tr>\n",
       "    <tr>\n",
       "      <th>1308954</th>\n",
       "      <td>2685097</td>\n",
       "      <td>The Spaniard's Blackmailed Bride</td>\n",
       "      <td>112</td>\n",
       "      <td>https://www.goodreads.com/book/show/2685097-th...</td>\n",
       "      <td>https://s.gr-assets.com/assets/nophoto/book/11...</td>\n",
       "      <td>TheSpaniardsBlackmailedBride</td>\n",
       "    </tr>\n",
       "    <tr>\n",
       "      <th>1308955</th>\n",
       "      <td>2342551</td>\n",
       "      <td>The Children's Classic Poetry Collection</td>\n",
       "      <td>36</td>\n",
       "      <td>https://www.goodreads.com/book/show/2342551.Th...</td>\n",
       "      <td>https://s.gr-assets.com/assets/nophoto/book/11...</td>\n",
       "      <td>TheChildrensClassicPoetryCollection</td>\n",
       "    </tr>\n",
       "    <tr>\n",
       "      <th>1308956</th>\n",
       "      <td>22017381</td>\n",
       "      <td>101 Nights: Volume One (101 Nights, #1-3)</td>\n",
       "      <td>70</td>\n",
       "      <td>https://www.goodreads.com/book/show/22017381-1...</td>\n",
       "      <td>https://images.gr-assets.com/books/1398621236m...</td>\n",
       "      <td>101NightsVolumeOne101Nights13</td>\n",
       "    </tr>\n",
       "  </tbody>\n",
       "</table>\n",
       "<p>1308957 rows × 6 columns</p>\n",
       "</div>"
      ],
      "text/plain": [
       "          book_id                                              title  ratings   \n",
       "0         7327624  The Unschooled Wizard (Sun Wolf and Starhawk, ...      140  \\\n",
       "1         6066819                               Best Friends Forever    51184   \n",
       "2          287141                      The Aeneid for Boys and Girls       46   \n",
       "3         6066812  All's Fairy in Love and War (Avalon: Web of Ma...       98   \n",
       "4          287149                               The Devil's Notebook      986   \n",
       "...           ...                                                ...      ...   \n",
       "1308952  17805813                      Ondine (Ondine Quartet, #0.5)      327   \n",
       "1308953    331839     Jacqueline Kennedy Onassis: Friend of the Arts       18   \n",
       "1308954   2685097                   The Spaniard's Blackmailed Bride      112   \n",
       "1308955   2342551           The Children's Classic Poetry Collection       36   \n",
       "1308956  22017381          101 Nights: Volume One (101 Nights, #1-3)       70   \n",
       "\n",
       "                                                       url   \n",
       "0        https://www.goodreads.com/book/show/7327624-th...  \\\n",
       "1        https://www.goodreads.com/book/show/6066819-be...   \n",
       "2        https://www.goodreads.com/book/show/287141.The...   \n",
       "3        https://www.goodreads.com/book/show/6066812-al...   \n",
       "4        https://www.goodreads.com/book/show/287149.The...   \n",
       "...                                                    ...   \n",
       "1308952  https://www.goodreads.com/book/show/17805813-o...   \n",
       "1308953  https://www.goodreads.com/book/show/331839.Jac...   \n",
       "1308954  https://www.goodreads.com/book/show/2685097-th...   \n",
       "1308955  https://www.goodreads.com/book/show/2342551.Th...   \n",
       "1308956  https://www.goodreads.com/book/show/22017381-1...   \n",
       "\n",
       "                                               cover_image   \n",
       "0        https://images.gr-assets.com/books/1304100136m...  \\\n",
       "1        https://s.gr-assets.com/assets/nophoto/book/11...   \n",
       "2        https://s.gr-assets.com/assets/nophoto/book/11...   \n",
       "3        https://images.gr-assets.com/books/1316637798m...   \n",
       "4        https://images.gr-assets.com/books/1328768789m...   \n",
       "...                                                    ...   \n",
       "1308952  https://images.gr-assets.com/books/1379766592m...   \n",
       "1308953  https://s.gr-assets.com/assets/nophoto/book/11...   \n",
       "1308954  https://s.gr-assets.com/assets/nophoto/book/11...   \n",
       "1308955  https://s.gr-assets.com/assets/nophoto/book/11...   \n",
       "1308956  https://images.gr-assets.com/books/1398621236m...   \n",
       "\n",
       "                                       mod_title  \n",
       "0        TheUnschooledWizardSunWolfandStarhawk12  \n",
       "1                             BestFriendsForever  \n",
       "2                       TheAeneidforBoysandGirls  \n",
       "3         AllsFairyinLoveandWarAvalonWebofMagic8  \n",
       "4                              TheDevilsNotebook  \n",
       "...                                          ...  \n",
       "1308952                    OndineOndineQuartet05  \n",
       "1308953  JacquelineKennedyOnassisFriendoftheArts  \n",
       "1308954             TheSpaniardsBlackmailedBride  \n",
       "1308955      TheChildrensClassicPoetryCollection  \n",
       "1308956            101NightsVolumeOne101Nights13  \n",
       "\n",
       "[1308957 rows x 6 columns]"
      ]
     },
     "execution_count": 13,
     "metadata": {},
     "output_type": "execute_result"
    }
   ],
   "source": [
    "titles"
   ]
  },
  {
   "cell_type": "code",
   "execution_count": 14,
   "metadata": {},
   "outputs": [],
   "source": [
    "titles[\"mod_title\"] = titles[\"mod_title\"].str.lower()"
   ]
  },
  {
   "cell_type": "code",
   "execution_count": 15,
   "metadata": {},
   "outputs": [],
   "source": [
    "titles[\"mod_title\"] = titles[\"mod_title\"].str.replace(\"\\s+\", \" \", regex=True)"
   ]
  },
  {
   "cell_type": "code",
   "execution_count": 16,
   "metadata": {},
   "outputs": [
    {
     "data": {
      "text/html": [
       "<div>\n",
       "<style scoped>\n",
       "    .dataframe tbody tr th:only-of-type {\n",
       "        vertical-align: middle;\n",
       "    }\n",
       "\n",
       "    .dataframe tbody tr th {\n",
       "        vertical-align: top;\n",
       "    }\n",
       "\n",
       "    .dataframe thead th {\n",
       "        text-align: right;\n",
       "    }\n",
       "</style>\n",
       "<table border=\"1\" class=\"dataframe\">\n",
       "  <thead>\n",
       "    <tr style=\"text-align: right;\">\n",
       "      <th></th>\n",
       "      <th>book_id</th>\n",
       "      <th>title</th>\n",
       "      <th>ratings</th>\n",
       "      <th>url</th>\n",
       "      <th>cover_image</th>\n",
       "      <th>mod_title</th>\n",
       "    </tr>\n",
       "  </thead>\n",
       "  <tbody>\n",
       "    <tr>\n",
       "      <th>0</th>\n",
       "      <td>7327624</td>\n",
       "      <td>The Unschooled Wizard (Sun Wolf and Starhawk, ...</td>\n",
       "      <td>140</td>\n",
       "      <td>https://www.goodreads.com/book/show/7327624-th...</td>\n",
       "      <td>https://images.gr-assets.com/books/1304100136m...</td>\n",
       "      <td>theunschooledwizardsunwolfandstarhawk12</td>\n",
       "    </tr>\n",
       "    <tr>\n",
       "      <th>1</th>\n",
       "      <td>6066819</td>\n",
       "      <td>Best Friends Forever</td>\n",
       "      <td>51184</td>\n",
       "      <td>https://www.goodreads.com/book/show/6066819-be...</td>\n",
       "      <td>https://s.gr-assets.com/assets/nophoto/book/11...</td>\n",
       "      <td>bestfriendsforever</td>\n",
       "    </tr>\n",
       "    <tr>\n",
       "      <th>2</th>\n",
       "      <td>287141</td>\n",
       "      <td>The Aeneid for Boys and Girls</td>\n",
       "      <td>46</td>\n",
       "      <td>https://www.goodreads.com/book/show/287141.The...</td>\n",
       "      <td>https://s.gr-assets.com/assets/nophoto/book/11...</td>\n",
       "      <td>theaeneidforboysandgirls</td>\n",
       "    </tr>\n",
       "    <tr>\n",
       "      <th>3</th>\n",
       "      <td>6066812</td>\n",
       "      <td>All's Fairy in Love and War (Avalon: Web of Ma...</td>\n",
       "      <td>98</td>\n",
       "      <td>https://www.goodreads.com/book/show/6066812-al...</td>\n",
       "      <td>https://images.gr-assets.com/books/1316637798m...</td>\n",
       "      <td>allsfairyinloveandwaravalonwebofmagic8</td>\n",
       "    </tr>\n",
       "    <tr>\n",
       "      <th>4</th>\n",
       "      <td>287149</td>\n",
       "      <td>The Devil's Notebook</td>\n",
       "      <td>986</td>\n",
       "      <td>https://www.goodreads.com/book/show/287149.The...</td>\n",
       "      <td>https://images.gr-assets.com/books/1328768789m...</td>\n",
       "      <td>thedevilsnotebook</td>\n",
       "    </tr>\n",
       "    <tr>\n",
       "      <th>...</th>\n",
       "      <td>...</td>\n",
       "      <td>...</td>\n",
       "      <td>...</td>\n",
       "      <td>...</td>\n",
       "      <td>...</td>\n",
       "      <td>...</td>\n",
       "    </tr>\n",
       "    <tr>\n",
       "      <th>1308952</th>\n",
       "      <td>17805813</td>\n",
       "      <td>Ondine (Ondine Quartet, #0.5)</td>\n",
       "      <td>327</td>\n",
       "      <td>https://www.goodreads.com/book/show/17805813-o...</td>\n",
       "      <td>https://images.gr-assets.com/books/1379766592m...</td>\n",
       "      <td>ondineondinequartet05</td>\n",
       "    </tr>\n",
       "    <tr>\n",
       "      <th>1308953</th>\n",
       "      <td>331839</td>\n",
       "      <td>Jacqueline Kennedy Onassis: Friend of the Arts</td>\n",
       "      <td>18</td>\n",
       "      <td>https://www.goodreads.com/book/show/331839.Jac...</td>\n",
       "      <td>https://s.gr-assets.com/assets/nophoto/book/11...</td>\n",
       "      <td>jacquelinekennedyonassisfriendofthearts</td>\n",
       "    </tr>\n",
       "    <tr>\n",
       "      <th>1308954</th>\n",
       "      <td>2685097</td>\n",
       "      <td>The Spaniard's Blackmailed Bride</td>\n",
       "      <td>112</td>\n",
       "      <td>https://www.goodreads.com/book/show/2685097-th...</td>\n",
       "      <td>https://s.gr-assets.com/assets/nophoto/book/11...</td>\n",
       "      <td>thespaniardsblackmailedbride</td>\n",
       "    </tr>\n",
       "    <tr>\n",
       "      <th>1308955</th>\n",
       "      <td>2342551</td>\n",
       "      <td>The Children's Classic Poetry Collection</td>\n",
       "      <td>36</td>\n",
       "      <td>https://www.goodreads.com/book/show/2342551.Th...</td>\n",
       "      <td>https://s.gr-assets.com/assets/nophoto/book/11...</td>\n",
       "      <td>thechildrensclassicpoetrycollection</td>\n",
       "    </tr>\n",
       "    <tr>\n",
       "      <th>1308956</th>\n",
       "      <td>22017381</td>\n",
       "      <td>101 Nights: Volume One (101 Nights, #1-3)</td>\n",
       "      <td>70</td>\n",
       "      <td>https://www.goodreads.com/book/show/22017381-1...</td>\n",
       "      <td>https://images.gr-assets.com/books/1398621236m...</td>\n",
       "      <td>101nightsvolumeone101nights13</td>\n",
       "    </tr>\n",
       "  </tbody>\n",
       "</table>\n",
       "<p>1308957 rows × 6 columns</p>\n",
       "</div>"
      ],
      "text/plain": [
       "          book_id                                              title  ratings   \n",
       "0         7327624  The Unschooled Wizard (Sun Wolf and Starhawk, ...      140  \\\n",
       "1         6066819                               Best Friends Forever    51184   \n",
       "2          287141                      The Aeneid for Boys and Girls       46   \n",
       "3         6066812  All's Fairy in Love and War (Avalon: Web of Ma...       98   \n",
       "4          287149                               The Devil's Notebook      986   \n",
       "...           ...                                                ...      ...   \n",
       "1308952  17805813                      Ondine (Ondine Quartet, #0.5)      327   \n",
       "1308953    331839     Jacqueline Kennedy Onassis: Friend of the Arts       18   \n",
       "1308954   2685097                   The Spaniard's Blackmailed Bride      112   \n",
       "1308955   2342551           The Children's Classic Poetry Collection       36   \n",
       "1308956  22017381          101 Nights: Volume One (101 Nights, #1-3)       70   \n",
       "\n",
       "                                                       url   \n",
       "0        https://www.goodreads.com/book/show/7327624-th...  \\\n",
       "1        https://www.goodreads.com/book/show/6066819-be...   \n",
       "2        https://www.goodreads.com/book/show/287141.The...   \n",
       "3        https://www.goodreads.com/book/show/6066812-al...   \n",
       "4        https://www.goodreads.com/book/show/287149.The...   \n",
       "...                                                    ...   \n",
       "1308952  https://www.goodreads.com/book/show/17805813-o...   \n",
       "1308953  https://www.goodreads.com/book/show/331839.Jac...   \n",
       "1308954  https://www.goodreads.com/book/show/2685097-th...   \n",
       "1308955  https://www.goodreads.com/book/show/2342551.Th...   \n",
       "1308956  https://www.goodreads.com/book/show/22017381-1...   \n",
       "\n",
       "                                               cover_image   \n",
       "0        https://images.gr-assets.com/books/1304100136m...  \\\n",
       "1        https://s.gr-assets.com/assets/nophoto/book/11...   \n",
       "2        https://s.gr-assets.com/assets/nophoto/book/11...   \n",
       "3        https://images.gr-assets.com/books/1316637798m...   \n",
       "4        https://images.gr-assets.com/books/1328768789m...   \n",
       "...                                                    ...   \n",
       "1308952  https://images.gr-assets.com/books/1379766592m...   \n",
       "1308953  https://s.gr-assets.com/assets/nophoto/book/11...   \n",
       "1308954  https://s.gr-assets.com/assets/nophoto/book/11...   \n",
       "1308955  https://s.gr-assets.com/assets/nophoto/book/11...   \n",
       "1308956  https://images.gr-assets.com/books/1398621236m...   \n",
       "\n",
       "                                       mod_title  \n",
       "0        theunschooledwizardsunwolfandstarhawk12  \n",
       "1                             bestfriendsforever  \n",
       "2                       theaeneidforboysandgirls  \n",
       "3         allsfairyinloveandwaravalonwebofmagic8  \n",
       "4                              thedevilsnotebook  \n",
       "...                                          ...  \n",
       "1308952                    ondineondinequartet05  \n",
       "1308953  jacquelinekennedyonassisfriendofthearts  \n",
       "1308954             thespaniardsblackmailedbride  \n",
       "1308955      thechildrensclassicpoetrycollection  \n",
       "1308956            101nightsvolumeone101nights13  \n",
       "\n",
       "[1308957 rows x 6 columns]"
      ]
     },
     "execution_count": 16,
     "metadata": {},
     "output_type": "execute_result"
    }
   ],
   "source": [
    "titles"
   ]
  },
  {
   "attachments": {},
   "cell_type": "markdown",
   "metadata": {},
   "source": [
    "**Remove any titles which are null.**"
   ]
  },
  {
   "cell_type": "code",
   "execution_count": 17,
   "metadata": {},
   "outputs": [],
   "source": [
    "titles = titles[titles[\"mod_title\"].str.len() > 0]"
   ]
  },
  {
   "cell_type": "code",
   "execution_count": 18,
   "metadata": {},
   "outputs": [],
   "source": [
    "titles.to_json(\"books_titles.json\")"
   ]
  },
  {
   "cell_type": "code",
   "execution_count": 19,
   "metadata": {},
   "outputs": [
    {
     "data": {
      "text/html": [
       "<div>\n",
       "<style scoped>\n",
       "    .dataframe tbody tr th:only-of-type {\n",
       "        vertical-align: middle;\n",
       "    }\n",
       "\n",
       "    .dataframe tbody tr th {\n",
       "        vertical-align: top;\n",
       "    }\n",
       "\n",
       "    .dataframe thead th {\n",
       "        text-align: right;\n",
       "    }\n",
       "</style>\n",
       "<table border=\"1\" class=\"dataframe\">\n",
       "  <thead>\n",
       "    <tr style=\"text-align: right;\">\n",
       "      <th></th>\n",
       "      <th>book_id</th>\n",
       "      <th>title</th>\n",
       "      <th>ratings</th>\n",
       "      <th>url</th>\n",
       "      <th>cover_image</th>\n",
       "      <th>mod_title</th>\n",
       "    </tr>\n",
       "  </thead>\n",
       "  <tbody>\n",
       "    <tr>\n",
       "      <th>0</th>\n",
       "      <td>7327624</td>\n",
       "      <td>The Unschooled Wizard (Sun Wolf and Starhawk, ...</td>\n",
       "      <td>140</td>\n",
       "      <td>https://www.goodreads.com/book/show/7327624-th...</td>\n",
       "      <td>https://images.gr-assets.com/books/1304100136m...</td>\n",
       "      <td>theunschooledwizardsunwolfandstarhawk12</td>\n",
       "    </tr>\n",
       "    <tr>\n",
       "      <th>1</th>\n",
       "      <td>6066819</td>\n",
       "      <td>Best Friends Forever</td>\n",
       "      <td>51184</td>\n",
       "      <td>https://www.goodreads.com/book/show/6066819-be...</td>\n",
       "      <td>https://s.gr-assets.com/assets/nophoto/book/11...</td>\n",
       "      <td>bestfriendsforever</td>\n",
       "    </tr>\n",
       "    <tr>\n",
       "      <th>2</th>\n",
       "      <td>287141</td>\n",
       "      <td>The Aeneid for Boys and Girls</td>\n",
       "      <td>46</td>\n",
       "      <td>https://www.goodreads.com/book/show/287141.The...</td>\n",
       "      <td>https://s.gr-assets.com/assets/nophoto/book/11...</td>\n",
       "      <td>theaeneidforboysandgirls</td>\n",
       "    </tr>\n",
       "    <tr>\n",
       "      <th>3</th>\n",
       "      <td>6066812</td>\n",
       "      <td>All's Fairy in Love and War (Avalon: Web of Ma...</td>\n",
       "      <td>98</td>\n",
       "      <td>https://www.goodreads.com/book/show/6066812-al...</td>\n",
       "      <td>https://images.gr-assets.com/books/1316637798m...</td>\n",
       "      <td>allsfairyinloveandwaravalonwebofmagic8</td>\n",
       "    </tr>\n",
       "    <tr>\n",
       "      <th>4</th>\n",
       "      <td>287149</td>\n",
       "      <td>The Devil's Notebook</td>\n",
       "      <td>986</td>\n",
       "      <td>https://www.goodreads.com/book/show/287149.The...</td>\n",
       "      <td>https://images.gr-assets.com/books/1328768789m...</td>\n",
       "      <td>thedevilsnotebook</td>\n",
       "    </tr>\n",
       "    <tr>\n",
       "      <th>...</th>\n",
       "      <td>...</td>\n",
       "      <td>...</td>\n",
       "      <td>...</td>\n",
       "      <td>...</td>\n",
       "      <td>...</td>\n",
       "      <td>...</td>\n",
       "    </tr>\n",
       "    <tr>\n",
       "      <th>1308952</th>\n",
       "      <td>17805813</td>\n",
       "      <td>Ondine (Ondine Quartet, #0.5)</td>\n",
       "      <td>327</td>\n",
       "      <td>https://www.goodreads.com/book/show/17805813-o...</td>\n",
       "      <td>https://images.gr-assets.com/books/1379766592m...</td>\n",
       "      <td>ondineondinequartet05</td>\n",
       "    </tr>\n",
       "    <tr>\n",
       "      <th>1308953</th>\n",
       "      <td>331839</td>\n",
       "      <td>Jacqueline Kennedy Onassis: Friend of the Arts</td>\n",
       "      <td>18</td>\n",
       "      <td>https://www.goodreads.com/book/show/331839.Jac...</td>\n",
       "      <td>https://s.gr-assets.com/assets/nophoto/book/11...</td>\n",
       "      <td>jacquelinekennedyonassisfriendofthearts</td>\n",
       "    </tr>\n",
       "    <tr>\n",
       "      <th>1308954</th>\n",
       "      <td>2685097</td>\n",
       "      <td>The Spaniard's Blackmailed Bride</td>\n",
       "      <td>112</td>\n",
       "      <td>https://www.goodreads.com/book/show/2685097-th...</td>\n",
       "      <td>https://s.gr-assets.com/assets/nophoto/book/11...</td>\n",
       "      <td>thespaniardsblackmailedbride</td>\n",
       "    </tr>\n",
       "    <tr>\n",
       "      <th>1308955</th>\n",
       "      <td>2342551</td>\n",
       "      <td>The Children's Classic Poetry Collection</td>\n",
       "      <td>36</td>\n",
       "      <td>https://www.goodreads.com/book/show/2342551.Th...</td>\n",
       "      <td>https://s.gr-assets.com/assets/nophoto/book/11...</td>\n",
       "      <td>thechildrensclassicpoetrycollection</td>\n",
       "    </tr>\n",
       "    <tr>\n",
       "      <th>1308956</th>\n",
       "      <td>22017381</td>\n",
       "      <td>101 Nights: Volume One (101 Nights, #1-3)</td>\n",
       "      <td>70</td>\n",
       "      <td>https://www.goodreads.com/book/show/22017381-1...</td>\n",
       "      <td>https://images.gr-assets.com/books/1398621236m...</td>\n",
       "      <td>101nightsvolumeone101nights13</td>\n",
       "    </tr>\n",
       "  </tbody>\n",
       "</table>\n",
       "<p>1264933 rows × 6 columns</p>\n",
       "</div>"
      ],
      "text/plain": [
       "          book_id                                              title  ratings   \n",
       "0         7327624  The Unschooled Wizard (Sun Wolf and Starhawk, ...      140  \\\n",
       "1         6066819                               Best Friends Forever    51184   \n",
       "2          287141                      The Aeneid for Boys and Girls       46   \n",
       "3         6066812  All's Fairy in Love and War (Avalon: Web of Ma...       98   \n",
       "4          287149                               The Devil's Notebook      986   \n",
       "...           ...                                                ...      ...   \n",
       "1308952  17805813                      Ondine (Ondine Quartet, #0.5)      327   \n",
       "1308953    331839     Jacqueline Kennedy Onassis: Friend of the Arts       18   \n",
       "1308954   2685097                   The Spaniard's Blackmailed Bride      112   \n",
       "1308955   2342551           The Children's Classic Poetry Collection       36   \n",
       "1308956  22017381          101 Nights: Volume One (101 Nights, #1-3)       70   \n",
       "\n",
       "                                                       url   \n",
       "0        https://www.goodreads.com/book/show/7327624-th...  \\\n",
       "1        https://www.goodreads.com/book/show/6066819-be...   \n",
       "2        https://www.goodreads.com/book/show/287141.The...   \n",
       "3        https://www.goodreads.com/book/show/6066812-al...   \n",
       "4        https://www.goodreads.com/book/show/287149.The...   \n",
       "...                                                    ...   \n",
       "1308952  https://www.goodreads.com/book/show/17805813-o...   \n",
       "1308953  https://www.goodreads.com/book/show/331839.Jac...   \n",
       "1308954  https://www.goodreads.com/book/show/2685097-th...   \n",
       "1308955  https://www.goodreads.com/book/show/2342551.Th...   \n",
       "1308956  https://www.goodreads.com/book/show/22017381-1...   \n",
       "\n",
       "                                               cover_image   \n",
       "0        https://images.gr-assets.com/books/1304100136m...  \\\n",
       "1        https://s.gr-assets.com/assets/nophoto/book/11...   \n",
       "2        https://s.gr-assets.com/assets/nophoto/book/11...   \n",
       "3        https://images.gr-assets.com/books/1316637798m...   \n",
       "4        https://images.gr-assets.com/books/1328768789m...   \n",
       "...                                                    ...   \n",
       "1308952  https://images.gr-assets.com/books/1379766592m...   \n",
       "1308953  https://s.gr-assets.com/assets/nophoto/book/11...   \n",
       "1308954  https://s.gr-assets.com/assets/nophoto/book/11...   \n",
       "1308955  https://s.gr-assets.com/assets/nophoto/book/11...   \n",
       "1308956  https://images.gr-assets.com/books/1398621236m...   \n",
       "\n",
       "                                       mod_title  \n",
       "0        theunschooledwizardsunwolfandstarhawk12  \n",
       "1                             bestfriendsforever  \n",
       "2                       theaeneidforboysandgirls  \n",
       "3         allsfairyinloveandwaravalonwebofmagic8  \n",
       "4                              thedevilsnotebook  \n",
       "...                                          ...  \n",
       "1308952                    ondineondinequartet05  \n",
       "1308953  jacquelinekennedyonassisfriendofthearts  \n",
       "1308954             thespaniardsblackmailedbride  \n",
       "1308955      thechildrensclassicpoetrycollection  \n",
       "1308956            101nightsvolumeone101nights13  \n",
       "\n",
       "[1264933 rows x 6 columns]"
      ]
     },
     "execution_count": 19,
     "metadata": {},
     "output_type": "execute_result"
    }
   ],
   "source": [
    "titles"
   ]
  },
  {
   "attachments": {},
   "cell_type": "markdown",
   "metadata": {},
   "source": [
    "**4. Building a book search engine**"
   ]
  },
  {
   "attachments": {},
   "cell_type": "markdown",
   "metadata": {},
   "source": [
    "**Note 1: Term Frequency Inverse Document Frequency (tf-idf): [Matrix]: In order to serach through the results - thte titles need to turn into a set of numbers then the computer can macth thats set of numebrs to a search quesry which is also a set of numbers and then figure out how simialr they are.**"
   ]
  },
  {
   "attachments": {},
   "cell_type": "markdown",
   "metadata": {},
   "source": [
    "**Note 2: All tf-idf does is takes all of the unique words across of all the titles and turns each one into a column in the matrix.**"
   ]
  },
  {
   "attachments": {},
   "cell_type": "markdown",
   "metadata": {},
   "source": [
    "**Note 3: Then we construct an inverse document frequency matrix - The idea is to minimise the impact of very common words - The log of the number of titles divided by the number of titles that particular word appeared in and then you multiply those together to get your tf-if matrix (That is just the term frequencies multiplied by the inverse document frequences).**"
   ]
  },
  {
   "attachments": {},
   "cell_type": "markdown",
   "metadata": {},
   "source": [
    "**sklearn is a machine learning librairy for python.**"
   ]
  },
  {
   "attachments": {},
   "cell_type": "markdown",
   "metadata": {},
   "source": [
    "**The vectorizer takes a list of strings and turns it into that tf-idf matrix.vectorizder.fit_transform is the tf-idf**"
   ]
  },
  {
   "cell_type": "code",
   "execution_count": 20,
   "metadata": {},
   "outputs": [],
   "source": [
    "from sklearn.feature_extraction.text import TfidfVectorizer\n",
    "vectorizer = TfidfVectorizer()\n",
    "\n",
    "tfidf = vectorizer.fit_transform(titles[\"mod_title\"])"
   ]
  }
 ],
 "metadata": {
  "kernelspec": {
   "display_name": "britney-kernel",
   "language": "python",
   "name": "britney-kernel"
  },
  "language_info": {
   "codemirror_mode": {
    "name": "ipython",
    "version": 3
   },
   "file_extension": ".py",
   "mimetype": "text/x-python",
   "name": "python",
   "nbconvert_exporter": "python",
   "pygments_lexer": "ipython3",
   "version": "3.11.1"
  },
  "orig_nbformat": 4
 },
 "nbformat": 4,
 "nbformat_minor": 2
}
